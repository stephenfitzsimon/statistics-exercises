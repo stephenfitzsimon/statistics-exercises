{
 "cells": [
  {
   "cell_type": "markdown",
   "id": "771d0ac1",
   "metadata": {},
   "source": [
    "## Simulation exercises"
   ]
  },
  {
   "cell_type": "code",
   "execution_count": 2,
   "id": "12d87ea1",
   "metadata": {},
   "outputs": [],
   "source": [
    "import numpy as np\n",
    "import pandas as pd\n",
    "\n",
    "np.random.seed(29)"
   ]
  },
  {
   "cell_type": "markdown",
   "id": "a9563725",
   "metadata": {},
   "source": [
    "1. How likely is it that you roll doubles when rolling two dice?"
   ]
  },
  {
   "cell_type": "code",
   "execution_count": 166,
   "id": "7cff0deb",
   "metadata": {},
   "outputs": [
    {
     "data": {
      "text/plain": [
       "array([[3, 2, 4, ..., 3, 1, 1],\n",
       "       [6, 5, 2, ..., 4, 3, 4]])"
      ]
     },
     "execution_count": 166,
     "metadata": {},
     "output_type": "execute_result"
    }
   ],
   "source": [
    "# generate dice rolls\n",
    "n_trials = 10_000\n",
    "n_dice = 2\n",
    "\n",
    "rolls = np.random.choice([x for x in range(1,7)], n_trials*n_dice)\n",
    "rolls = rolls.reshape(n_dice, n_trials)\n",
    "\n",
    "rolls #this represents the roll as two parallel arrays"
   ]
  },
  {
   "cell_type": "code",
   "execution_count": 167,
   "id": "3a9f83f5",
   "metadata": {},
   "outputs": [],
   "source": [
    "doubles = rolls[0] == rolls[1]"
   ]
  },
  {
   "cell_type": "code",
   "execution_count": 168,
   "id": "7193ada8",
   "metadata": {},
   "outputs": [
    {
     "data": {
      "text/plain": [
       "0.1613"
      ]
     },
     "execution_count": 168,
     "metadata": {},
     "output_type": "execute_result"
    }
   ],
   "source": [
    "#take the mean to get the percentage of doubles\n",
    "doubles.mean()"
   ]
  },
  {
   "cell_type": "markdown",
   "id": "ce14c821",
   "metadata": {},
   "source": [
    "2. If you flip 8 coins, what is the probability of getting exactly 3 heads? What is the probability of getting more than 3 heads?"
   ]
  },
  {
   "cell_type": "code",
   "execution_count": 245,
   "id": "a3484ebe",
   "metadata": {},
   "outputs": [
    {
     "data": {
      "text/plain": [
       "array([[0, 1, 0, ..., 0, 0, 0],\n",
       "       [1, 1, 1, ..., 1, 1, 0],\n",
       "       [0, 0, 1, ..., 1, 0, 0],\n",
       "       ...,\n",
       "       [1, 0, 1, ..., 1, 1, 1],\n",
       "       [1, 1, 0, ..., 0, 1, 1],\n",
       "       [0, 0, 1, ..., 1, 1, 1]])"
      ]
     },
     "execution_count": 245,
     "metadata": {},
     "output_type": "execute_result"
    }
   ],
   "source": [
    "#simulate the coin flip a few thousand times\n",
    "# let the heads be represented as 1\n",
    "n_flip = 10_000\n",
    "coins = 8\n",
    "\n",
    "flips = np.random.choice([x for x in range(2)], n_flip*coins)\n",
    "flips = flips.reshape(n_flip, coins)\n",
    "\n",
    "flips"
   ]
  },
  {
   "cell_type": "code",
   "execution_count": 241,
   "id": "c595cad1",
   "metadata": {},
   "outputs": [],
   "source": [
    "heads_per_flip = flips.sum(axis=1)"
   ]
  },
  {
   "cell_type": "code",
   "execution_count": 242,
   "id": "c1d0fb1d",
   "metadata": {},
   "outputs": [
    {
     "data": {
      "text/plain": [
       "0.2203"
      ]
     },
     "execution_count": 242,
     "metadata": {},
     "output_type": "execute_result"
    }
   ],
   "source": [
    "#a. number of rolls with 3 heads\n",
    "(heads_per_flip == 3).mean()"
   ]
  },
  {
   "cell_type": "code",
   "execution_count": 243,
   "id": "b9574e94",
   "metadata": {},
   "outputs": [
    {
     "data": {
      "text/plain": [
       "0.6355"
      ]
     },
     "execution_count": 243,
     "metadata": {},
     "output_type": "execute_result"
    }
   ],
   "source": [
    "#b. number of rolls with more than three heads\n",
    "(heads_per_flip > 3).mean()"
   ]
  },
  {
   "cell_type": "markdown",
   "id": "3d7c1794",
   "metadata": {},
   "source": [
    "3. There are approximitely 3 web development cohorts for every 1 data science cohort at Codeup. Assuming that Codeup randomly selects an alumni to put on a billboard, what are the odds that the two billboards I drive past both have data science students on them?"
   ]
  },
  {
   "cell_type": "code",
   "execution_count": 261,
   "id": "b880aa82",
   "metadata": {},
   "outputs": [
    {
     "data": {
      "text/plain": [
       "array([[0.85425235, 0.13785384, 0.66182168, ..., 0.12709319, 0.40816526,\n",
       "        0.6542652 ],\n",
       "       [0.25960736, 0.74486039, 0.87969511, ..., 0.78079438, 0.06388333,\n",
       "        0.8315508 ]])"
      ]
     },
     "execution_count": 261,
     "metadata": {},
     "output_type": "execute_result"
    }
   ],
   "source": [
    "ds_odds = 0.25\n",
    "# run a simulation of 10_000 ads\n",
    "n_ads = 10**6\n",
    "n_drivebys = 2\n",
    "\n",
    "#two parallel arrays\n",
    "data = np.random.random((n_drivebys, n_ads))\n",
    "data"
   ]
  },
  {
   "cell_type": "code",
   "execution_count": 262,
   "id": "b6945fa1",
   "metadata": {},
   "outputs": [
    {
     "data": {
      "text/plain": [
       "0.062289"
      ]
     },
     "execution_count": 262,
     "metadata": {},
     "output_type": "execute_result"
    }
   ],
   "source": [
    "((data[0] <= ds_odds) & (data[1] <= ds_odds)).mean()"
   ]
  },
  {
   "cell_type": "markdown",
   "id": "565bdc1f",
   "metadata": {},
   "source": [
    "4. Codeup students buy, on average, 3 poptart packages with a standard deviation of 1.5 a day from the snack vending machine. If on monday the machine is restocked with 17 poptart packages, how likely is it that I will be able to buy some poptarts on Friday afternoon? (Remember, if you have mean and standard deviation, use the np.random.normal)"
   ]
  },
  {
   "cell_type": "code",
   "execution_count": 376,
   "id": "2bb81f9a",
   "metadata": {},
   "outputs": [],
   "source": [
    "days_per_week = 5\n",
    "weeks_to_simulate = 10_000\n",
    "simulations = np.random.normal(3, 1.5, (weeks_to_simulate, days_per_week))"
   ]
  },
  {
   "cell_type": "code",
   "execution_count": 377,
   "id": "5b45f15f",
   "metadata": {},
   "outputs": [
    {
     "data": {
      "text/plain": [
       "0.7244"
      ]
     },
     "execution_count": 377,
     "metadata": {},
     "output_type": "execute_result"
    }
   ],
   "source": [
    "(simulations.sum(axis=1) < 17).mean()"
   ]
  },
  {
   "cell_type": "markdown",
   "id": "64e9b490",
   "metadata": {},
   "source": [
    "5. \n",
    "\n",
    "\n",
    "Compare Heights\n",
    "\n",
    "    - Men have an average height of 178 cm and standard deviation of 8cm.\n",
    "    - Women have a mean of 170, sd = 6cm.\n",
    "    - Since you have means and standard deviations, you can use np.random.normal to generate observations.\n",
    "    - If a man and woman are chosen at random, what is the likelihood the woman is taller than the man?\n",
    "\n"
   ]
  },
  {
   "cell_type": "code",
   "execution_count": 203,
   "id": "ae2c2c40",
   "metadata": {},
   "outputs": [],
   "source": [
    "n_choose = 2\n",
    "number_of_pairs = 10_000\n",
    "mens_heights = np.random.normal(178, 8, (number_of_pairs))\n",
    "womens_heights = np.random.normal(170, 6, (number_of_pairs))"
   ]
  },
  {
   "cell_type": "code",
   "execution_count": 204,
   "id": "fcc73b8c",
   "metadata": {},
   "outputs": [
    {
     "data": {
      "text/plain": [
       "0.2154"
      ]
     },
     "execution_count": 204,
     "metadata": {},
     "output_type": "execute_result"
    }
   ],
   "source": [
    "pairs = np.stack((mens_heights, womens_heights))\n",
    "(pairs[0] < pairs [1]).mean()"
   ]
  },
  {
   "cell_type": "markdown",
   "id": "8db2464b",
   "metadata": {},
   "source": [
    "6. \n",
    "\n",
    "\n",
    "When installing anaconda on a student's computer, there's a 1 in 250 chance that the download is corrupted and the installation fails. What are the odds that after having 50 students download anaconda, no one has an installation issue? 100 students?\n",
    "\n",
    "What is the probability that we observe an installation issue within the first 150 students that download anaconda?\n",
    "\n",
    "How likely is it that 450 students all download anaconda without an issue?\n"
   ]
  },
  {
   "cell_type": "code",
   "execution_count": 237,
   "id": "cb047c60",
   "metadata": {},
   "outputs": [
    {
     "data": {
      "text/plain": [
       "array([[0.98298008, 0.54676326, 0.92522503, ..., 0.87024776, 0.68355857,\n",
       "        0.12730155],\n",
       "       [0.83945577, 0.49974993, 0.09158153, ..., 0.34469976, 0.25953574,\n",
       "        0.3594448 ],\n",
       "       [0.64204596, 0.94624976, 0.97094925, ..., 0.83704684, 0.17498806,\n",
       "        0.54654674],\n",
       "       ...,\n",
       "       [0.82856731, 0.39333717, 0.38534737, ..., 0.97772652, 0.28848062,\n",
       "        0.17142751],\n",
       "       [0.57567622, 0.39686719, 0.34115879, ..., 0.42785237, 0.2008449 ,\n",
       "        0.77761522],\n",
       "       [0.48553343, 0.12669893, 0.90853923, ..., 0.6005764 , 0.14012644,\n",
       "        0.38369589]])"
      ]
     },
     "execution_count": 237,
     "metadata": {},
     "output_type": "execute_result"
    }
   ],
   "source": [
    "p_fail = 1/250\n",
    "n_of_students = 50\n",
    "n_simulations = 10_000\n",
    "installs = np.random.random((n_simulations, n_of_students))\n",
    "installs"
   ]
  },
  {
   "cell_type": "code",
   "execution_count": 238,
   "id": "24e5adbb",
   "metadata": {},
   "outputs": [
    {
     "data": {
      "text/plain": [
       "0.8144"
      ]
     },
     "execution_count": 238,
     "metadata": {},
     "output_type": "execute_result"
    }
   ],
   "source": [
    "# probability that a class of 50 has no installation issues\n",
    "fails = (installs < p_fail)\n",
    "(fails.sum(axis = 1) < 1).mean()"
   ]
  },
  {
   "cell_type": "code",
   "execution_count": 239,
   "id": "5d8b09eb",
   "metadata": {},
   "outputs": [
    {
     "data": {
      "text/plain": [
       "0.666"
      ]
     },
     "execution_count": 239,
     "metadata": {},
     "output_type": "execute_result"
    }
   ],
   "source": [
    "# probability that a class of 100 has no installation issues\n",
    "n_of_students = 100\n",
    "n_simulations = 10_000\n",
    "installs = np.random.random((n_simulations, n_of_students))\n",
    "installs\n",
    "\n",
    "fails = (installs < p_fail)\n",
    "(fails.sum(axis = 1) < 1).mean()"
   ]
  },
  {
   "cell_type": "code",
   "execution_count": 254,
   "id": "d42b9851",
   "metadata": {},
   "outputs": [
    {
     "data": {
      "text/plain": [
       "0.4438"
      ]
     },
     "execution_count": 254,
     "metadata": {},
     "output_type": "execute_result"
    }
   ],
   "source": [
    "# probability there is a download issue within the first 150 downloads\n",
    "n_of_students = 150\n",
    "n_simulations = 10_000\n",
    "installs = np.random.random((n_simulations, n_of_students))\n",
    "installs\n",
    "\n",
    "success_installs = (installs > p_fail)\n",
    "(success_installs.sum(axis = 1) < 150).mean()"
   ]
  },
  {
   "cell_type": "code",
   "execution_count": 256,
   "id": "e1943d7d",
   "metadata": {},
   "outputs": [
    {
     "data": {
      "text/plain": [
       "array([[ True,  True,  True, ...,  True,  True,  True],\n",
       "       [ True,  True,  True, ...,  True,  True,  True],\n",
       "       [ True,  True,  True, ...,  True,  True,  True],\n",
       "       ...,\n",
       "       [ True,  True,  True, ...,  True,  True,  True],\n",
       "       [ True,  True,  True, ...,  True,  True,  True],\n",
       "       [ True,  True,  True, ...,  True,  True,  True]])"
      ]
     },
     "execution_count": 256,
     "metadata": {},
     "output_type": "execute_result"
    }
   ],
   "source": [
    "# probability 450 students will install w/o problems\n",
    "n_of_students = 450\n",
    "n_simulations = 10_000\n",
    "installs = np.random.random((n_simulations, n_of_students))\n",
    "installs\n",
    "\n",
    "success_installs = (installs > p_fail)\n",
    "(success_installs.sum(axis = 1) < 450).mean()\n",
    "success_installs"
   ]
  },
  {
   "cell_type": "markdown",
   "id": "af43fb03",
   "metadata": {},
   "source": [
    "7.\n",
    "\n",
    "There's a 70% chance on any given day that there will be at least one food truck at Travis Park. However, you haven't seen a food truck there in 3 days. How unlikely is this?\n",
    "\n",
    "How likely is it that a food truck will show up sometime this week?\n"
   ]
  },
  {
   "cell_type": "code",
   "execution_count": 257,
   "id": "0a821061",
   "metadata": {},
   "outputs": [
    {
     "data": {
      "text/plain": [
       "array([[0.88760839, 0.96248482, 0.01160843],\n",
       "       [0.2000118 , 0.56322203, 0.76017823],\n",
       "       [0.39744404, 0.27734156, 0.24623003],\n",
       "       ...,\n",
       "       [0.27564627, 0.07412439, 0.66291749],\n",
       "       [0.64461413, 0.22018861, 0.65764524],\n",
       "       [0.03073175, 0.53682888, 0.22091196]])"
      ]
     },
     "execution_count": 257,
     "metadata": {},
     "output_type": "execute_result"
    }
   ],
   "source": [
    "fd_prob = 0.7\n",
    "n_days = 3\n",
    "n_simulations = 10_000\n",
    "days_simulations = np.random.random((n_simulations, n_days))\n",
    "days_simulations"
   ]
  },
  {
   "cell_type": "code",
   "execution_count": 305,
   "id": "5b131fff",
   "metadata": {},
   "outputs": [
    {
     "data": {
      "text/plain": [
       "0.0806"
      ]
     },
     "execution_count": 305,
     "metadata": {},
     "output_type": "execute_result"
    }
   ],
   "source": [
    "# how many simulations never had a number < 0.7\n",
    "taco_truck_days = (days_simulations > fd_prob)\n",
    "(taco_truck_days.sum(axis = 1) == 0).mean()"
   ]
  },
  {
   "cell_type": "code",
   "execution_count": 271,
   "id": "d3dc1d25",
   "metadata": {},
   "outputs": [
    {
     "data": {
      "text/plain": [
       "0.9966"
      ]
     },
     "execution_count": 271,
     "metadata": {},
     "output_type": "execute_result"
    }
   ],
   "source": [
    "# probability a truck shows up this week\n",
    "\n",
    "n_days = 7\n",
    "n_simulations = 10_000\n",
    "days_simulations = np.random.random((n_simulations, n_days))\n",
    "days_simulations\n",
    "\n",
    "taco_truck_days = (days_simulations < fd_prob)\n",
    "(taco_truck_days.sum(axis = 1) > 1).mean()"
   ]
  },
  {
   "cell_type": "markdown",
   "id": "506c88a9",
   "metadata": {},
   "source": [
    "8. \n",
    "\n",
    "\n",
    "If 23 people are in the same room, what are the odds that two of them share a birthday? What if it's 20 people? 40?"
   ]
  },
  {
   "cell_type": "code",
   "execution_count": 348,
   "id": "de7a7f64",
   "metadata": {},
   "outputs": [
    {
     "data": {
      "text/plain": [
       "array([[ 33, 348, 152, ..., 341, 310,  71],\n",
       "       [312,  18, 327, ...,  38,  87, 293],\n",
       "       [ 51, 247, 178, ..., 175, 347, 142],\n",
       "       ...,\n",
       "       [164, 140, 315, ..., 279,  33, 249],\n",
       "       [302,   5,   2, ...,  15,  84, 364],\n",
       "       [  7, 280, 364, ...,  87, 214, 150]])"
      ]
     },
     "execution_count": 348,
     "metadata": {},
     "output_type": "execute_result"
    }
   ],
   "source": [
    "n_in_room = 23\n",
    "n_simulations = 10_000\n",
    "\n",
    "#assign a birthday to each person\n",
    "b_days = np.random.choice([x for x in range(1,366)], n_simulations*n_in_room)\n",
    "b_days = b_days.reshape(n_simulations, n_in_room)\n",
    "b_days"
   ]
  },
  {
   "cell_type": "code",
   "execution_count": 356,
   "id": "2ff0bef0",
   "metadata": {},
   "outputs": [
    {
     "data": {
      "text/plain": [
       "0.5222"
      ]
     },
     "execution_count": 356,
     "metadata": {},
     "output_type": "execute_result"
    }
   ],
   "source": [
    "matches = []\n",
    "for row in b_days:\n",
    "    if len(set(row)) < 23 :\n",
    "        matches.append(row)\n",
    "len(matches)/10_000"
   ]
  },
  {
   "cell_type": "code",
   "execution_count": 359,
   "id": "db16cb2d",
   "metadata": {},
   "outputs": [
    {
     "data": {
      "text/plain": [
       "0.4127"
      ]
     },
     "execution_count": 359,
     "metadata": {},
     "output_type": "execute_result"
    }
   ],
   "source": [
    "# if the number of people is 20\n",
    "n_in_room = 20\n",
    "n_simulations = 10_000\n",
    "\n",
    "#assign a birthday to each person\n",
    "b_days = np.random.choice([x for x in range(1,366)], n_simulations*n_in_room)\n",
    "b_days = b_days.reshape(n_simulations, n_in_room)\n",
    "b_days\n",
    "\n",
    "matches = []\n",
    "for row in b_days:\n",
    "    if len(set(row)) < 20 :\n",
    "        matches.append(row)\n",
    "len(matches)/10_000"
   ]
  },
  {
   "cell_type": "code",
   "execution_count": 360,
   "id": "a905440a",
   "metadata": {},
   "outputs": [
    {
     "data": {
      "text/plain": [
       "0.8933"
      ]
     },
     "execution_count": 360,
     "metadata": {},
     "output_type": "execute_result"
    }
   ],
   "source": [
    "# if the number of people is 40\n",
    "n_in_room = 40\n",
    "n_simulations = 10_000\n",
    "\n",
    "#assign a birthday to each person\n",
    "b_days = np.random.choice([x for x in range(1,366)], n_simulations*n_in_room)\n",
    "b_days = b_days.reshape(n_simulations, n_in_room)\n",
    "b_days\n",
    "\n",
    "matches = []\n",
    "for row in b_days:\n",
    "    if len(set(row)) < 40 :\n",
    "        matches.append(row)\n",
    "len(matches)/10_000"
   ]
  },
  {
   "cell_type": "markdown",
   "id": "657798f1",
   "metadata": {},
   "source": [
    "## bonus\n",
    "Mage duel"
   ]
  },
  {
   "cell_type": "code",
   "execution_count": 453,
   "id": "d9a05d78",
   "metadata": {},
   "outputs": [],
   "source": [
    "# make dice\n",
    "n_trials = 10_000\n",
    "mage_1 = np.random.choice(list(range(1,5)), n_trials*6)\n",
    "mage_1 = mage_1.reshape(n_trials, 6)\n",
    "mage_2 = np.random.choice(list(range(1,7)), n_trials*4)\n",
    "mage_2 = mage_2.reshape(n_trials, 4)"
   ]
  },
  {
   "cell_type": "code",
   "execution_count": 454,
   "id": "3a2140c7",
   "metadata": {},
   "outputs": [],
   "source": [
    "#now make an array of the sum of their rows\n",
    "duel = np.stack((mage_1.sum(axis=1), mage_2.sum(axis=1)))"
   ]
  },
  {
   "cell_type": "code",
   "execution_count": 455,
   "id": "ba6ef8d1",
   "metadata": {},
   "outputs": [
    {
     "data": {
      "text/plain": [
       "0.6328"
      ]
     },
     "execution_count": 455,
     "metadata": {},
     "output_type": "execute_result"
    }
   ],
   "source": [
    "# true means mage_1 wins\n",
    "(duel[0] >= duel[1]).mean()"
   ]
  },
  {
   "cell_type": "markdown",
   "id": "62222176",
   "metadata": {},
   "source": [
    "chuck a luck"
   ]
  },
  {
   "cell_type": "code",
   "execution_count": null,
   "id": "1975b01e",
   "metadata": {},
   "outputs": [],
   "source": []
  }
 ],
 "metadata": {
  "kernelspec": {
   "display_name": "Python 3 (ipykernel)",
   "language": "python",
   "name": "python3"
  },
  "language_info": {
   "codemirror_mode": {
    "name": "ipython",
    "version": 3
   },
   "file_extension": ".py",
   "mimetype": "text/x-python",
   "name": "python",
   "nbconvert_exporter": "python",
   "pygments_lexer": "ipython3",
   "version": "3.9.7"
  }
 },
 "nbformat": 4,
 "nbformat_minor": 5
}

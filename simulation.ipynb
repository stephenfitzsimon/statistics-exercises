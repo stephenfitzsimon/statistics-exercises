{
 "cells": [
  {
   "cell_type": "markdown",
   "id": "771d0ac1",
   "metadata": {},
   "source": [
    "## Simulation exercises"
   ]
  },
  {
   "cell_type": "code",
   "execution_count": 2,
   "id": "12d87ea1",
   "metadata": {},
   "outputs": [],
   "source": [
    "import numpy as np\n",
    "import pandas as pd\n",
    "import matplotlib.pyplot as plt\n",
    "\n",
    "np.random.seed(29)"
   ]
  },
  {
   "cell_type": "markdown",
   "id": "a9563725",
   "metadata": {},
   "source": [
    "1. How likely is it that you roll doubles when rolling two dice?"
   ]
  },
  {
   "cell_type": "code",
   "execution_count": 2,
   "id": "7cff0deb",
   "metadata": {},
   "outputs": [
    {
     "data": {
      "text/plain": [
       "array([[6, 4, 5, ..., 2, 3, 3],\n",
       "       [2, 1, 2, ..., 4, 4, 6]])"
      ]
     },
     "execution_count": 2,
     "metadata": {},
     "output_type": "execute_result"
    }
   ],
   "source": [
    "# generate dice rolls\n",
    "n_trials = 10_000\n",
    "n_dice = 2\n",
    "\n",
    "rolls = np.random.choice([x for x in range(1,7)], n_trials*n_dice)\n",
    "rolls = rolls.reshape(n_dice, n_trials)\n",
    "\n",
    "rolls #this represents the roll as two parallel arrays"
   ]
  },
  {
   "cell_type": "code",
   "execution_count": 3,
   "id": "3a9f83f5",
   "metadata": {},
   "outputs": [],
   "source": [
    "doubles = rolls[0] == rolls[1]"
   ]
  },
  {
   "cell_type": "code",
   "execution_count": 4,
   "id": "7193ada8",
   "metadata": {},
   "outputs": [
    {
     "data": {
      "text/plain": [
       "0.1613"
      ]
     },
     "execution_count": 4,
     "metadata": {},
     "output_type": "execute_result"
    }
   ],
   "source": [
    "#take the mean to get the percentage of doubles\n",
    "doubles.mean()"
   ]
  },
  {
   "cell_type": "code",
   "execution_count": 455,
   "id": "d60d6aa3",
   "metadata": {},
   "outputs": [
    {
     "data": {
      "text/html": [
       "<div>\n",
       "<style scoped>\n",
       "    .dataframe tbody tr th:only-of-type {\n",
       "        vertical-align: middle;\n",
       "    }\n",
       "\n",
       "    .dataframe tbody tr th {\n",
       "        vertical-align: top;\n",
       "    }\n",
       "\n",
       "    .dataframe thead th {\n",
       "        text-align: right;\n",
       "    }\n",
       "</style>\n",
       "<table border=\"1\" class=\"dataframe\">\n",
       "  <thead>\n",
       "    <tr style=\"text-align: right;\">\n",
       "      <th></th>\n",
       "      <th>die_1</th>\n",
       "      <th>die_2</th>\n",
       "    </tr>\n",
       "  </thead>\n",
       "  <tbody>\n",
       "    <tr>\n",
       "      <th>0</th>\n",
       "      <td>5</td>\n",
       "      <td>6</td>\n",
       "    </tr>\n",
       "    <tr>\n",
       "      <th>1</th>\n",
       "      <td>1</td>\n",
       "      <td>1</td>\n",
       "    </tr>\n",
       "    <tr>\n",
       "      <th>2</th>\n",
       "      <td>4</td>\n",
       "      <td>5</td>\n",
       "    </tr>\n",
       "    <tr>\n",
       "      <th>3</th>\n",
       "      <td>4</td>\n",
       "      <td>3</td>\n",
       "    </tr>\n",
       "    <tr>\n",
       "      <th>4</th>\n",
       "      <td>4</td>\n",
       "      <td>1</td>\n",
       "    </tr>\n",
       "  </tbody>\n",
       "</table>\n",
       "</div>"
      ],
      "text/plain": [
       "   die_1  die_2\n",
       "0      5      6\n",
       "1      1      1\n",
       "2      4      5\n",
       "3      4      3\n",
       "4      4      1"
      ]
     },
     "execution_count": 455,
     "metadata": {},
     "output_type": "execute_result"
    }
   ],
   "source": [
    "#using dataframe\n",
    "rolls = np.random.choice([x for x in range(1,7)], size=(n_trials,n_dice))\n",
    "rolls = pd.DataFrame(rolls, columns = ['die_1', 'die_2'])\n",
    "rolls.head()"
   ]
  },
  {
   "cell_type": "code",
   "execution_count": 456,
   "id": "be9e15c2",
   "metadata": {},
   "outputs": [
    {
     "data": {
      "text/plain": [
       "0.1623"
      ]
     },
     "execution_count": 456,
     "metadata": {},
     "output_type": "execute_result"
    }
   ],
   "source": [
    "(rolls.die_1 == rolls.die_2).mean()"
   ]
  },
  {
   "cell_type": "markdown",
   "id": "ce14c821",
   "metadata": {},
   "source": [
    "2. If you flip 8 coins, what is the probability of getting exactly 3 heads? What is the probability of getting more than 3 heads?"
   ]
  },
  {
   "cell_type": "code",
   "execution_count": 5,
   "id": "a3484ebe",
   "metadata": {},
   "outputs": [
    {
     "data": {
      "text/plain": [
       "array([[0, 0, 0, ..., 0, 1, 1],\n",
       "       [0, 0, 1, ..., 1, 1, 0],\n",
       "       [1, 0, 1, ..., 1, 1, 1],\n",
       "       ...,\n",
       "       [0, 1, 0, ..., 1, 1, 0],\n",
       "       [1, 0, 0, ..., 1, 1, 1],\n",
       "       [1, 0, 0, ..., 0, 1, 0]])"
      ]
     },
     "execution_count": 5,
     "metadata": {},
     "output_type": "execute_result"
    }
   ],
   "source": [
    "#simulate the coin flip a few thousand times\n",
    "# let the heads be represented as 1\n",
    "n_flip = 10_000\n",
    "coins = 8\n",
    "\n",
    "flips = np.random.choice([x for x in range(2)], n_flip*coins)\n",
    "flips = flips.reshape(n_flip, coins)\n",
    "\n",
    "flips"
   ]
  },
  {
   "cell_type": "code",
   "execution_count": 6,
   "id": "c595cad1",
   "metadata": {},
   "outputs": [],
   "source": [
    "heads_per_flip = flips.sum(axis=1)"
   ]
  },
  {
   "cell_type": "code",
   "execution_count": 7,
   "id": "c1d0fb1d",
   "metadata": {},
   "outputs": [
    {
     "data": {
      "text/plain": [
       "0.2243"
      ]
     },
     "execution_count": 7,
     "metadata": {},
     "output_type": "execute_result"
    }
   ],
   "source": [
    "#a. number of rolls with 3 heads\n",
    "(heads_per_flip == 3).mean()"
   ]
  },
  {
   "cell_type": "code",
   "execution_count": 8,
   "id": "b9574e94",
   "metadata": {},
   "outputs": [
    {
     "data": {
      "text/plain": [
       "0.6313"
      ]
     },
     "execution_count": 8,
     "metadata": {},
     "output_type": "execute_result"
    }
   ],
   "source": [
    "#b. number of rolls with more than three heads\n",
    "(heads_per_flip > 3).mean()"
   ]
  },
  {
   "cell_type": "code",
   "execution_count": 463,
   "id": "d52dd2b1",
   "metadata": {},
   "outputs": [
    {
     "data": {
      "text/html": [
       "<div>\n",
       "<style scoped>\n",
       "    .dataframe tbody tr th:only-of-type {\n",
       "        vertical-align: middle;\n",
       "    }\n",
       "\n",
       "    .dataframe tbody tr th {\n",
       "        vertical-align: top;\n",
       "    }\n",
       "\n",
       "    .dataframe thead th {\n",
       "        text-align: right;\n",
       "    }\n",
       "</style>\n",
       "<table border=\"1\" class=\"dataframe\">\n",
       "  <thead>\n",
       "    <tr style=\"text-align: right;\">\n",
       "      <th></th>\n",
       "      <th>0</th>\n",
       "      <th>1</th>\n",
       "      <th>2</th>\n",
       "      <th>3</th>\n",
       "      <th>4</th>\n",
       "      <th>5</th>\n",
       "      <th>6</th>\n",
       "      <th>7</th>\n",
       "      <th>n_heads</th>\n",
       "    </tr>\n",
       "  </thead>\n",
       "  <tbody>\n",
       "    <tr>\n",
       "      <th>0</th>\n",
       "      <td>0</td>\n",
       "      <td>0</td>\n",
       "      <td>0</td>\n",
       "      <td>0</td>\n",
       "      <td>0</td>\n",
       "      <td>0</td>\n",
       "      <td>1</td>\n",
       "      <td>0</td>\n",
       "      <td>1</td>\n",
       "    </tr>\n",
       "    <tr>\n",
       "      <th>1</th>\n",
       "      <td>0</td>\n",
       "      <td>0</td>\n",
       "      <td>0</td>\n",
       "      <td>1</td>\n",
       "      <td>0</td>\n",
       "      <td>1</td>\n",
       "      <td>1</td>\n",
       "      <td>0</td>\n",
       "      <td>3</td>\n",
       "    </tr>\n",
       "    <tr>\n",
       "      <th>2</th>\n",
       "      <td>0</td>\n",
       "      <td>1</td>\n",
       "      <td>0</td>\n",
       "      <td>0</td>\n",
       "      <td>0</td>\n",
       "      <td>1</td>\n",
       "      <td>1</td>\n",
       "      <td>0</td>\n",
       "      <td>3</td>\n",
       "    </tr>\n",
       "    <tr>\n",
       "      <th>3</th>\n",
       "      <td>0</td>\n",
       "      <td>1</td>\n",
       "      <td>0</td>\n",
       "      <td>0</td>\n",
       "      <td>1</td>\n",
       "      <td>1</td>\n",
       "      <td>1</td>\n",
       "      <td>0</td>\n",
       "      <td>4</td>\n",
       "    </tr>\n",
       "    <tr>\n",
       "      <th>4</th>\n",
       "      <td>0</td>\n",
       "      <td>1</td>\n",
       "      <td>0</td>\n",
       "      <td>1</td>\n",
       "      <td>1</td>\n",
       "      <td>0</td>\n",
       "      <td>0</td>\n",
       "      <td>1</td>\n",
       "      <td>4</td>\n",
       "    </tr>\n",
       "    <tr>\n",
       "      <th>...</th>\n",
       "      <td>...</td>\n",
       "      <td>...</td>\n",
       "      <td>...</td>\n",
       "      <td>...</td>\n",
       "      <td>...</td>\n",
       "      <td>...</td>\n",
       "      <td>...</td>\n",
       "      <td>...</td>\n",
       "      <td>...</td>\n",
       "    </tr>\n",
       "    <tr>\n",
       "      <th>9995</th>\n",
       "      <td>1</td>\n",
       "      <td>1</td>\n",
       "      <td>0</td>\n",
       "      <td>1</td>\n",
       "      <td>0</td>\n",
       "      <td>1</td>\n",
       "      <td>0</td>\n",
       "      <td>0</td>\n",
       "      <td>4</td>\n",
       "    </tr>\n",
       "    <tr>\n",
       "      <th>9996</th>\n",
       "      <td>1</td>\n",
       "      <td>1</td>\n",
       "      <td>1</td>\n",
       "      <td>1</td>\n",
       "      <td>0</td>\n",
       "      <td>1</td>\n",
       "      <td>0</td>\n",
       "      <td>1</td>\n",
       "      <td>6</td>\n",
       "    </tr>\n",
       "    <tr>\n",
       "      <th>9997</th>\n",
       "      <td>1</td>\n",
       "      <td>0</td>\n",
       "      <td>1</td>\n",
       "      <td>1</td>\n",
       "      <td>0</td>\n",
       "      <td>1</td>\n",
       "      <td>1</td>\n",
       "      <td>0</td>\n",
       "      <td>5</td>\n",
       "    </tr>\n",
       "    <tr>\n",
       "      <th>9998</th>\n",
       "      <td>0</td>\n",
       "      <td>0</td>\n",
       "      <td>1</td>\n",
       "      <td>1</td>\n",
       "      <td>1</td>\n",
       "      <td>1</td>\n",
       "      <td>1</td>\n",
       "      <td>0</td>\n",
       "      <td>5</td>\n",
       "    </tr>\n",
       "    <tr>\n",
       "      <th>9999</th>\n",
       "      <td>1</td>\n",
       "      <td>1</td>\n",
       "      <td>0</td>\n",
       "      <td>0</td>\n",
       "      <td>1</td>\n",
       "      <td>0</td>\n",
       "      <td>0</td>\n",
       "      <td>1</td>\n",
       "      <td>4</td>\n",
       "    </tr>\n",
       "  </tbody>\n",
       "</table>\n",
       "<p>10000 rows × 9 columns</p>\n",
       "</div>"
      ],
      "text/plain": [
       "      0  1  2  3  4  5  6  7  n_heads\n",
       "0     0  0  0  0  0  0  1  0        1\n",
       "1     0  0  0  1  0  1  1  0        3\n",
       "2     0  1  0  0  0  1  1  0        3\n",
       "3     0  1  0  0  1  1  1  0        4\n",
       "4     0  1  0  1  1  0  0  1        4\n",
       "...  .. .. .. .. .. .. .. ..      ...\n",
       "9995  1  1  0  1  0  1  0  0        4\n",
       "9996  1  1  1  1  0  1  0  1        6\n",
       "9997  1  0  1  1  0  1  1  0        5\n",
       "9998  0  0  1  1  1  1  1  0        5\n",
       "9999  1  1  0  0  1  0  0  1        4\n",
       "\n",
       "[10000 rows x 9 columns]"
      ]
     },
     "execution_count": 463,
     "metadata": {},
     "output_type": "execute_result"
    }
   ],
   "source": [
    "# useing dataframes\n",
    "flips = np.random.choice([x for x in range(2)], (n_flip,coins))\n",
    "flips = pd.DataFrame(flips)\n",
    "flips['n_heads'] = flips.sum(axis = 1)\n",
    "flips"
   ]
  },
  {
   "cell_type": "markdown",
   "id": "3d7c1794",
   "metadata": {},
   "source": [
    "3. There are approximitely 3 web development cohorts for every 1 data science cohort at Codeup. Assuming that Codeup randomly selects an alumni to put on a billboard, what are the odds that the two billboards I drive past both have data science students on them?"
   ]
  },
  {
   "cell_type": "code",
   "execution_count": 4,
   "id": "b880aa82",
   "metadata": {},
   "outputs": [
    {
     "data": {
      "text/plain": [
       "array([[0.86375999, 0.28490597, 0.07325639, ..., 0.56609349, 0.08331938,\n",
       "        0.21506905],\n",
       "       [0.90850556, 0.37595771, 0.21461822, ..., 0.1275455 , 0.55722397,\n",
       "        0.80122997]])"
      ]
     },
     "execution_count": 4,
     "metadata": {},
     "output_type": "execute_result"
    }
   ],
   "source": [
    "ds_odds = 0.25\n",
    "# run a simulation of 10_000 ads\n",
    "n_ads = 10**6\n",
    "n_drivebys = 2\n",
    "\n",
    "#two parallel arrays\n",
    "data = np.random.random((n_drivebys, n_ads))\n",
    "data"
   ]
  },
  {
   "cell_type": "code",
   "execution_count": 10,
   "id": "b6945fa1",
   "metadata": {},
   "outputs": [
    {
     "data": {
      "text/plain": [
       "0.06271"
      ]
     },
     "execution_count": 10,
     "metadata": {},
     "output_type": "execute_result"
    }
   ],
   "source": [
    "((data[0] <= ds_odds) & (data[1] <= ds_odds)).mean()"
   ]
  },
  {
   "cell_type": "code",
   "execution_count": 11,
   "id": "b58300e1",
   "metadata": {},
   "outputs": [
    {
     "data": {
      "text/plain": [
       "0.062751"
      ]
     },
     "execution_count": 11,
     "metadata": {},
     "output_type": "execute_result"
    }
   ],
   "source": [
    "# with dataframes\n",
    "billboards = np.random.choice(['WD', 'DS'], p=[0.75, 0.25], size = (n_ads, n_drivebys))\n",
    "billboards = pd.DataFrame(billboards)\n",
    "billboards['n_DS'] = (billboards == 'DS').sum(axis = 1)\n",
    "(billboards.n_DS == 2).mean()"
   ]
  },
  {
   "cell_type": "markdown",
   "id": "565bdc1f",
   "metadata": {},
   "source": [
    "4. Codeup students buy, on average, 3 poptart packages with a standard deviation of 1.5 a day from the snack vending machine. If on monday the machine is restocked with 17 poptart packages, how likely is it that I will be able to buy some poptarts on Friday afternoon? (Remember, if you have mean and standard deviation, use the np.random.normal)"
   ]
  },
  {
   "cell_type": "code",
   "execution_count": 476,
   "id": "2bb81f9a",
   "metadata": {},
   "outputs": [
    {
     "data": {
      "text/plain": [
       "array([[1., 3., 3., 0., 2.],\n",
       "       [1., 3., 3., 3., 3.],\n",
       "       [3., 4., 5., 1., 3.],\n",
       "       ...,\n",
       "       [2., 3., 0., 2., 6.],\n",
       "       [3., 4., 5., 5., 0.],\n",
       "       [3., 2., 3., 3., 3.]])"
      ]
     },
     "execution_count": 476,
     "metadata": {},
     "output_type": "execute_result"
    }
   ],
   "source": [
    "days_per_week = 5\n",
    "weeks_to_simulate = 10_000\n",
    "simulations = np.random.normal(3, 1.5, (weeks_to_simulate, days_per_week)).round()\n",
    "simulations"
   ]
  },
  {
   "cell_type": "code",
   "execution_count": 474,
   "id": "5b45f15f",
   "metadata": {},
   "outputs": [
    {
     "data": {
      "text/plain": [
       "0.671"
      ]
     },
     "execution_count": 474,
     "metadata": {},
     "output_type": "execute_result"
    }
   ],
   "source": [
    "(simulations.sum(axis=1) < 17).mean()"
   ]
  },
  {
   "cell_type": "code",
   "execution_count": 472,
   "id": "09bac087",
   "metadata": {},
   "outputs": [
    {
     "data": {
      "text/html": [
       "<div>\n",
       "<style scoped>\n",
       "    .dataframe tbody tr th:only-of-type {\n",
       "        vertical-align: middle;\n",
       "    }\n",
       "\n",
       "    .dataframe tbody tr th {\n",
       "        vertical-align: top;\n",
       "    }\n",
       "\n",
       "    .dataframe thead th {\n",
       "        text-align: right;\n",
       "    }\n",
       "</style>\n",
       "<table border=\"1\" class=\"dataframe\">\n",
       "  <thead>\n",
       "    <tr style=\"text-align: right;\">\n",
       "      <th></th>\n",
       "      <th>m</th>\n",
       "      <th>t</th>\n",
       "      <th>w</th>\n",
       "      <th>r</th>\n",
       "      <th>f</th>\n",
       "    </tr>\n",
       "  </thead>\n",
       "  <tbody>\n",
       "    <tr>\n",
       "      <th>0</th>\n",
       "      <td>3.0</td>\n",
       "      <td>3.0</td>\n",
       "      <td>5.0</td>\n",
       "      <td>1.0</td>\n",
       "      <td>-0.0</td>\n",
       "    </tr>\n",
       "    <tr>\n",
       "      <th>1</th>\n",
       "      <td>3.0</td>\n",
       "      <td>5.0</td>\n",
       "      <td>2.0</td>\n",
       "      <td>3.0</td>\n",
       "      <td>3.0</td>\n",
       "    </tr>\n",
       "    <tr>\n",
       "      <th>2</th>\n",
       "      <td>4.0</td>\n",
       "      <td>3.0</td>\n",
       "      <td>4.0</td>\n",
       "      <td>2.0</td>\n",
       "      <td>5.0</td>\n",
       "    </tr>\n",
       "    <tr>\n",
       "      <th>3</th>\n",
       "      <td>2.0</td>\n",
       "      <td>4.0</td>\n",
       "      <td>3.0</td>\n",
       "      <td>1.0</td>\n",
       "      <td>4.0</td>\n",
       "    </tr>\n",
       "    <tr>\n",
       "      <th>4</th>\n",
       "      <td>1.0</td>\n",
       "      <td>5.0</td>\n",
       "      <td>3.0</td>\n",
       "      <td>1.0</td>\n",
       "      <td>5.0</td>\n",
       "    </tr>\n",
       "  </tbody>\n",
       "</table>\n",
       "</div>"
      ],
      "text/plain": [
       "     m    t    w    r    f\n",
       "0  3.0  3.0  5.0  1.0 -0.0\n",
       "1  3.0  5.0  2.0  3.0  3.0\n",
       "2  4.0  3.0  4.0  2.0  5.0\n",
       "3  2.0  4.0  3.0  1.0  4.0\n",
       "4  1.0  5.0  3.0  1.0  5.0"
      ]
     },
     "execution_count": 472,
     "metadata": {},
     "output_type": "execute_result"
    }
   ],
   "source": [
    "# using a dataframe, note we get negative numbers, something to consider in the simulation\n",
    "poptarts = np.random.normal(3, 1.5, size=(weeks_to_simulate, days_per_week)).round()\n",
    "poptarts = pd.DataFrame(poptarts, columns = ['m', 't', 'w', 'r', 'f'])\n",
    "poptarts.head()"
   ]
  },
  {
   "cell_type": "code",
   "execution_count": 477,
   "id": "ef6490e6",
   "metadata": {},
   "outputs": [
    {
     "data": {
      "text/plain": [
       "0.6712"
      ]
     },
     "execution_count": 477,
     "metadata": {},
     "output_type": "execute_result"
    }
   ],
   "source": [
    "(poptarts.sum(axis=1) < 17).mean()"
   ]
  },
  {
   "cell_type": "markdown",
   "id": "64e9b490",
   "metadata": {},
   "source": [
    "5. \n",
    "\n",
    "\n",
    "Compare Heights\n",
    "\n",
    "    - Men have an average height of 178 cm and standard deviation of 8cm.\n",
    "    - Women have a mean of 170, sd = 6cm.\n",
    "    - Since you have means and standard deviations, you can use np.random.normal to generate observations.\n",
    "    - If a man and woman are chosen at random, what is the likelihood the woman is taller than the man?\n",
    "\n"
   ]
  },
  {
   "cell_type": "code",
   "execution_count": 13,
   "id": "ae2c2c40",
   "metadata": {},
   "outputs": [],
   "source": [
    "n_choose = 2\n",
    "number_of_pairs = 10_000\n",
    "mens_heights = np.random.normal(178, 8, (number_of_pairs))\n",
    "womens_heights = np.random.normal(170, 6, (number_of_pairs))"
   ]
  },
  {
   "cell_type": "code",
   "execution_count": 14,
   "id": "fcc73b8c",
   "metadata": {},
   "outputs": [
    {
     "data": {
      "text/plain": [
       "0.2131"
      ]
     },
     "execution_count": 14,
     "metadata": {},
     "output_type": "execute_result"
    }
   ],
   "source": [
    "pairs = np.stack((mens_heights, womens_heights))\n",
    "(pairs[0] < pairs [1]).mean()"
   ]
  },
  {
   "cell_type": "code",
   "execution_count": 479,
   "id": "53b69ff9",
   "metadata": {},
   "outputs": [
    {
     "data": {
      "text/plain": [
       "0.2131"
      ]
     },
     "execution_count": 479,
     "metadata": {},
     "output_type": "execute_result"
    }
   ],
   "source": [
    "# can also directly use the arrays\n",
    "(mens_heights < womens_heights).mean()"
   ]
  },
  {
   "cell_type": "markdown",
   "id": "8db2464b",
   "metadata": {},
   "source": [
    "6. \n",
    "\n",
    "\n",
    "When installing anaconda on a student's computer, there's a 1 in 250 chance that the download is corrupted and the installation fails. What are the odds that after having 50 students download anaconda, no one has an installation issue? 100 students?\n",
    "\n",
    "What is the probability that we observe an installation issue within the first 150 students that download anaconda?\n",
    "\n",
    "How likely is it that 450 students all download anaconda without an issue?\n"
   ]
  },
  {
   "cell_type": "code",
   "execution_count": 480,
   "id": "cb047c60",
   "metadata": {},
   "outputs": [
    {
     "data": {
      "text/plain": [
       "array([[0.93096349, 0.9321072 , 0.53813214, ..., 0.53056289, 0.8533679 ,\n",
       "        0.5615669 ],\n",
       "       [0.11639417, 0.93857451, 0.00720145, ..., 0.80276276, 0.87776213,\n",
       "        0.84063407],\n",
       "       [0.85889713, 0.55970597, 0.12613852, ..., 0.25551517, 0.29162857,\n",
       "        0.31863632],\n",
       "       ...,\n",
       "       [0.3126294 , 0.29506149, 0.21282271, ..., 0.45444525, 0.91439512,\n",
       "        0.28424223],\n",
       "       [0.8198008 , 0.26224547, 0.38821203, ..., 0.70252686, 0.47107544,\n",
       "        0.24963129],\n",
       "       [0.22224966, 0.97082318, 0.77790486, ..., 0.27431341, 0.7792436 ,\n",
       "        0.62115412]])"
      ]
     },
     "execution_count": 480,
     "metadata": {},
     "output_type": "execute_result"
    }
   ],
   "source": [
    "p_fail = 1/250\n",
    "n_of_students = 50\n",
    "n_simulations = 10_000\n",
    "installs = np.random.random((n_simulations, n_of_students))\n",
    "installs"
   ]
  },
  {
   "cell_type": "code",
   "execution_count": 16,
   "id": "24e5adbb",
   "metadata": {},
   "outputs": [
    {
     "data": {
      "text/plain": [
       "0.8115"
      ]
     },
     "execution_count": 16,
     "metadata": {},
     "output_type": "execute_result"
    }
   ],
   "source": [
    "# probability that a class of 50 has no installation issues\n",
    "fails = (installs < p_fail)\n",
    "(fails.sum(axis = 1) < 1).mean()"
   ]
  },
  {
   "cell_type": "code",
   "execution_count": 17,
   "id": "5d8b09eb",
   "metadata": {},
   "outputs": [
    {
     "data": {
      "text/plain": [
       "0.6708"
      ]
     },
     "execution_count": 17,
     "metadata": {},
     "output_type": "execute_result"
    }
   ],
   "source": [
    "# probability that a class of 100 has no installation issues\n",
    "n_of_students = 100\n",
    "n_simulations = 10_000\n",
    "installs = np.random.random((n_simulations, n_of_students))\n",
    "installs\n",
    "\n",
    "fails = (installs < p_fail)\n",
    "(fails.sum(axis = 1) < 1).mean()"
   ]
  },
  {
   "cell_type": "code",
   "execution_count": 18,
   "id": "d42b9851",
   "metadata": {},
   "outputs": [
    {
     "data": {
      "text/plain": [
       "0.4523"
      ]
     },
     "execution_count": 18,
     "metadata": {},
     "output_type": "execute_result"
    }
   ],
   "source": [
    "# probability there is a download issue within the first 150 downloads\n",
    "n_of_students = 150\n",
    "n_simulations = 10_000\n",
    "installs = np.random.random((n_simulations, n_of_students))\n",
    "installs\n",
    "\n",
    "success_installs = (installs > p_fail)\n",
    "(success_installs.sum(axis = 1) < 150).mean()"
   ]
  },
  {
   "cell_type": "code",
   "execution_count": 481,
   "id": "e1943d7d",
   "metadata": {},
   "outputs": [
    {
     "data": {
      "text/plain": [
       "0.16769999999999996"
      ]
     },
     "execution_count": 481,
     "metadata": {},
     "output_type": "execute_result"
    }
   ],
   "source": [
    "# probability 450 students will install w/o problems\n",
    "n_of_students = 450\n",
    "n_simulations = 10_000\n",
    "installs = np.random.random((n_simulations, n_of_students))\n",
    "\n",
    "success_installs = (installs > p_fail)\n",
    "(success_installs.sum(axis = 1) < 450).mean()\n",
    "1 - ((success_installs.sum(axis=1) < 450).sum()/n_simulations)"
   ]
  },
  {
   "cell_type": "code",
   "execution_count": 482,
   "id": "0ce5b3e1",
   "metadata": {},
   "outputs": [
    {
     "data": {
      "text/plain": [
       "0.16659999999999997"
      ]
     },
     "execution_count": 482,
     "metadata": {},
     "output_type": "execute_result"
    }
   ],
   "source": [
    "#using random.choice\n",
    "installs = np.random.choice([0,1], n_of_students*n_simulations, p = [1-1/250, 1/250]).reshape(n_simulations, n_of_students)\n",
    "1 - (installs.sum(axis = 1) > 0 ).mean()"
   ]
  },
  {
   "cell_type": "markdown",
   "id": "af43fb03",
   "metadata": {},
   "source": [
    "7.\n",
    "\n",
    "There's a 70% chance on any given day that there will be at least one food truck at Travis Park. However, you haven't seen a food truck there in 3 days. How unlikely is this?\n",
    "\n",
    "How likely is it that a food truck will show up sometime this week?\n"
   ]
  },
  {
   "cell_type": "code",
   "execution_count": 20,
   "id": "0a821061",
   "metadata": {},
   "outputs": [
    {
     "data": {
      "text/plain": [
       "array([[0.0373615 , 0.63330392, 0.45668413],\n",
       "       [0.40102818, 0.6633635 , 0.54532141],\n",
       "       [0.18024766, 0.0816224 , 0.7394392 ],\n",
       "       ...,\n",
       "       [0.21819898, 0.83938931, 0.5230631 ],\n",
       "       [0.98683008, 0.01183447, 0.07856825],\n",
       "       [0.28755143, 0.03674341, 0.60763921]])"
      ]
     },
     "execution_count": 20,
     "metadata": {},
     "output_type": "execute_result"
    }
   ],
   "source": [
    "fd_prob = 0.7\n",
    "n_days = 3\n",
    "n_simulations = 10_000\n",
    "days_simulations = np.random.random((n_simulations, n_days))\n",
    "days_simulations"
   ]
  },
  {
   "cell_type": "code",
   "execution_count": 21,
   "id": "5b131fff",
   "metadata": {},
   "outputs": [
    {
     "data": {
      "text/plain": [
       "0.3469"
      ]
     },
     "execution_count": 21,
     "metadata": {},
     "output_type": "execute_result"
    }
   ],
   "source": [
    "# how many simulations never had a number < 0.7\n",
    "taco_truck_days = (days_simulations > fd_prob)\n",
    "(taco_truck_days.sum(axis = 1) == 0).mean()"
   ]
  },
  {
   "cell_type": "code",
   "execution_count": 22,
   "id": "d3dc1d25",
   "metadata": {},
   "outputs": [
    {
     "data": {
      "text/plain": [
       "0.9969"
      ]
     },
     "execution_count": 22,
     "metadata": {},
     "output_type": "execute_result"
    }
   ],
   "source": [
    "# probability a truck shows up this week\n",
    "\n",
    "n_days = 7\n",
    "n_simulations = 10_000\n",
    "days_simulations = np.random.random((n_simulations, n_days))\n",
    "days_simulations\n",
    "\n",
    "taco_truck_days = (days_simulations < fd_prob)\n",
    "(taco_truck_days.sum(axis = 1) > 1).mean()"
   ]
  },
  {
   "cell_type": "code",
   "execution_count": 485,
   "id": "75cf92ba",
   "metadata": {},
   "outputs": [
    {
     "data": {
      "text/plain": [
       "0.0026"
      ]
     },
     "execution_count": 485,
     "metadata": {},
     "output_type": "execute_result"
    }
   ],
   "source": [
    "# trucks = np.random.choice([0,1], size = (n_simulations, n_days), p = [1-fd_prob, fd_prob])\n",
    "# (trucks.sum(axis=1) == 1).mean()"
   ]
  },
  {
   "cell_type": "markdown",
   "id": "506c88a9",
   "metadata": {},
   "source": [
    "8. \n",
    "\n",
    "\n",
    "If 23 people are in the same room, what are the odds that two of them share a birthday? What if it's 20 people? 40?"
   ]
  },
  {
   "cell_type": "code",
   "execution_count": 23,
   "id": "de7a7f64",
   "metadata": {},
   "outputs": [
    {
     "data": {
      "text/plain": [
       "array([[198, 139, 224, ..., 323, 128, 238],\n",
       "       [227,  87, 342, ..., 275, 133, 203],\n",
       "       [ 68, 234,  60, ..., 209, 288,  45],\n",
       "       ...,\n",
       "       [ 68, 105, 310, ..., 184, 347, 330],\n",
       "       [307, 305, 129, ..., 332, 254, 133],\n",
       "       [308,  45, 217, ..., 222,  81,  59]])"
      ]
     },
     "execution_count": 23,
     "metadata": {},
     "output_type": "execute_result"
    }
   ],
   "source": [
    "n_in_room = 23\n",
    "n_simulations = 10_000\n",
    "\n",
    "#assign a birthday to each person\n",
    "b_days = np.random.choice([x for x in range(1,366)], n_simulations*n_in_room)\n",
    "b_days = b_days.reshape(n_simulations, n_in_room)\n",
    "b_days"
   ]
  },
  {
   "cell_type": "code",
   "execution_count": 24,
   "id": "2ff0bef0",
   "metadata": {},
   "outputs": [
    {
     "data": {
      "text/plain": [
       "0.5097"
      ]
     },
     "execution_count": 24,
     "metadata": {},
     "output_type": "execute_result"
    }
   ],
   "source": [
    "matches = []\n",
    "for row in b_days:\n",
    "    if len(set(row)) < 23 :\n",
    "        matches.append(row)\n",
    "len(matches)/10_000"
   ]
  },
  {
   "cell_type": "code",
   "execution_count": 98,
   "id": "db16cb2d",
   "metadata": {},
   "outputs": [
    {
     "data": {
      "text/plain": [
       "0.4058"
      ]
     },
     "execution_count": 98,
     "metadata": {},
     "output_type": "execute_result"
    }
   ],
   "source": [
    "# if the number of people is 20\n",
    "n_in_room = 20\n",
    "n_simulations = 10_000\n",
    "\n",
    "#assign a birthday to each person\n",
    "b_days = np.random.choice([x for x in range(1,366)], n_simulations*n_in_room)\n",
    "b_days = b_days.reshape(n_simulations, n_in_room)\n",
    "b_days\n",
    "\n",
    "matches = []\n",
    "for row in b_days:\n",
    "    if len(set(row)) < 20 :\n",
    "        matches.append(row)\n",
    "len(matches)/10_000"
   ]
  },
  {
   "cell_type": "code",
   "execution_count": 26,
   "id": "a905440a",
   "metadata": {},
   "outputs": [
    {
     "data": {
      "text/plain": [
       "0.8883"
      ]
     },
     "execution_count": 26,
     "metadata": {},
     "output_type": "execute_result"
    }
   ],
   "source": [
    "# if the number of people is 40\n",
    "n_in_room = 40\n",
    "n_simulations = 10_000\n",
    "\n",
    "#assign a birthday to each person\n",
    "b_days = np.random.choice([x for x in range(1,366)], n_simulations*n_in_room)\n",
    "b_days = b_days.reshape(n_simulations, n_in_room)\n",
    "b_days\n",
    "\n",
    "matches = []\n",
    "for row in b_days:\n",
    "    if len(set(row)) < 40 :\n",
    "        matches.append(row)\n",
    "len(matches)/10_000"
   ]
  },
  {
   "cell_type": "code",
   "execution_count": 494,
   "id": "a7c7bbf1",
   "metadata": {},
   "outputs": [
    {
     "data": {
      "text/plain": [
       "0.5176"
      ]
     },
     "execution_count": 494,
     "metadata": {},
     "output_type": "execute_result"
    }
   ],
   "source": [
    "# more general/better solution with dataframes\n",
    "# with dfs\n",
    "n_in_room = 23\n",
    "birthdays = np.random.choice(range(365), size = (n_simulations, n_in_room))\n",
    "birthdays = pd.DataFrame(birthdays)\n",
    "birthdays['n_unique'] = birthdays.nunique(axis =1)\n",
    "birthdays\n",
    "\n",
    "(birthdays.n_unique != n_in_room).mean()"
   ]
  },
  {
   "cell_type": "markdown",
   "id": "657798f1",
   "metadata": {},
   "source": [
    "## bonus\n",
    "Mage duel"
   ]
  },
  {
   "cell_type": "code",
   "execution_count": 27,
   "id": "d9a05d78",
   "metadata": {},
   "outputs": [
    {
     "data": {
      "text/plain": [
       "array([[1, 3, 3, 4, 1, 2],\n",
       "       [4, 3, 4, 1, 2, 1],\n",
       "       [4, 3, 4, 2, 4, 1],\n",
       "       ...,\n",
       "       [2, 4, 1, 4, 1, 4],\n",
       "       [4, 3, 1, 2, 2, 2],\n",
       "       [3, 4, 3, 2, 3, 1]])"
      ]
     },
     "execution_count": 27,
     "metadata": {},
     "output_type": "execute_result"
    }
   ],
   "source": [
    "# make dice\n",
    "n_trials = 10_000\n",
    "mage_1 = np.random.choice(list(range(1,5)), n_trials*6)\n",
    "mage_1 = mage_1.reshape(n_trials, 6)\n",
    "mage_2 = np.random.choice(list(range(1,7)), n_trials*4)\n",
    "mage_2 = mage_2.reshape(n_trials, 4)\n",
    "mage_1"
   ]
  },
  {
   "cell_type": "code",
   "execution_count": 239,
   "id": "3a2140c7",
   "metadata": {},
   "outputs": [
    {
     "data": {
      "text/plain": [
       "array([[14, 15, 18, ..., 16, 14, 16],\n",
       "       [11, 19, 16, ..., 15, 14, 13]])"
      ]
     },
     "execution_count": 239,
     "metadata": {},
     "output_type": "execute_result"
    }
   ],
   "source": [
    "#now make an array of the sum of their rows\n",
    "duel = np.stack((mage_1.sum(axis=1), mage_2.sum(axis=1)))\n",
    "duel"
   ]
  },
  {
   "cell_type": "code",
   "execution_count": 29,
   "id": "ba6ef8d1",
   "metadata": {},
   "outputs": [
    {
     "data": {
      "text/plain": [
       "0.6344"
      ]
     },
     "execution_count": 29,
     "metadata": {},
     "output_type": "execute_result"
    }
   ],
   "source": [
    "# true means mage_1 wins\n",
    "(duel[0] >= duel[1]).mean()"
   ]
  },
  {
   "cell_type": "markdown",
   "id": "1dfba32d",
   "metadata": {},
   "source": [
    "Mage duel II"
   ]
  },
  {
   "cell_type": "code",
   "execution_count": 250,
   "id": "5696c53f",
   "metadata": {},
   "outputs": [
    {
     "data": {
      "text/plain": [
       "0.9929"
      ]
     },
     "execution_count": 250,
     "metadata": {},
     "output_type": "execute_result"
    }
   ],
   "source": [
    "# write a function to do a single mage duel\n",
    "# returns the winner of the mage duel: mage_1, mage_2\n",
    "\n",
    "# it makes sense that mage_1 wins, their range of hp and dmg is [6, 6*4], and mage_2 has [4, 6*4]\n",
    "# ergo mage_2's range of hp and dmg can be lower than the lowest of mage_1\n",
    "\n",
    "def mage_duel():\n",
    "    # determine hp points\n",
    "    mage_1_hp = np.random.choice(list(range(1,5)), 6).sum()\n",
    "    mage_2_hp = np.random.choice(list(range(1,5)), 4).sum()\n",
    "    # determine dmg points\n",
    "    mage_1_dmg = np.random.choice(list(range(1,5)), 6).sum()\n",
    "    mage_2_dmg = np.random.choice(list(range(1,5)), 4).sum()\n",
    "    while (mage_1_hp > 0 or mage_2_hp > 0):\n",
    "        mage_2_hp -= mage_1_dmg\n",
    "        if mage_2_hp <= 0:\n",
    "            return True\n",
    "        mage_1_hp -= mage_2_dmg\n",
    "        if mage_1_hp <= 0:\n",
    "            return False\n",
    "\n",
    "simulations = 10_000\n",
    "outcome = []\n",
    "for battle in range(simulations):\n",
    "    outcome.append(mage_duel())\n",
    "sum(outcome)/simulations"
   ]
  },
  {
   "cell_type": "code",
   "execution_count": 328,
   "id": "2ea04cb5",
   "metadata": {},
   "outputs": [
    {
     "data": {
      "text/plain": [
       "0.9933"
      ]
     },
     "execution_count": 328,
     "metadata": {},
     "output_type": "execute_result"
    }
   ],
   "source": [
    "#alt version with series\n",
    "duel_outcomes = pd.Series([mage_duel() for x in range(simulations)])\n",
    "duel_outcomes.mean()"
   ]
  },
  {
   "cell_type": "markdown",
   "id": "88062279",
   "metadata": {},
   "source": [
    "\n",
    "\n",
    "chuck a luck"
   ]
  },
  {
   "cell_type": "code",
   "execution_count": 367,
   "id": "1975b01e",
   "metadata": {},
   "outputs": [
    {
     "data": {
      "text/plain": [
       "0"
      ]
     },
     "execution_count": 367,
     "metadata": {},
     "output_type": "execute_result"
    }
   ],
   "source": [
    "def chuck_a_luck(bet = np.random.choice(list(range(1,6)))):\n",
    "    #return the payout: won - ante\n",
    "    # default is a random bet\n",
    "    dice = np.random.choice(list(range(1,6)), 3)\n",
    "    #print(f\"choice: {bet} \\t dice: {dice}\")\n",
    "    return np.count_nonzero(dice == bet)-1\n",
    "\n",
    "chuck_a_luck()"
   ]
  },
  {
   "cell_type": "code",
   "execution_count": 444,
   "id": "57a06937",
   "metadata": {},
   "outputs": [],
   "source": [
    "simulations = 10_000"
   ]
  },
  {
   "cell_type": "code",
   "execution_count": 445,
   "id": "ef363142",
   "metadata": {},
   "outputs": [
    {
     "data": {
      "text/plain": [
       "0.009"
      ]
     },
     "execution_count": 445,
     "metadata": {},
     "output_type": "execute_result"
    }
   ],
   "source": [
    "# What are your chances of getting an outcome payout of $2? (where we earned $3 on the $1 ante)\n",
    "outcomes = pd.Series([chuck_a_luck() for x in range(simulations)])\n",
    "outcomes[outcomes == 2].size/outcomes.size"
   ]
  },
  {
   "cell_type": "code",
   "execution_count": 446,
   "id": "9f6b396f",
   "metadata": {},
   "outputs": [
    {
     "data": {
      "text/plain": [
       "0.0957"
      ]
     },
     "execution_count": 446,
     "metadata": {},
     "output_type": "execute_result"
    }
   ],
   "source": [
    "# What are your chances of getting an payout of $1?\n",
    "outcomes = pd.Series([chuck_a_luck() for x in range(simulations)])\n",
    "outcomes[outcomes == 1].size/outcomes.size"
   ]
  },
  {
   "cell_type": "code",
   "execution_count": 447,
   "id": "a4ce88c7",
   "metadata": {},
   "outputs": [
    {
     "data": {
      "text/plain": [
       "0.3916"
      ]
     },
     "execution_count": 447,
     "metadata": {},
     "output_type": "execute_result"
    }
   ],
   "source": [
    "#What are your chances of getting a payout of $0 where you ante $1 and win $1?\n",
    "outcomes = pd.Series([chuck_a_luck() for x in range(simulations)])\n",
    "outcomes[outcomes == 0].size/outcomes.size"
   ]
  },
  {
   "cell_type": "code",
   "execution_count": 448,
   "id": "a140d349",
   "metadata": {},
   "outputs": [
    {
     "data": {
      "text/plain": [
       "0.5113"
      ]
     },
     "execution_count": 448,
     "metadata": {},
     "output_type": "execute_result"
    }
   ],
   "source": [
    "#What are your chances of getting a payout of -$1 where you ante up, but don't win anything?\n",
    "outcomes = pd.Series([chuck_a_luck() for x in range(simulations)])\n",
    "outcomes[outcomes == -1].size/outcomes.size"
   ]
  },
  {
   "cell_type": "code",
   "execution_count": 449,
   "id": "abf74a75",
   "metadata": {},
   "outputs": [
    {
     "data": {
      "text/plain": [
       "-0.3959"
      ]
     },
     "execution_count": 449,
     "metadata": {},
     "output_type": "execute_result"
    }
   ],
   "source": [
    "#What is the average cost/gain per game? (think of averaging the total payout calculation across all simulations)\n",
    "outcomes = pd.Series([chuck_a_luck() for x in range(simulations)])\n",
    "outcomes.mean()"
   ]
  },
  {
   "cell_type": "code",
   "execution_count": 443,
   "id": "dfc9e7ad",
   "metadata": {},
   "outputs": [
    {
     "data": {
      "image/png": "[encoded data removed]",
      "text/plain": [
       "<Figure size 432x288 with 1 Axes>"
      ]
     },
     "metadata": {
      "needs_background": "light"
     },
     "output_type": "display_data"
    }
   ],
   "source": [
    "plt.hist(outcomes)\n",
    "plt.show()"
   ]
  },
  {
   "cell_type": "markdown",
   "id": "0cdca68a",
   "metadata": {},
   "source": [
    "not a fair game.  likelihood of not matching represents over half the possible outcomes; and not matching means there is a loss."
   ]
  },
  {
   "cell_type": "code",
   "execution_count": 450,
   "id": "2124d8ac",
   "metadata": {},
   "outputs": [
    {
     "data": {
      "text/plain": [
       "-0.401806"
      ]
     },
     "execution_count": 450,
     "metadata": {},
     "output_type": "execute_result"
    }
   ],
   "source": [
    "#play a million games:\n",
    "simulations = 1_000_000\n",
    "outcomes = pd.Series([chuck_a_luck() for x in range(simulations)])\n",
    "outcomes.mean()"
   ]
  },
  {
   "cell_type": "code",
   "execution_count": null,
   "id": "6535d0c6",
   "metadata": {},
   "outputs": [],
   "source": []
  }
 ],
 "metadata": {
  "kernelspec": {
   "display_name": "Python 3 (ipykernel)",
   "language": "python",
   "name": "python3"
  },
  "language_info": {
   "codemirror_mode": {
    "name": "ipython",
    "version": 3
   },
   "file_extension": ".py",
   "mimetype": "text/x-python",
   "name": "python",
   "nbconvert_exporter": "python",
   "pygments_lexer": "ipython3",
   "version": "3.9.7"
  }
 },
 "nbformat": 4,
 "nbformat_minor": 5
}

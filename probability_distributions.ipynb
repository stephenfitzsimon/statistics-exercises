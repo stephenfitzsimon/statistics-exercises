{
 "cells": [
  {
   "cell_type": "markdown",
   "id": "a0ab406a",
   "metadata": {},
   "source": [
    "## probability distributions exercises"
   ]
  },
  {
   "cell_type": "code",
   "execution_count": 2,
   "id": "164fc414",
   "metadata": {},
   "outputs": [],
   "source": [
    "from scipy import stats\n",
    "\n",
    "import matplotlib.pyplot as plt\n",
    "import numpy as np\n",
    "import pandas as pd\n",
    "import math"
   ]
  },
  {
   "cell_type": "markdown",
   "id": "62d81919",
   "metadata": {},
   "source": [
    "1. \n",
    "\n",
    "\n",
    "A bank found that the average number of cars waiting during the noon hour at a drive-up window follows a Poisson distribution with a mean of 2 cars. Make a chart of this distribution and answer these questions concerning the probability of cars waiting at the drive-up window.\n",
    "\n",
    "- What is the probability that no cars drive up in the noon hour?\n",
    "- What is the probability that 3 or more cars come through the drive through?\n",
    "- How likely is it that the drive through gets at least 1 car?"
   ]
  },
  {
   "cell_type": "code",
   "execution_count": 73,
   "id": "b2ebb906",
   "metadata": {},
   "outputs": [
    {
     "data": {
      "text/plain": [
       "<BarContainer object of 12 artists>"
      ]
     },
     "execution_count": 73,
     "metadata": {},
     "output_type": "execute_result"
    },
    {
     "data": {
      "image/png": "[encoded data removed]",
      "text/plain": [
       "<Figure size 432x288 with 1 Axes>"
      ]
     },
     "metadata": {
      "needs_background": "light"
     },
     "output_type": "display_data"
    }
   ],
   "source": [
    "lambda_value = 2\n",
    "bank_drive = stats.poisson(lambda_value)\n",
    "\n",
    "x = np.arange(0,12)\n",
    "y = bank_drive.pmf(x)\n",
    "plt.bar(x,y)"
   ]
  },
  {
   "cell_type": "code",
   "execution_count": 3,
   "id": "741c7af2",
   "metadata": {},
   "outputs": [
    {
     "data": {
      "text/plain": [
       "0.1353352832366127"
      ]
     },
     "execution_count": 3,
     "metadata": {},
     "output_type": "execute_result"
    }
   ],
   "source": [
    "# What is the probability that no cars drive up in the noon hour?\n",
    "bank_drive.pmf(0)"
   ]
  },
  {
   "cell_type": "code",
   "execution_count": 4,
   "id": "39b63e63",
   "metadata": {},
   "outputs": [
    {
     "data": {
      "text/plain": [
       "0.32332358381693654"
      ]
     },
     "execution_count": 4,
     "metadata": {},
     "output_type": "execute_result"
    }
   ],
   "source": [
    "# What is the probability that 3 or more cars come through the drive through?\n",
    "bank_drive.sf(2)"
   ]
  },
  {
   "cell_type": "code",
   "execution_count": 5,
   "id": "bd6c2314",
   "metadata": {},
   "outputs": [
    {
     "data": {
      "text/plain": [
       "0.8646647167633873"
      ]
     },
     "execution_count": 5,
     "metadata": {},
     "output_type": "execute_result"
    }
   ],
   "source": [
    "# How likely is it that the drive through gets at least 1 car?\n",
    "bank_drive.sf(0)"
   ]
  },
  {
   "cell_type": "markdown",
   "id": "f9874156",
   "metadata": {},
   "source": [
    "2. \n",
    "\n",
    "\n",
    "\n",
    "Grades of State University graduates are normally distributed with a mean of 3.0 and a standard deviation of .3. Calculate the following:\n",
    "\n",
    "- What grade point average is required to be in the top 5% of the graduating class?\n",
    "- What GPA constitutes the bottom 15% of the class?\n",
    "- An eccentric alumnus left scholarship money for students in the third decile from the bottom of their class. Determine the range of the third decile. Would a student with a 2.8 grade point average qualify for this scholarship?\n",
    "- If I have a GPA of 3.5, what percentile am I in?\n",
    "\n"
   ]
  },
  {
   "cell_type": "code",
   "execution_count": 6,
   "id": "b93ae45d",
   "metadata": {},
   "outputs": [],
   "source": [
    "mu = 3.0\n",
    "sigma = 0.3\n",
    "grade_dist = stats.norm(mu, sigma)"
   ]
  },
  {
   "cell_type": "code",
   "execution_count": 7,
   "id": "6df6703a",
   "metadata": {},
   "outputs": [
    {
     "data": {
      "text/plain": [
       "3.4934560880854417"
      ]
     },
     "execution_count": 7,
     "metadata": {},
     "output_type": "execute_result"
    }
   ],
   "source": [
    "# What grade point average is required to be in the top 5% of the graduating class?\n",
    "grade_dist.isf(0.05)"
   ]
  },
  {
   "cell_type": "code",
   "execution_count": 8,
   "id": "2a9fe97e",
   "metadata": {},
   "outputs": [
    {
     "data": {
      "text/plain": [
       "2.689069983151863"
      ]
     },
     "execution_count": 8,
     "metadata": {},
     "output_type": "execute_result"
    }
   ],
   "source": [
    "# What GPA constitutes the bottom 15% of the class?\n",
    "grade_dist.ppf(0.15)"
   ]
  },
  {
   "cell_type": "code",
   "execution_count": 9,
   "id": "05ae3f78",
   "metadata": {},
   "outputs": [
    {
     "name": "stdout",
     "output_type": "stream",
     "text": [
      "range of third decile: [2.7475136299281258, 2.842679846187588]\n"
     ]
    },
    {
     "data": {
      "text/plain": [
       "True"
      ]
     },
     "execution_count": 9,
     "metadata": {},
     "output_type": "execute_result"
    }
   ],
   "source": [
    "# An eccentric alumnus left scholarship money for students in the third decile from the bottom of their class. \n",
    "# Determine the range of the third decile. Would a student with a 2.8 grade point average qualify for this \n",
    "# scholarship?\n",
    "print(f\"range of third decile: [{grade_dist.ppf(0.2)}, {grade_dist.ppf(0.3)}]\") \n",
    "2.8 > grade_dist.ppf(0.2) and 2.8 < grade_dist.ppf(0.3)"
   ]
  },
  {
   "cell_type": "code",
   "execution_count": 82,
   "id": "1c6b3b3d",
   "metadata": {},
   "outputs": [
    {
     "data": {
      "text/plain": [
       "True"
      ]
     },
     "execution_count": 82,
     "metadata": {},
     "output_type": "execute_result"
    }
   ],
   "source": [
    "# alt from class:\n",
    "grade_dist.ppf([0.2, 0.3])\n",
    "2.8 >= grade_dist.ppf([0.2, 0.3])[0] and 2.8 <= grade_dist.ppf([0.2, 0.3])[1]"
   ]
  },
  {
   "cell_type": "code",
   "execution_count": 83,
   "id": "182a5029",
   "metadata": {},
   "outputs": [
    {
     "data": {
      "text/plain": [
       "0.9522096477271853"
      ]
     },
     "execution_count": 83,
     "metadata": {},
     "output_type": "execute_result"
    }
   ],
   "source": [
    "# If I have a GPA of 3.5, what percentile am I in?\n",
    "grade_dist.cdf(3.5)"
   ]
  },
  {
   "cell_type": "markdown",
   "id": "19ab7935",
   "metadata": {},
   "source": [
    "3. \n",
    "\n",
    "\n",
    "A marketing website has an average click-through rate of 2%. One day they observe 4326 visitors and 97 click-throughs. How likely is it that this many people or more click through?"
   ]
  },
  {
   "cell_type": "code",
   "execution_count": 31,
   "id": "57a252b6",
   "metadata": {},
   "outputs": [],
   "source": [
    "# binomial distribution? : people click through or they don't \n",
    "# percent of success is 0.02\n",
    "n_visitors = 4326\n",
    "p_clickthrough = 0.02\n",
    "click_dist = stats.binom(n_visitors, p_clickthrough)"
   ]
  },
  {
   "cell_type": "code",
   "execution_count": 30,
   "id": "f427c005",
   "metadata": {},
   "outputs": [
    {
     "data": {
      "text/plain": [
       "0.13975823631416445"
      ]
     },
     "execution_count": 30,
     "metadata": {},
     "output_type": "execute_result"
    }
   ],
   "source": [
    "click_dist.sf(96)"
   ]
  },
  {
   "cell_type": "code",
   "execution_count": 90,
   "id": "f37d3846",
   "metadata": {},
   "outputs": [
    {
     "data": {
      "text/plain": [
       "0.1361"
      ]
     },
     "execution_count": 90,
     "metadata": {},
     "output_type": "execute_result"
    }
   ],
   "source": [
    "#simulation\n",
    "clicks = np.random.choice([0,1], size=(10_000, 4326), p = (1-0.02, 0.02))\n",
    "(clicks.sum(axis=1) >= 97).mean()"
   ]
  },
  {
   "cell_type": "code",
   "execution_count": 91,
   "id": "519ebfca",
   "metadata": {},
   "outputs": [
    {
     "data": {
      "text/plain": [
       "0.14211867659283192"
      ]
     },
     "execution_count": 91,
     "metadata": {},
     "output_type": "execute_result"
    }
   ],
   "source": [
    "#poisson distribution\n",
    "λ = n_visitors*p_clickthrough\n",
    "poisson_clicks = stats.poisson(λ)\n",
    "poisson_clicks.sf(96)"
   ]
  },
  {
   "cell_type": "markdown",
   "id": "548074fa",
   "metadata": {},
   "source": [
    "4.\n",
    "\n",
    "\n",
    "\n",
    "You are working on some statistics homework consisting of 100 questions where all of the answers are a probability rounded to the hundreths place. Looking to save time, you put down random probabilities as the answer to each question.\n",
    "\n",
    "- What is the probability that at least one of your first 60 answers is correct?\n",
    "\n"
   ]
  },
  {
   "cell_type": "code",
   "execution_count": 47,
   "id": "0d2bd148",
   "metadata": {},
   "outputs": [
    {
     "data": {
      "text/plain": [
       "0.45284335760923855"
      ]
     },
     "execution_count": 47,
     "metadata": {},
     "output_type": "execute_result"
    }
   ],
   "source": [
    "# using a binomial\n",
    "answers_binom_dist = stats.binom(60, 0.01)\n",
    "answers_binom_dist.sf(0)"
   ]
  },
  {
   "cell_type": "code",
   "execution_count": 94,
   "id": "faf056bd",
   "metadata": {},
   "outputs": [
    {
     "data": {
      "text/plain": [
       "0.4587"
      ]
     },
     "execution_count": 94,
     "metadata": {},
     "output_type": "execute_result"
    }
   ],
   "source": [
    "#simulations\n",
    "((np.random.choice([0,1], size=(10_000, 60), p = (0.99, 0.01))).sum(axis = 1) > 0).mean()"
   ]
  },
  {
   "cell_type": "code",
   "execution_count": null,
   "id": "ceaf98e6",
   "metadata": {},
   "outputs": [],
   "source": []
  },
  {
   "cell_type": "markdown",
   "id": "7b1663ad",
   "metadata": {},
   "source": [
    "5.\n",
    "\n",
    "The codeup staff tends to get upset when the student break area is not cleaned up. Suppose that there's a 3% chance that any one student cleans the break area when they visit it, and, on any given day, about 90% of the 3 active cohorts of 22 students visit the break area. How likely is it that the break area gets cleaned up each day? How likely is it that it goes two days without getting cleaned up? All week?"
   ]
  },
  {
   "cell_type": "code",
   "execution_count": 95,
   "id": "3243eb06",
   "metadata": {},
   "outputs": [],
   "source": [
    "# binomial\n",
    "p_clean = 0.03\n",
    "n_students = round(3*22*0.9)\n",
    "cleaning_dist = stats.binom(n_students, p_clean)"
   ]
  },
  {
   "cell_type": "code",
   "execution_count": 96,
   "id": "6d22e11c",
   "metadata": {},
   "outputs": [
    {
     "data": {
      "text/plain": [
       "0.8342199288437352"
      ]
     },
     "execution_count": 96,
     "metadata": {},
     "output_type": "execute_result"
    }
   ],
   "source": [
    "# How likely is it that the break area gets cleaned up each day?\n",
    "cleaning_dist.sf(0)"
   ]
  },
  {
   "cell_type": "code",
   "execution_count": 106,
   "id": "feb21953",
   "metadata": {},
   "outputs": [
    {
     "data": {
      "text/plain": [
       "0.027483031992576134"
      ]
     },
     "execution_count": 106,
     "metadata": {},
     "output_type": "execute_result"
    }
   ],
   "source": [
    "# How likely is it that it goes two days without getting cleaned up?\n",
    "cleaning_two_day = stats.binom(n_students*2, p_clean)\n",
    "#both of these are basically the same\n",
    "cleaning_two_day.cdf(0) \n",
    "cleaning_two_day.pmf(0)"
   ]
  },
  {
   "cell_type": "code",
   "execution_count": 98,
   "id": "8d1df38a",
   "metadata": {},
   "outputs": [
    {
     "data": {
      "text/plain": [
       "0.00012521651388091353"
      ]
     },
     "execution_count": 98,
     "metadata": {},
     "output_type": "execute_result"
    }
   ],
   "source": [
    "# All week?\n",
    "cleaning_week = stats.binom(n_students*5, p_clean)\n",
    "cleaning_week.cdf(0)"
   ]
  },
  {
   "cell_type": "markdown",
   "id": "bbea3a50",
   "metadata": {},
   "source": [
    "6. \n",
    "\n",
    "\n",
    "You want to get lunch at La Panaderia, but notice that the line is usually very long at lunchtime. After several weeks of careful observation, you notice that the average number of people in line when your lunch break starts is normally distributed with a mean of 15 and standard deviation of 3. If it takes 2 minutes for each person to order, and 10 minutes from ordering to getting your food, what is the likelihood that you have at least 15 minutes left to eat your food before you have to go back to class? Assume you have one hour for lunch, and ignore travel time to and from La Panaderia."
   ]
  },
  {
   "cell_type": "code",
   "execution_count": 112,
   "id": "1cb1da45",
   "metadata": {},
   "outputs": [
    {
     "data": {
      "text/plain": [
       "0.6914624612740131"
      ]
     },
     "execution_count": 112,
     "metadata": {},
     "output_type": "execute_result"
    }
   ],
   "source": [
    "queue_dist = stats.norm(15, 3)\n",
    "# let x be the number of people in line then the total time to get food is 12+2x,\n",
    "# this must be less than or equal 45 minutes\n",
    "# can solve for the number of people: 12+2x <= 45 implies x <= 16.5\n",
    "# therefore we need the probability that there are less than 18 people in line\n",
    "queue_dist.cdf(16.5)"
   ]
  },
  {
   "cell_type": "code",
   "execution_count": 113,
   "id": "7f4f8514",
   "metadata": {},
   "outputs": [
    {
     "data": {
      "text/plain": [
       "0.6914624612740131"
      ]
     },
     "execution_count": 113,
     "metadata": {},
     "output_type": "execute_result"
    }
   ],
   "source": [
    "#using minutes\n",
    "queue_wait = stats.norm(15*2, 3*2)\n",
    "queue_wait.cdf(33)"
   ]
  },
  {
   "cell_type": "markdown",
   "id": "824e236b",
   "metadata": {},
   "source": [
    "7.\n",
    "\n",
    "\n",
    "Connect to the employees database and find the average salary of current employees, along with the standard deviation. For the following questions, calculate the answer based on modeling the employees salaries with a normal distribution defined by the calculated mean and standard deviation then compare this answer to the actual values present in the salaries dataset.\n",
    "\n",
    "- What percent of employees earn less than 60,000?\n",
    "- What percent of employees earn more than 95,000?\n",
    "- What percent of employees earn between 65,000 and 80,000?\n",
    "- What do the top 5% of employees make?\n"
   ]
  },
  {
   "cell_type": "code",
   "execution_count": 37,
   "id": "86110bfb",
   "metadata": {},
   "outputs": [],
   "source": [
    "import env"
   ]
  },
  {
   "cell_type": "code",
   "execution_count": 39,
   "id": "c6a04fb1",
   "metadata": {},
   "outputs": [],
   "source": [
    "query = '''\n",
    "select avg(s.salary) as avg_salary, std(s.salary) as std_salary\n",
    "\tfrom employees as e\n",
    "\t\tjoin dept_emp as de using (emp_no)\n",
    "        join salaries as s using (emp_no)\n",
    "    where de.to_date > now() and s.to_date > now();\n",
    "'''\n",
    "info = pd.read_sql_query(query, env.get_db_url('employees'))"
   ]
  },
  {
   "cell_type": "code",
   "execution_count": 115,
   "id": "d3940db2",
   "metadata": {},
   "outputs": [],
   "source": [
    "salary_dist = stats.norm(info['avg_salary'][0], info['std_salary'][0])"
   ]
  },
  {
   "cell_type": "code",
   "execution_count": 41,
   "id": "c3c66e5d",
   "metadata": {},
   "outputs": [
    {
     "data": {
      "text/plain": [
       "0.2438569709201618"
      ]
     },
     "execution_count": 41,
     "metadata": {},
     "output_type": "execute_result"
    }
   ],
   "source": [
    "# What percent of employees earn less than 60,000?\n",
    "salary_dist.cdf(60_000)"
   ]
  },
  {
   "cell_type": "code",
   "execution_count": 42,
   "id": "a6fe16eb",
   "metadata": {},
   "outputs": [
    {
     "data": {
      "text/plain": [
       "0.09208773564924777"
      ]
     },
     "execution_count": 42,
     "metadata": {},
     "output_type": "execute_result"
    }
   ],
   "source": [
    "# What percent of employees earn more than 95,000?\n",
    "salary_dist.sf(95_000)"
   ]
  },
  {
   "cell_type": "code",
   "execution_count": 118,
   "id": "22bbb451",
   "metadata": {},
   "outputs": [
    {
     "data": {
      "text/plain": [
       "0.3350612231883823"
      ]
     },
     "execution_count": 118,
     "metadata": {},
     "output_type": "execute_result"
    }
   ],
   "source": [
    "# What percent of employees earn between 65,000 and 80,000?\n",
    "salary_dist.cdf(80_000) - salary_dist.cdf(65_000)"
   ]
  },
  {
   "cell_type": "code",
   "execution_count": 119,
   "id": "cc9182e7",
   "metadata": {},
   "outputs": [
    {
     "data": {
      "text/plain": [
       "100484.58529677246"
      ]
     },
     "execution_count": 119,
     "metadata": {},
     "output_type": "execute_result"
    }
   ],
   "source": [
    "# What do the top 5% of employees make? \n",
    "salary_dist.isf(0.05)\n",
    "#note: we are assuming that the salaries are a normal distribution, it might not be"
   ]
  },
  {
   "cell_type": "code",
   "execution_count": null,
   "id": "7d3b8050",
   "metadata": {},
   "outputs": [],
   "source": []
  }
 ],
 "metadata": {
  "kernelspec": {
   "display_name": "Python 3 (ipykernel)",
   "language": "python",
   "name": "python3"
  },
  "language_info": {
   "codemirror_mode": {
    "name": "ipython",
    "version": 3
   },
   "file_extension": ".py",
   "mimetype": "text/x-python",
   "name": "python",
   "nbconvert_exporter": "python",
   "pygments_lexer": "ipython3",
   "version": "3.9.7"
  }
 },
 "nbformat": 4,
 "nbformat_minor": 5
}

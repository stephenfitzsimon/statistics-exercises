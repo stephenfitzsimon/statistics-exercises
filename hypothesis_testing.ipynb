{
 "cells": [
  {
   "cell_type": "code",
   "execution_count": 29,
   "id": "4c20ef67",
   "metadata": {},
   "outputs": [],
   "source": [
    "import scipy.stats as stats\n",
    "import numpy as np\n",
    "import matplotlib.pyplot as plt\n",
    "import pandas as pd\n",
    "from math import sqrt\n",
    "import env"
   ]
  },
  {
   "cell_type": "markdown",
   "id": "e431fa0f",
   "metadata": {},
   "source": [
    "# hypothesis testing exercises"
   ]
  },
  {
   "cell_type": "markdown",
   "id": "1dd71b73",
   "metadata": {},
   "source": [
    "- Has the network latency gone up since we switched internet service providers?\n",
    "\n",
    "$H_0$ : $\\mu_0 = \\mu_1$ where $\\mu_t$ is the mean latency for a given time period, $t$. Network latency has not increased\n",
    "\n",
    "$H_a$ : $\\mu_0 \\neq \\mu_1$ Network latency has changed\n",
    "\n",
    "True positive : The latency has changed, and it has\n",
    "\n",
    "True negative : The latency has not changed, and it hasn't \n",
    "\n",
    "Type I Error : Thinking that the latency has changed when it has not.\n",
    "\n",
    "Type II Error : Think that the latency is the same, when it is no longer the same.\n",
    " \n",
    " \n",
    "- Is the website redesign any good?\n",
    "\n",
    "Let $\\mu_k$ be the mean daily site visits at time period $k$\n",
    "\n",
    "$H_0$ : $\\mu_0 = \\mu_1$ - the mean daily site vist length hasn't changed\n",
    "\n",
    "$H_a$ : $\\mu_0 \\neq \\mu_1$ mean daily site visits have changed\n",
    "\n",
    "True positive : site visit length has changed, and it has\n",
    "\n",
    "True negative : site visit length has not changed, and it hasn't\n",
    "\n",
    "Type I Error : The design change is good (site vist length has changed) when it has no effect\n",
    "\n",
    "Type II Error : The design change had no effect, when it has had an effect\n",
    "\n",
    "\n",
    "- Is our television ad driving more sales?\n",
    "\n",
    "Let $\\mu_g$ be average sales in $g$, a tv media market\n",
    "\n",
    "$H_0$ : $\\mu_g = \\mu_{g'}$\n",
    "\n",
    "Alt: $H_0$ : $s_0 \\leq s_1$ where $s_t$ is the sales volumes at time $t$. w/ $H_a$ : $s_0 > s_1$\n",
    "\n",
    "$H_a$ : $\\mu_g \\neq \\mu_{g'}$\n",
    "\n",
    "True positive : ad has had some effect on sales\n",
    "\n",
    "True negative : ad has had no effect on sales\n",
    "\n",
    "Type I Error : ad has an effect on sales, but is assumed not to have had an effect\n",
    "\n",
    "Type II Error :  ad has no effect, but in fact changed sales"
   ]
  },
  {
   "cell_type": "markdown",
   "id": "0820739b",
   "metadata": {},
   "source": [
    "## T-Test"
   ]
  },
  {
   "cell_type": "markdown",
   "id": "5a053632",
   "metadata": {},
   "source": [
    "1.\n",
    "\n",
    "Ace Realty wants to determine whether the average time it takes to sell homes is different for its two offices. A sample of 40 sales from office #1 revealed a mean of 90 days and a standard deviation of 15 days. A sample of 50 sales from office #2 revealed a mean of 100 days and a standard deviation of 20 days. Use a .05 level of significance."
   ]
  },
  {
   "cell_type": "code",
   "execution_count": 1,
   "id": "fef6b75a",
   "metadata": {},
   "outputs": [],
   "source": [
    "#office 1 stats\n",
    "size_office_1 = 40\n",
    "mu_office_1 = 90\n",
    "sigma_office_1 = 15\n",
    "\n",
    "#office 2 stats\n",
    "size_office_2 = 50\n",
    "mu_office_2 = 100\n",
    "sigma_office_2 = 20\n",
    "\n",
    "alpha = 0.05"
   ]
  },
  {
   "cell_type": "code",
   "execution_count": 66,
   "id": "7e9b1680",
   "metadata": {},
   "outputs": [
    {
     "data": {
      "text/plain": [
       "[<matplotlib.lines.Line2D at 0x7f9540120850>]"
      ]
     },
     "execution_count": 66,
     "metadata": {},
     "output_type": "execute_result"
    },
    {
     "data": {
      "image/png": "[encoded data removed]",
      "text/plain": [
       "<Figure size 432x288 with 1 Axes>"
      ]
     },
     "metadata": {
      "needs_background": "light"
     },
     "output_type": "display_data"
    }
   ],
   "source": [
    "# can visualize these distributions\n",
    "x = np.arange(50, 150)\n",
    "y1 = stats.norm(mu_office_1, sigma_office_1).pdf(x)\n",
    "y2 = stats.norm(mu_office_2, sigma_office_2).pdf(x)\n",
    "\n",
    "plt.plot(x, y1)\n",
    "plt.plot(x, y2)"
   ]
  },
  {
   "cell_type": "markdown",
   "id": "ec04285b",
   "metadata": {},
   "source": [
    "$H_0$ : mu_office_1 = mu_office_2\n",
    "\n",
    "$H_a$ : mu_office_1 $\\neq$ mu_office_2"
   ]
  },
  {
   "cell_type": "code",
   "execution_count": 67,
   "id": "d5ba9ebc",
   "metadata": {},
   "outputs": [],
   "source": [
    "# calculate the t stat and the p value\n",
    "t, p = stats.ttest_ind_from_stats(mu_office_1, sigma_office_1, size_office_1, mu_office_2, sigma_office_2, size_office_2, equal_var = False)"
   ]
  },
  {
   "cell_type": "code",
   "execution_count": 68,
   "id": "4f043fd7",
   "metadata": {},
   "outputs": [
    {
     "data": {
      "text/plain": [
       "(-2.7091418459143854, 0.00811206270346016)"
      ]
     },
     "execution_count": 68,
     "metadata": {},
     "output_type": "execute_result"
    }
   ],
   "source": [
    "t, p"
   ]
  },
  {
   "cell_type": "code",
   "execution_count": 69,
   "id": "37c4fbbc",
   "metadata": {},
   "outputs": [
    {
     "data": {
      "text/plain": [
       "True"
      ]
     },
     "execution_count": 69,
     "metadata": {},
     "output_type": "execute_result"
    }
   ],
   "source": [
    "# take p since this is a two tail test\n",
    "p < alpha"
   ]
  },
  {
   "cell_type": "markdown",
   "id": "ed280da6",
   "metadata": {},
   "source": [
    "There are grounds to reject $H_0$. The sales time is different at the two offices."
   ]
  },
  {
   "cell_type": "markdown",
   "id": "f4f43e52",
   "metadata": {},
   "source": [
    "2.\n",
    "\n",
    "Load the mpg dataset and use it to answer the following questions:\n",
    "\n",
    "- Is there a difference in fuel-efficiency in cars from 2008 vs 1999?\n",
    "- Are compact cars more fuel-efficient than the average car?\n",
    "- Do manual cars get better gas mileage than automatic cars?\n",
    "\n"
   ]
  },
  {
   "cell_type": "code",
   "execution_count": 74,
   "id": "916a0984",
   "metadata": {},
   "outputs": [
    {
     "data": {
      "text/html": [
       "<div>\n",
       "<style scoped>\n",
       "    .dataframe tbody tr th:only-of-type {\n",
       "        vertical-align: middle;\n",
       "    }\n",
       "\n",
       "    .dataframe tbody tr th {\n",
       "        vertical-align: top;\n",
       "    }\n",
       "\n",
       "    .dataframe thead th {\n",
       "        text-align: right;\n",
       "    }\n",
       "</style>\n",
       "<table border=\"1\" class=\"dataframe\">\n",
       "  <thead>\n",
       "    <tr style=\"text-align: right;\">\n",
       "      <th></th>\n",
       "      <th>manufacturer</th>\n",
       "      <th>model</th>\n",
       "      <th>displ</th>\n",
       "      <th>year</th>\n",
       "      <th>cyl</th>\n",
       "      <th>trans</th>\n",
       "      <th>drv</th>\n",
       "      <th>cty</th>\n",
       "      <th>hwy</th>\n",
       "      <th>fl</th>\n",
       "      <th>class</th>\n",
       "      <th>f_ef</th>\n",
       "    </tr>\n",
       "  </thead>\n",
       "  <tbody>\n",
       "    <tr>\n",
       "      <th>1</th>\n",
       "      <td>audi</td>\n",
       "      <td>a4</td>\n",
       "      <td>1.8</td>\n",
       "      <td>1999</td>\n",
       "      <td>4</td>\n",
       "      <td>auto(l5)</td>\n",
       "      <td>f</td>\n",
       "      <td>18</td>\n",
       "      <td>29</td>\n",
       "      <td>p</td>\n",
       "      <td>compact</td>\n",
       "      <td>22.212766</td>\n",
       "    </tr>\n",
       "    <tr>\n",
       "      <th>2</th>\n",
       "      <td>audi</td>\n",
       "      <td>a4</td>\n",
       "      <td>1.8</td>\n",
       "      <td>1999</td>\n",
       "      <td>4</td>\n",
       "      <td>manual(m5)</td>\n",
       "      <td>f</td>\n",
       "      <td>21</td>\n",
       "      <td>29</td>\n",
       "      <td>p</td>\n",
       "      <td>compact</td>\n",
       "      <td>24.360000</td>\n",
       "    </tr>\n",
       "    <tr>\n",
       "      <th>3</th>\n",
       "      <td>audi</td>\n",
       "      <td>a4</td>\n",
       "      <td>2.0</td>\n",
       "      <td>2008</td>\n",
       "      <td>4</td>\n",
       "      <td>manual(m6)</td>\n",
       "      <td>f</td>\n",
       "      <td>20</td>\n",
       "      <td>31</td>\n",
       "      <td>p</td>\n",
       "      <td>compact</td>\n",
       "      <td>24.313725</td>\n",
       "    </tr>\n",
       "    <tr>\n",
       "      <th>4</th>\n",
       "      <td>audi</td>\n",
       "      <td>a4</td>\n",
       "      <td>2.0</td>\n",
       "      <td>2008</td>\n",
       "      <td>4</td>\n",
       "      <td>auto(av)</td>\n",
       "      <td>f</td>\n",
       "      <td>21</td>\n",
       "      <td>30</td>\n",
       "      <td>p</td>\n",
       "      <td>compact</td>\n",
       "      <td>24.705882</td>\n",
       "    </tr>\n",
       "    <tr>\n",
       "      <th>5</th>\n",
       "      <td>audi</td>\n",
       "      <td>a4</td>\n",
       "      <td>2.8</td>\n",
       "      <td>1999</td>\n",
       "      <td>6</td>\n",
       "      <td>auto(l5)</td>\n",
       "      <td>f</td>\n",
       "      <td>16</td>\n",
       "      <td>26</td>\n",
       "      <td>p</td>\n",
       "      <td>compact</td>\n",
       "      <td>19.809524</td>\n",
       "    </tr>\n",
       "    <tr>\n",
       "      <th>...</th>\n",
       "      <td>...</td>\n",
       "      <td>...</td>\n",
       "      <td>...</td>\n",
       "      <td>...</td>\n",
       "      <td>...</td>\n",
       "      <td>...</td>\n",
       "      <td>...</td>\n",
       "      <td>...</td>\n",
       "      <td>...</td>\n",
       "      <td>...</td>\n",
       "      <td>...</td>\n",
       "      <td>...</td>\n",
       "    </tr>\n",
       "    <tr>\n",
       "      <th>230</th>\n",
       "      <td>volkswagen</td>\n",
       "      <td>passat</td>\n",
       "      <td>2.0</td>\n",
       "      <td>2008</td>\n",
       "      <td>4</td>\n",
       "      <td>auto(s6)</td>\n",
       "      <td>f</td>\n",
       "      <td>19</td>\n",
       "      <td>28</td>\n",
       "      <td>p</td>\n",
       "      <td>midsize</td>\n",
       "      <td>22.638298</td>\n",
       "    </tr>\n",
       "    <tr>\n",
       "      <th>231</th>\n",
       "      <td>volkswagen</td>\n",
       "      <td>passat</td>\n",
       "      <td>2.0</td>\n",
       "      <td>2008</td>\n",
       "      <td>4</td>\n",
       "      <td>manual(m6)</td>\n",
       "      <td>f</td>\n",
       "      <td>21</td>\n",
       "      <td>29</td>\n",
       "      <td>p</td>\n",
       "      <td>midsize</td>\n",
       "      <td>24.360000</td>\n",
       "    </tr>\n",
       "    <tr>\n",
       "      <th>232</th>\n",
       "      <td>volkswagen</td>\n",
       "      <td>passat</td>\n",
       "      <td>2.8</td>\n",
       "      <td>1999</td>\n",
       "      <td>6</td>\n",
       "      <td>auto(l5)</td>\n",
       "      <td>f</td>\n",
       "      <td>16</td>\n",
       "      <td>26</td>\n",
       "      <td>p</td>\n",
       "      <td>midsize</td>\n",
       "      <td>19.809524</td>\n",
       "    </tr>\n",
       "    <tr>\n",
       "      <th>233</th>\n",
       "      <td>volkswagen</td>\n",
       "      <td>passat</td>\n",
       "      <td>2.8</td>\n",
       "      <td>1999</td>\n",
       "      <td>6</td>\n",
       "      <td>manual(m5)</td>\n",
       "      <td>f</td>\n",
       "      <td>18</td>\n",
       "      <td>26</td>\n",
       "      <td>p</td>\n",
       "      <td>midsize</td>\n",
       "      <td>21.272727</td>\n",
       "    </tr>\n",
       "    <tr>\n",
       "      <th>234</th>\n",
       "      <td>volkswagen</td>\n",
       "      <td>passat</td>\n",
       "      <td>3.6</td>\n",
       "      <td>2008</td>\n",
       "      <td>6</td>\n",
       "      <td>auto(s6)</td>\n",
       "      <td>f</td>\n",
       "      <td>17</td>\n",
       "      <td>26</td>\n",
       "      <td>p</td>\n",
       "      <td>midsize</td>\n",
       "      <td>20.558140</td>\n",
       "    </tr>\n",
       "  </tbody>\n",
       "</table>\n",
       "<p>234 rows × 12 columns</p>\n",
       "</div>"
      ],
      "text/plain": [
       "    manufacturer   model  displ  year  cyl       trans drv  cty  hwy fl  \\\n",
       "1           audi      a4    1.8  1999    4    auto(l5)   f   18   29  p   \n",
       "2           audi      a4    1.8  1999    4  manual(m5)   f   21   29  p   \n",
       "3           audi      a4    2.0  2008    4  manual(m6)   f   20   31  p   \n",
       "4           audi      a4    2.0  2008    4    auto(av)   f   21   30  p   \n",
       "5           audi      a4    2.8  1999    6    auto(l5)   f   16   26  p   \n",
       "..           ...     ...    ...   ...  ...         ...  ..  ...  ... ..   \n",
       "230   volkswagen  passat    2.0  2008    4    auto(s6)   f   19   28  p   \n",
       "231   volkswagen  passat    2.0  2008    4  manual(m6)   f   21   29  p   \n",
       "232   volkswagen  passat    2.8  1999    6    auto(l5)   f   16   26  p   \n",
       "233   volkswagen  passat    2.8  1999    6  manual(m5)   f   18   26  p   \n",
       "234   volkswagen  passat    3.6  2008    6    auto(s6)   f   17   26  p   \n",
       "\n",
       "       class       f_ef  \n",
       "1    compact  22.212766  \n",
       "2    compact  24.360000  \n",
       "3    compact  24.313725  \n",
       "4    compact  24.705882  \n",
       "5    compact  19.809524  \n",
       "..       ...        ...  \n",
       "230  midsize  22.638298  \n",
       "231  midsize  24.360000  \n",
       "232  midsize  19.809524  \n",
       "233  midsize  21.272727  \n",
       "234  midsize  20.558140  \n",
       "\n",
       "[234 rows x 12 columns]"
      ]
     },
     "execution_count": 74,
     "metadata": {},
     "output_type": "execute_result"
    }
   ],
   "source": [
    "from pydataset import data\n",
    "df_mpg = data('mpg')\n",
    "df_mpg['f_ef'] = (df_mpg.cty + df_mpg.hwy)/2\n",
    "# can use the harmonic mean, probs is more accurate\n",
    "df_mpg['f_ef'] = stats.hmean(df_mpg[{'cty', 'hwy'}], axis =1)\n",
    "df_mpg"
   ]
  },
  {
   "cell_type": "markdown",
   "id": "b7bbab40",
   "metadata": {},
   "source": [
    "- Is there a difference in fuel-efficiency in cars from 2008 vs 1999?"
   ]
  },
  {
   "cell_type": "markdown",
   "id": "9d62b163",
   "metadata": {},
   "source": [
    "$H_0$ : $\\mu_{2008} = \\mu_{1999}$\n",
    "\n",
    "$H_a$ :$\\mu_{2008} \\neq \\mu_{1999}$\n",
    "\n",
    "$\\alpha$ = 0.05"
   ]
  },
  {
   "cell_type": "code",
   "execution_count": 75,
   "id": "d0775f33",
   "metadata": {},
   "outputs": [
    {
     "data": {
      "text/plain": [
       "(19.488662986569054, 19.68238764869729)"
      ]
     },
     "execution_count": 75,
     "metadata": {},
     "output_type": "execute_result"
    }
   ],
   "source": [
    "#make the two series sets:\n",
    "fe_2008 = df_mpg[df_mpg.year==2008].f_ef\n",
    "fe_1999 = df_mpg[df_mpg.year==1999].f_ef\n",
    "fe_2008.mean(), fe_1999.mean()"
   ]
  },
  {
   "cell_type": "code",
   "execution_count": 80,
   "id": "d679bc4d",
   "metadata": {},
   "outputs": [
    {
     "data": {
      "text/plain": [
       "(22.550836772260343, 25.850396545865912)"
      ]
     },
     "execution_count": 80,
     "metadata": {},
     "output_type": "execute_result"
    }
   ],
   "source": [
    "# compare variance:\n",
    "fe_2008.var(), fe_1999.var()"
   ]
  },
  {
   "cell_type": "code",
   "execution_count": 81,
   "id": "84819b76",
   "metadata": {},
   "outputs": [
    {
     "data": {
      "text/plain": [
       "False"
      ]
     },
     "execution_count": 81,
     "metadata": {},
     "output_type": "execute_result"
    }
   ],
   "source": [
    "s, p = stats.levene(fe_2008, fe_1999)\n",
    "p < 0.05 #we will use equal_var=True"
   ]
  },
  {
   "cell_type": "code",
   "execution_count": 84,
   "id": "f4aa3464",
   "metadata": {},
   "outputs": [
    {
     "data": {
      "text/plain": [
       "(-0.3011962975077886, 0.7635345888327115)"
      ]
     },
     "execution_count": 84,
     "metadata": {},
     "output_type": "execute_result"
    }
   ],
   "source": [
    "# this is a two tailed test so can keep p as is\n",
    "t, p = stats.ttest_ind(fe_2008, fe_1999, equal_var = True)\n",
    "t, p"
   ]
  },
  {
   "cell_type": "code",
   "execution_count": 87,
   "id": "681dc2cc",
   "metadata": {},
   "outputs": [
    {
     "data": {
      "text/plain": [
       "False"
      ]
     },
     "execution_count": 87,
     "metadata": {},
     "output_type": "execute_result"
    }
   ],
   "source": [
    "p < alpha"
   ]
  },
  {
   "cell_type": "code",
   "execution_count": 78,
   "id": "2df94727",
   "metadata": {},
   "outputs": [
    {
     "data": {
      "text/plain": [
       "<AxesSubplot:>"
      ]
     },
     "execution_count": 78,
     "metadata": {},
     "output_type": "execute_result"
    },
    {
     "data": {
      "image/png": "[encoded data removed]",
      "text/plain": [
       "<Figure size 432x288 with 1 Axes>"
      ]
     },
     "metadata": {
      "needs_background": "light"
     },
     "output_type": "display_data"
    }
   ],
   "source": [
    "fe_2008.hist()"
   ]
  },
  {
   "cell_type": "code",
   "execution_count": 79,
   "id": "1239fa81",
   "metadata": {},
   "outputs": [
    {
     "data": {
      "text/plain": [
       "<AxesSubplot:>"
      ]
     },
     "execution_count": 79,
     "metadata": {},
     "output_type": "execute_result"
    },
    {
     "data": {
      "image/png": "[encoded data removed]",
      "text/plain": [
       "<Figure size 432x288 with 1 Axes>"
      ]
     },
     "metadata": {
      "needs_background": "light"
     },
     "output_type": "display_data"
    }
   ],
   "source": [
    "fe_1999.hist()"
   ]
  },
  {
   "cell_type": "markdown",
   "id": "99a13ae5",
   "metadata": {},
   "source": [
    "It is unlikely that the fuel efficiency has changed. $H_0$ is not rejected"
   ]
  },
  {
   "cell_type": "markdown",
   "id": "8e6c31f0",
   "metadata": {},
   "source": [
    "- Are compact cars more fuel-efficient than the average car?"
   ]
  },
  {
   "cell_type": "markdown",
   "id": "1b04037c",
   "metadata": {},
   "source": [
    "$H_0$ : $\\mu_{compact} \\leq \\mu$\n",
    "\n",
    "$H_a$ : $\\mu_{compact} > \\mu$\n",
    "\n",
    "Where $\\mu$ is mpg for average car\n",
    "\n",
    "This is a one-sample t-test"
   ]
  },
  {
   "cell_type": "code",
   "execution_count": 93,
   "id": "cdcca4fa",
   "metadata": {},
   "outputs": [
    {
     "data": {
      "text/plain": [
       "(23.500416808701296, 19.585525317633177)"
      ]
     },
     "execution_count": 93,
     "metadata": {},
     "output_type": "execute_result"
    }
   ],
   "source": [
    "#make two series and look at their mean\n",
    "compact = df_mpg[df_mpg['class'] == 'compact'].f_ef\n",
    "population = df_mpg.f_ef\n",
    "compact.mean(), population.mean()"
   ]
  },
  {
   "cell_type": "code",
   "execution_count": 101,
   "id": "e8a7e71a",
   "metadata": {},
   "outputs": [
    {
     "data": {
      "text/plain": [
       "(array([[ 0.,  0.,  3., 13., 20.,  6.,  3.,  1.,  0.,  1.],\n",
       "        [20., 48., 39., 51., 48., 16.,  8.,  1.,  1.,  2.]]),\n",
       " array([10.28571429, 13.15587703, 16.02603978, 18.89620253, 21.76636528,\n",
       "        24.63652803, 27.50669078, 30.37685353, 33.24701627, 36.11717902,\n",
       "        38.98734177]),\n",
       " <a list of 2 BarContainer objects>)"
      ]
     },
     "execution_count": 101,
     "metadata": {},
     "output_type": "execute_result"
    },
    {
     "data": {
      "image/png": "[encoded data removed]",
      "text/plain": [
       "<Figure size 432x288 with 1 Axes>"
      ]
     },
     "metadata": {
      "needs_background": "light"
     },
     "output_type": "display_data"
    }
   ],
   "source": [
    "plt.hist([compact, population])"
   ]
  },
  {
   "cell_type": "code",
   "execution_count": 96,
   "id": "61124cae",
   "metadata": {},
   "outputs": [
    {
     "data": {
      "text/plain": [
       "(7.512360093161354, 7.808833174403864e-10)"
      ]
     },
     "execution_count": 96,
     "metadata": {},
     "output_type": "execute_result"
    }
   ],
   "source": [
    "#this a single tail test since H_0 contains <=\n",
    "# will take p/2\n",
    "t, p = stats.ttest_1samp(compact, population.mean())\n",
    "t, p/2"
   ]
  },
  {
   "cell_type": "code",
   "execution_count": 97,
   "id": "58e2bfc8",
   "metadata": {},
   "outputs": [
    {
     "data": {
      "text/plain": [
       "True"
      ]
     },
     "execution_count": 97,
     "metadata": {},
     "output_type": "execute_result"
    }
   ],
   "source": [
    "p/2 < alpha"
   ]
  },
  {
   "cell_type": "markdown",
   "id": "942f7690",
   "metadata": {},
   "source": [
    "It is likely that compact cars are more fuel efficient than non-compact cars.  $H_0$ can be reasonably rejected."
   ]
  },
  {
   "cell_type": "markdown",
   "id": "4e487172",
   "metadata": {},
   "source": [
    "- Do manual cars get better gas mileage than automatic cars?"
   ]
  },
  {
   "cell_type": "markdown",
   "id": "0b747f12",
   "metadata": {},
   "source": [
    "$H_0$ : $\\mu_{manual} \\leq \\mu_{automatic}$\n",
    "\n",
    "$H_a$ : $\\mu_{manual} > \\mu_{automatic}$"
   ]
  },
  {
   "cell_type": "code",
   "execution_count": 102,
   "id": "67cc6e81",
   "metadata": {},
   "outputs": [
    {
     "data": {
      "text/plain": [
       "(21.629228592155194, 18.583199507835747)"
      ]
     },
     "execution_count": 102,
     "metadata": {},
     "output_type": "execute_result"
    }
   ],
   "source": [
    "# make two series and look at their mean\n",
    "automatic = df_mpg[df_mpg.trans.str.contains('auto')].f_ef\n",
    "manual = df_mpg[df_mpg.trans.str.contains('manual')].f_ef\n",
    "manual.mean(), automatic.mean()"
   ]
  },
  {
   "cell_type": "code",
   "execution_count": 112,
   "id": "4bbdae86",
   "metadata": {},
   "outputs": [
    {
     "data": {
      "text/plain": [
       "((77,), (157,))"
      ]
     },
     "execution_count": 112,
     "metadata": {},
     "output_type": "execute_result"
    }
   ],
   "source": [
    "manual.shape, automatic.shape"
   ]
  },
  {
   "cell_type": "code",
   "execution_count": 113,
   "id": "7ec627bd",
   "metadata": {},
   "outputs": [
    {
     "data": {
      "text/plain": [
       "<AxesSubplot:>"
      ]
     },
     "execution_count": 113,
     "metadata": {},
     "output_type": "execute_result"
    },
    {
     "data": {
      "image/png": "[encoded data removed]",
      "text/plain": [
       "<Figure size 432x288 with 1 Axes>"
      ]
     },
     "metadata": {
      "needs_background": "light"
     },
     "output_type": "display_data"
    }
   ],
   "source": [
    "manual.hist()"
   ]
  },
  {
   "cell_type": "code",
   "execution_count": 114,
   "id": "2f3cb67f",
   "metadata": {},
   "outputs": [
    {
     "data": {
      "text/plain": [
       "<AxesSubplot:>"
      ]
     },
     "execution_count": 114,
     "metadata": {},
     "output_type": "execute_result"
    },
    {
     "data": {
      "image/png": "[encoded data removed]",
      "text/plain": [
       "<Figure size 432x288 with 1 Axes>"
      ]
     },
     "metadata": {
      "needs_background": "light"
     },
     "output_type": "display_data"
    }
   ],
   "source": [
    "automatic.hist()"
   ]
  },
  {
   "cell_type": "code",
   "execution_count": 103,
   "id": "8bef376d",
   "metadata": {},
   "outputs": [
    {
     "data": {
      "text/plain": [
       "False"
      ]
     },
     "execution_count": 103,
     "metadata": {},
     "output_type": "execute_result"
    }
   ],
   "source": [
    "#compare variance\n",
    "s, p = stats.levene(manual, automatic)\n",
    "p < 0.05 #equal_var = True"
   ]
  },
  {
   "cell_type": "code",
   "execution_count": 120,
   "id": "ed0c4fab",
   "metadata": {},
   "outputs": [
    {
     "data": {
      "text/plain": [
       "(4.652577547151351, 5.510464610044005e-06)"
      ]
     },
     "execution_count": 120,
     "metadata": {},
     "output_type": "execute_result"
    }
   ],
   "source": [
    "#This is a single tail test, use p/2\n",
    "t, p = stats.ttest_ind(manual, automatic, equal_var = True)\n",
    "t, p"
   ]
  },
  {
   "cell_type": "code",
   "execution_count": 121,
   "id": "a72421db",
   "metadata": {},
   "outputs": [
    {
     "data": {
      "text/plain": [
       "True"
      ]
     },
     "execution_count": 121,
     "metadata": {},
     "output_type": "execute_result"
    }
   ],
   "source": [
    "p/2 < alpha"
   ]
  },
  {
   "cell_type": "markdown",
   "id": "9627a53d",
   "metadata": {},
   "source": [
    "It is likely that manual cars get better gas mileage than automatic. $H_0$ is likely untrue."
   ]
  },
  {
   "cell_type": "markdown",
   "id": "7a5e11ca",
   "metadata": {},
   "source": [
    "### the above used an avg of city and highway efficiency.  this might effect the results\n",
    "re-run the test with just one of city or highway"
   ]
  },
  {
   "cell_type": "markdown",
   "id": "6e086146",
   "metadata": {},
   "source": [
    "$H_0$ : $\\mu_{08hwy} = \\mu_{99hwy}$\n",
    "\n",
    "$H_a$ : $\\mu_{08hwy} \\neq \\mu_{99hwy}$"
   ]
  },
  {
   "cell_type": "code",
   "execution_count": 106,
   "id": "aec26260",
   "metadata": {},
   "outputs": [
    {
     "data": {
      "text/plain": [
       "(23.45299145299145, 23.427350427350426)"
      ]
     },
     "execution_count": 106,
     "metadata": {},
     "output_type": "execute_result"
    }
   ],
   "source": [
    "#make the two series sets:\n",
    "fe_2008 = df_mpg[df_mpg.year==2008].hwy\n",
    "fe_1999 = df_mpg[df_mpg.year==1999].hwy\n",
    "fe_2008.mean(), fe_1999.mean()"
   ]
  },
  {
   "cell_type": "code",
   "execution_count": 107,
   "id": "345170fb",
   "metadata": {},
   "outputs": [
    {
     "data": {
      "text/plain": [
       "False"
      ]
     },
     "execution_count": 107,
     "metadata": {},
     "output_type": "execute_result"
    }
   ],
   "source": [
    "# compare variance:\n",
    "fe_2008.var(), fe_1999.var()\n",
    "s, p = stats.levene(fe_2008, fe_1999)\n",
    "p < 0.05 #we will use equal_var=True"
   ]
  },
  {
   "cell_type": "code",
   "execution_count": 108,
   "id": "87ee4b0b",
   "metadata": {},
   "outputs": [
    {
     "data": {
      "text/plain": [
       "False"
      ]
     },
     "execution_count": 108,
     "metadata": {},
     "output_type": "execute_result"
    }
   ],
   "source": [
    "# this is a two tailed test so can keep p as is\n",
    "t, p = stats.ttest_ind(fe_2008, fe_1999, equal_var = True)\n",
    "p < alpha"
   ]
  },
  {
   "cell_type": "markdown",
   "id": "690ebfe8",
   "metadata": {},
   "source": [
    "cannot reject $H_0$"
   ]
  },
  {
   "cell_type": "markdown",
   "id": "3fce2361",
   "metadata": {},
   "source": [
    "$H_0$ : $\\mu_{08city} = \\mu_{99city}$\n",
    "\n",
    "$H_a$ : $\\mu_{08city} \\neq \\mu_{99city}$"
   ]
  },
  {
   "cell_type": "code",
   "execution_count": 109,
   "id": "1656ae0d",
   "metadata": {},
   "outputs": [
    {
     "data": {
      "text/plain": [
       "(16.700854700854702, 17.017094017094017)"
      ]
     },
     "execution_count": 109,
     "metadata": {},
     "output_type": "execute_result"
    }
   ],
   "source": [
    "#make the two series sets:\n",
    "fe_2008 = df_mpg[df_mpg.year==2008].cty\n",
    "fe_1999 = df_mpg[df_mpg.year==1999].cty\n",
    "fe_2008.mean(), fe_1999.mean()"
   ]
  },
  {
   "cell_type": "code",
   "execution_count": 110,
   "id": "40402096",
   "metadata": {},
   "outputs": [
    {
     "data": {
      "text/plain": [
       "False"
      ]
     },
     "execution_count": 110,
     "metadata": {},
     "output_type": "execute_result"
    }
   ],
   "source": [
    "# compare variance:\n",
    "fe_2008.var(), fe_1999.var()\n",
    "s, p = stats.levene(fe_2008, fe_1999)\n",
    "p < 0.05 #we will use equal_var=True"
   ]
  },
  {
   "cell_type": "code",
   "execution_count": 111,
   "id": "7e41c78d",
   "metadata": {},
   "outputs": [
    {
     "data": {
      "text/plain": [
       "False"
      ]
     },
     "execution_count": 111,
     "metadata": {},
     "output_type": "execute_result"
    }
   ],
   "source": [
    "# this is a two tailed test so can keep p as is\n",
    "t, p = stats.ttest_ind(fe_2008, fe_1999, equal_var = True)\n",
    "p < alpha"
   ]
  },
  {
   "cell_type": "markdown",
   "id": "36d1f9e3",
   "metadata": {},
   "source": [
    "Cannot reject $H_0$"
   ]
  },
  {
   "cell_type": "markdown",
   "id": "dd67fb48",
   "metadata": {},
   "source": [
    "## correlation"
   ]
  },
  {
   "cell_type": "markdown",
   "id": "672112e6",
   "metadata": {},
   "source": [
    "1. \n",
    "\n",
    "\n",
    "Use the telco_churn data. Does tenure correlate with monthly charges? Total charges? What happens if you control for phone and internet service?"
   ]
  },
  {
   "cell_type": "code",
   "execution_count": 21,
   "id": "8b1e90d5",
   "metadata": {},
   "outputs": [
    {
     "data": {
      "text/html": [
       "<div>\n",
       "<style scoped>\n",
       "    .dataframe tbody tr th:only-of-type {\n",
       "        vertical-align: middle;\n",
       "    }\n",
       "\n",
       "    .dataframe tbody tr th {\n",
       "        vertical-align: top;\n",
       "    }\n",
       "\n",
       "    .dataframe thead th {\n",
       "        text-align: right;\n",
       "    }\n",
       "</style>\n",
       "<table border=\"1\" class=\"dataframe\">\n",
       "  <thead>\n",
       "    <tr style=\"text-align: right;\">\n",
       "      <th></th>\n",
       "      <th>customer_id</th>\n",
       "      <th>gender</th>\n",
       "      <th>is_senior_citizen</th>\n",
       "      <th>partner</th>\n",
       "      <th>dependents</th>\n",
       "      <th>phone_service</th>\n",
       "      <th>internet_service</th>\n",
       "      <th>contract_type</th>\n",
       "      <th>payment_type</th>\n",
       "      <th>monthly_charges</th>\n",
       "      <th>...</th>\n",
       "      <th>has_churned</th>\n",
       "      <th>has_phone</th>\n",
       "      <th>has_internet</th>\n",
       "      <th>has_phone_and_internet</th>\n",
       "      <th>partner_dependents</th>\n",
       "      <th>avg_monthly_charges</th>\n",
       "      <th>avg_bool_check</th>\n",
       "      <th>contract_type.1</th>\n",
       "      <th>phone_type</th>\n",
       "      <th>internet_type</th>\n",
       "    </tr>\n",
       "  </thead>\n",
       "  <tbody>\n",
       "    <tr>\n",
       "      <th>0</th>\n",
       "      <td>0002-ORFBO</td>\n",
       "      <td>Female</td>\n",
       "      <td>0</td>\n",
       "      <td>Yes</td>\n",
       "      <td>Yes</td>\n",
       "      <td>1</td>\n",
       "      <td>1</td>\n",
       "      <td>1</td>\n",
       "      <td>Mailed check</td>\n",
       "      <td>65.6</td>\n",
       "      <td>...</td>\n",
       "      <td>False</td>\n",
       "      <td>True</td>\n",
       "      <td>True</td>\n",
       "      <td>True</td>\n",
       "      <td>3</td>\n",
       "      <td>65.6</td>\n",
       "      <td>TRUE</td>\n",
       "      <td>1 Year</td>\n",
       "      <td>One Line</td>\n",
       "      <td>DSL</td>\n",
       "    </tr>\n",
       "    <tr>\n",
       "      <th>1</th>\n",
       "      <td>0003-MKNFE</td>\n",
       "      <td>Male</td>\n",
       "      <td>0</td>\n",
       "      <td>No</td>\n",
       "      <td>No</td>\n",
       "      <td>2</td>\n",
       "      <td>1</td>\n",
       "      <td>0</td>\n",
       "      <td>Mailed check</td>\n",
       "      <td>59.9</td>\n",
       "      <td>...</td>\n",
       "      <td>False</td>\n",
       "      <td>True</td>\n",
       "      <td>True</td>\n",
       "      <td>True</td>\n",
       "      <td>0</td>\n",
       "      <td>59.9</td>\n",
       "      <td>TRUE</td>\n",
       "      <td>Month-to-Month</td>\n",
       "      <td>Two or More Lines</td>\n",
       "      <td>Fiber Optic</td>\n",
       "    </tr>\n",
       "    <tr>\n",
       "      <th>2</th>\n",
       "      <td>0004-TLHLJ</td>\n",
       "      <td>Male</td>\n",
       "      <td>0</td>\n",
       "      <td>No</td>\n",
       "      <td>No</td>\n",
       "      <td>1</td>\n",
       "      <td>2</td>\n",
       "      <td>0</td>\n",
       "      <td>Electronic check</td>\n",
       "      <td>73.9</td>\n",
       "      <td>...</td>\n",
       "      <td>True</td>\n",
       "      <td>True</td>\n",
       "      <td>True</td>\n",
       "      <td>True</td>\n",
       "      <td>0</td>\n",
       "      <td>73.9</td>\n",
       "      <td>TRUE</td>\n",
       "      <td>Month-to-Month</td>\n",
       "      <td>One Line</td>\n",
       "      <td>DSL</td>\n",
       "    </tr>\n",
       "  </tbody>\n",
       "</table>\n",
       "<p>3 rows × 26 columns</p>\n",
       "</div>"
      ],
      "text/plain": [
       "  customer_id  gender  is_senior_citizen partner dependents  phone_service  \\\n",
       "0  0002-ORFBO  Female                  0     Yes        Yes              1   \n",
       "1  0003-MKNFE    Male                  0      No         No              2   \n",
       "2  0004-TLHLJ    Male                  0      No         No              1   \n",
       "\n",
       "   internet_service  contract_type      payment_type  monthly_charges  ...  \\\n",
       "0                 1              1      Mailed check             65.6  ...   \n",
       "1                 1              0      Mailed check             59.9  ...   \n",
       "2                 2              0  Electronic check             73.9  ...   \n",
       "\n",
       "   has_churned has_phone  has_internet  has_phone_and_internet  \\\n",
       "0        False      True          True                    True   \n",
       "1        False      True          True                    True   \n",
       "2         True      True          True                    True   \n",
       "\n",
       "  partner_dependents  avg_monthly_charges  avg_bool_check  contract_type.1  \\\n",
       "0                  3                 65.6            TRUE           1 Year   \n",
       "1                  0                 59.9            TRUE   Month-to-Month   \n",
       "2                  0                 73.9            TRUE   Month-to-Month   \n",
       "\n",
       "          phone_type  internet_type  \n",
       "0           One Line            DSL  \n",
       "1  Two or More Lines    Fiber Optic  \n",
       "2           One Line            DSL  \n",
       "\n",
       "[3 rows x 26 columns]"
      ]
     },
     "execution_count": 21,
     "metadata": {},
     "output_type": "execute_result"
    }
   ],
   "source": [
    "# get the data\n",
    "tl = pd.read_csv('churn_data.csv')\n",
    "tl.head(3)"
   ]
  },
  {
   "cell_type": "code",
   "execution_count": 22,
   "id": "3f757e21",
   "metadata": {},
   "outputs": [
    {
     "data": {
      "text/plain": [
       "Index(['customer_id', 'gender', 'is_senior_citizen', 'partner', 'dependents',\n",
       "       'phone_service', 'internet_service', 'contract_type', 'payment_type',\n",
       "       'monthly_charges', 'total_charges', 'churn', 'tenure', 'rounded_tenure',\n",
       "       'service_type', 'is_female', 'has_churned', 'has_phone', 'has_internet',\n",
       "       'has_phone_and_internet', 'partner_dependents', 'avg_monthly_charges',\n",
       "       'avg_bool_check', 'contract_type.1', 'phone_type', 'internet_type'],\n",
       "      dtype='object')"
      ]
     },
     "execution_count": 22,
     "metadata": {},
     "output_type": "execute_result"
    }
   ],
   "source": [
    "tl.columns"
   ]
  },
  {
   "cell_type": "code",
   "execution_count": 23,
   "id": "13770ffe",
   "metadata": {},
   "outputs": [
    {
     "data": {
      "text/html": [
       "<div>\n",
       "<style scoped>\n",
       "    .dataframe tbody tr th:only-of-type {\n",
       "        vertical-align: middle;\n",
       "    }\n",
       "\n",
       "    .dataframe tbody tr th {\n",
       "        vertical-align: top;\n",
       "    }\n",
       "\n",
       "    .dataframe thead th {\n",
       "        text-align: right;\n",
       "    }\n",
       "</style>\n",
       "<table border=\"1\" class=\"dataframe\">\n",
       "  <thead>\n",
       "    <tr style=\"text-align: right;\">\n",
       "      <th></th>\n",
       "      <th>customer_id</th>\n",
       "      <th>monthly_charges</th>\n",
       "      <th>tenure</th>\n",
       "      <th>total_charges</th>\n",
       "      <th>phone_type</th>\n",
       "      <th>internet_type</th>\n",
       "    </tr>\n",
       "  </thead>\n",
       "  <tbody>\n",
       "    <tr>\n",
       "      <th>4706</th>\n",
       "      <td>6630-UJZMY</td>\n",
       "      <td>83.25</td>\n",
       "      <td>3.7</td>\n",
       "      <td>308.05</td>\n",
       "      <td>Two or More Lines</td>\n",
       "      <td>Fiber Optic</td>\n",
       "    </tr>\n",
       "    <tr>\n",
       "      <th>2453</th>\n",
       "      <td>3512-IZIKN</td>\n",
       "      <td>65.30</td>\n",
       "      <td>72.9</td>\n",
       "      <td>4759.75</td>\n",
       "      <td>Two or More Lines</td>\n",
       "      <td>Fiber Optic</td>\n",
       "    </tr>\n",
       "    <tr>\n",
       "      <th>5790</th>\n",
       "      <td>8150-QUDFX</td>\n",
       "      <td>19.85</td>\n",
       "      <td>2.6</td>\n",
       "      <td>51.60</td>\n",
       "      <td>One Line</td>\n",
       "      <td>DSL</td>\n",
       "    </tr>\n",
       "  </tbody>\n",
       "</table>\n",
       "</div>"
      ],
      "text/plain": [
       "     customer_id  monthly_charges  tenure  total_charges         phone_type  \\\n",
       "4706  6630-UJZMY            83.25     3.7         308.05  Two or More Lines   \n",
       "2453  3512-IZIKN            65.30    72.9        4759.75  Two or More Lines   \n",
       "5790  8150-QUDFX            19.85     2.6          51.60           One Line   \n",
       "\n",
       "     internet_type  \n",
       "4706   Fiber Optic  \n",
       "2453   Fiber Optic  \n",
       "5790           DSL  "
      ]
     },
     "execution_count": 23,
     "metadata": {},
     "output_type": "execute_result"
    }
   ],
   "source": [
    "# get only the interesting columns\n",
    "tl = tl[['customer_id', 'monthly_charges','tenure', 'total_charges', 'phone_type', 'internet_type']]\n",
    "tl.sample(3)"
   ]
  },
  {
   "cell_type": "markdown",
   "id": "0bc6adfd",
   "metadata": {},
   "source": [
    "- Does tenure correlate with monthly charges?"
   ]
  },
  {
   "cell_type": "code",
   "execution_count": 27,
   "id": "b801dbf1",
   "metadata": {},
   "outputs": [],
   "source": [
    "#get the two series objects to work with\n",
    "mnt = tl.monthly_charges\n",
    "tnr = tl.tenure\n",
    "\n",
    "n = mnt.size # get number of observations (these happen to be the same in these series)\n",
    "degf = n - 2 #taken from the lesson\n",
    "conf_int = 0.95 #chance of no type I error - i.e. chance of not incorrectly rejecting H_0\n",
    "alpha = 1 - conf_int #chance of a type I error"
   ]
  },
  {
   "cell_type": "markdown",
   "id": "8b93fe97",
   "metadata": {},
   "source": [
    "$H_0$ : there is no linear correlation between tenure and monthly charges - $r \\approx 0$\n",
    "\n",
    "$H_a$ : there is a linear correlation between tenure and monthly charges - $r \\neq 0$"
   ]
  },
  {
   "cell_type": "code",
   "execution_count": 28,
   "id": "6b1d215c",
   "metadata": {},
   "outputs": [
    {
     "data": {
      "text/plain": [
       "0.24714982558905937"
      ]
     },
     "execution_count": 28,
     "metadata": {},
     "output_type": "execute_result"
    }
   ],
   "source": [
    "# calculate r\n",
    "nom_r = ((mnt - mnt.mean())*(tnr - tnr.mean())).sum()/n\n",
    "den_r = mnt.std()*tnr.std()\n",
    "r = nom_r/den_r\n",
    "r"
   ]
  },
  {
   "cell_type": "code",
   "execution_count": 30,
   "id": "f836e33b",
   "metadata": {},
   "outputs": [
    {
     "data": {
      "text/plain": [
       "21.411586673862747"
      ]
     },
     "execution_count": 30,
     "metadata": {},
     "output_type": "execute_result"
    }
   ],
   "source": [
    "# calculate the t value\n",
    "nom_t = r*(sqrt(degf))\n",
    "den_t = sqrt(1-r**2)\n",
    "t = nom_t/den_t\n",
    "t"
   ]
  },
  {
   "cell_type": "code",
   "execution_count": 31,
   "id": "6431b5a7",
   "metadata": {},
   "outputs": [
    {
     "data": {
      "text/plain": [
       "1.3674422214803312e-98"
      ]
     },
     "execution_count": 31,
     "metadata": {},
     "output_type": "execute_result"
    }
   ],
   "source": [
    "# get a p-value - since it is not equals we do a two tail test; multiply by 2\n",
    "p = stats.t.sf(t, df = degf) * 2\n",
    "p"
   ]
  },
  {
   "cell_type": "code",
   "execution_count": 32,
   "id": "b60e584b",
   "metadata": {},
   "outputs": [
    {
     "data": {
      "text/plain": [
       "True"
      ]
     },
     "execution_count": 32,
     "metadata": {},
     "output_type": "execute_result"
    }
   ],
   "source": [
    "p < alpha"
   ]
  },
  {
   "cell_type": "markdown",
   "id": "6c0d04ea",
   "metadata": {},
   "source": [
    "It is likely that $H_0$ is false; thus there is a correllation between tenure and monthly charges.\n",
    "\n",
    "Do the same the easy way:"
   ]
  },
  {
   "cell_type": "code",
   "execution_count": 36,
   "id": "dd4a5e8e",
   "metadata": {},
   "outputs": [
    {
     "data": {
      "text/plain": [
       "(0.2471848922499011, 1.2811368994929208e-98)"
      ]
     },
     "execution_count": 36,
     "metadata": {},
     "output_type": "execute_result"
    }
   ],
   "source": [
    "r, p = stats.pearsonr(mnt, tnr)\n",
    "r, p # why are these numbers slightly different?"
   ]
  },
  {
   "cell_type": "code",
   "execution_count": 34,
   "id": "5f8ef6f0",
   "metadata": {},
   "outputs": [
    {
     "data": {
      "text/plain": [
       "True"
      ]
     },
     "execution_count": 34,
     "metadata": {},
     "output_type": "execute_result"
    }
   ],
   "source": [
    "p*2 < alpha"
   ]
  },
  {
   "cell_type": "code",
   "execution_count": 68,
   "id": "0a6cf1b0",
   "metadata": {},
   "outputs": [
    {
     "data": {
      "text/plain": [
       "<matplotlib.collections.PathCollection at 0x7fabd8afe250>"
      ]
     },
     "execution_count": 68,
     "metadata": {},
     "output_type": "execute_result"
    },
    {
     "data": {
      "image/png": "[encoded data removed]",
      "text/plain": [
       "<Figure size 432x288 with 1 Axes>"
      ]
     },
     "metadata": {
      "needs_background": "light"
     },
     "output_type": "display_data"
    }
   ],
   "source": [
    "plt.scatter(x= tnr, y=mnt)"
   ]
  },
  {
   "cell_type": "markdown",
   "id": "8c23947d",
   "metadata": {},
   "source": [
    "- Total charges? \n",
    "\n",
    "$H_0$ : tenure and total charges are not correlated; $r \\approx 0$\n",
    "\n",
    "$H_a$ : tenure and total charges are correlated"
   ]
  },
  {
   "cell_type": "code",
   "execution_count": 55,
   "id": "ad01ecdf",
   "metadata": {},
   "outputs": [
    {
     "data": {
      "text/html": [
       "<div>\n",
       "<style scoped>\n",
       "    .dataframe tbody tr th:only-of-type {\n",
       "        vertical-align: middle;\n",
       "    }\n",
       "\n",
       "    .dataframe tbody tr th {\n",
       "        vertical-align: top;\n",
       "    }\n",
       "\n",
       "    .dataframe thead th {\n",
       "        text-align: right;\n",
       "    }\n",
       "</style>\n",
       "<table border=\"1\" class=\"dataframe\">\n",
       "  <thead>\n",
       "    <tr style=\"text-align: right;\">\n",
       "      <th></th>\n",
       "      <th>customer_id</th>\n",
       "      <th>monthly_charges</th>\n",
       "      <th>tenure</th>\n",
       "      <th>total_charges</th>\n",
       "      <th>phone_type</th>\n",
       "      <th>internet_type</th>\n",
       "    </tr>\n",
       "  </thead>\n",
       "  <tbody>\n",
       "    <tr>\n",
       "      <th>945</th>\n",
       "      <td>1371-DWPAZ</td>\n",
       "      <td>56.05</td>\n",
       "      <td>0.0</td>\n",
       "      <td>NaN</td>\n",
       "      <td>No Phone Service</td>\n",
       "      <td>No Internet Service</td>\n",
       "    </tr>\n",
       "    <tr>\n",
       "      <th>1731</th>\n",
       "      <td>2520-SGTTA</td>\n",
       "      <td>20.00</td>\n",
       "      <td>0.0</td>\n",
       "      <td>NaN</td>\n",
       "      <td>One Line</td>\n",
       "      <td>DSL</td>\n",
       "    </tr>\n",
       "    <tr>\n",
       "      <th>1906</th>\n",
       "      <td>2775-SEFEE</td>\n",
       "      <td>61.90</td>\n",
       "      <td>0.0</td>\n",
       "      <td>NaN</td>\n",
       "      <td>Two or More Lines</td>\n",
       "      <td>Fiber Optic</td>\n",
       "    </tr>\n",
       "    <tr>\n",
       "      <th>2025</th>\n",
       "      <td>2923-ARZLG</td>\n",
       "      <td>19.70</td>\n",
       "      <td>0.0</td>\n",
       "      <td>NaN</td>\n",
       "      <td>One Line</td>\n",
       "      <td>DSL</td>\n",
       "    </tr>\n",
       "    <tr>\n",
       "      <th>2176</th>\n",
       "      <td>3115-CZMZD</td>\n",
       "      <td>20.25</td>\n",
       "      <td>0.0</td>\n",
       "      <td>NaN</td>\n",
       "      <td>One Line</td>\n",
       "      <td>DSL</td>\n",
       "    </tr>\n",
       "    <tr>\n",
       "      <th>2250</th>\n",
       "      <td>3213-VVOLG</td>\n",
       "      <td>25.35</td>\n",
       "      <td>0.0</td>\n",
       "      <td>NaN</td>\n",
       "      <td>Two or More Lines</td>\n",
       "      <td>Fiber Optic</td>\n",
       "    </tr>\n",
       "    <tr>\n",
       "      <th>2855</th>\n",
       "      <td>4075-WKNIU</td>\n",
       "      <td>73.35</td>\n",
       "      <td>0.0</td>\n",
       "      <td>NaN</td>\n",
       "      <td>Two or More Lines</td>\n",
       "      <td>Fiber Optic</td>\n",
       "    </tr>\n",
       "    <tr>\n",
       "      <th>3052</th>\n",
       "      <td>4367-NUYAO</td>\n",
       "      <td>25.75</td>\n",
       "      <td>0.0</td>\n",
       "      <td>NaN</td>\n",
       "      <td>Two or More Lines</td>\n",
       "      <td>Fiber Optic</td>\n",
       "    </tr>\n",
       "    <tr>\n",
       "      <th>3118</th>\n",
       "      <td>4472-LVYGI</td>\n",
       "      <td>52.55</td>\n",
       "      <td>0.0</td>\n",
       "      <td>NaN</td>\n",
       "      <td>No Phone Service</td>\n",
       "      <td>No Internet Service</td>\n",
       "    </tr>\n",
       "    <tr>\n",
       "      <th>4054</th>\n",
       "      <td>5709-LVOEQ</td>\n",
       "      <td>80.85</td>\n",
       "      <td>0.0</td>\n",
       "      <td>NaN</td>\n",
       "      <td>One Line</td>\n",
       "      <td>DSL</td>\n",
       "    </tr>\n",
       "    <tr>\n",
       "      <th>5433</th>\n",
       "      <td>7644-OMVMY</td>\n",
       "      <td>19.85</td>\n",
       "      <td>0.0</td>\n",
       "      <td>NaN</td>\n",
       "      <td>One Line</td>\n",
       "      <td>DSL</td>\n",
       "    </tr>\n",
       "  </tbody>\n",
       "</table>\n",
       "</div>"
      ],
      "text/plain": [
       "     customer_id  monthly_charges  tenure  total_charges         phone_type  \\\n",
       "945   1371-DWPAZ            56.05     0.0            NaN   No Phone Service   \n",
       "1731  2520-SGTTA            20.00     0.0            NaN           One Line   \n",
       "1906  2775-SEFEE            61.90     0.0            NaN  Two or More Lines   \n",
       "2025  2923-ARZLG            19.70     0.0            NaN           One Line   \n",
       "2176  3115-CZMZD            20.25     0.0            NaN           One Line   \n",
       "2250  3213-VVOLG            25.35     0.0            NaN  Two or More Lines   \n",
       "2855  4075-WKNIU            73.35     0.0            NaN  Two or More Lines   \n",
       "3052  4367-NUYAO            25.75     0.0            NaN  Two or More Lines   \n",
       "3118  4472-LVYGI            52.55     0.0            NaN   No Phone Service   \n",
       "4054  5709-LVOEQ            80.85     0.0            NaN           One Line   \n",
       "5433  7644-OMVMY            19.85     0.0            NaN           One Line   \n",
       "\n",
       "            internet_type  \n",
       "945   No Internet Service  \n",
       "1731                  DSL  \n",
       "1906          Fiber Optic  \n",
       "2025                  DSL  \n",
       "2176                  DSL  \n",
       "2250          Fiber Optic  \n",
       "2855          Fiber Optic  \n",
       "3052          Fiber Optic  \n",
       "3118  No Internet Service  \n",
       "4054                  DSL  \n",
       "5433                  DSL  "
      ]
     },
     "execution_count": 55,
     "metadata": {},
     "output_type": "execute_result"
    }
   ],
   "source": [
    "# get the total charges series\n",
    "tl[tl.total_charges.isna()]\n",
    "#there are a few rows with NaN. these are where the tenure was less than a month.\n",
    "#set these to 0"
   ]
  },
  {
   "cell_type": "code",
   "execution_count": 62,
   "id": "610bca92",
   "metadata": {},
   "outputs": [
    {
     "data": {
      "text/html": [
       "<div>\n",
       "<style scoped>\n",
       "    .dataframe tbody tr th:only-of-type {\n",
       "        vertical-align: middle;\n",
       "    }\n",
       "\n",
       "    .dataframe tbody tr th {\n",
       "        vertical-align: top;\n",
       "    }\n",
       "\n",
       "    .dataframe thead th {\n",
       "        text-align: right;\n",
       "    }\n",
       "</style>\n",
       "<table border=\"1\" class=\"dataframe\">\n",
       "  <thead>\n",
       "    <tr style=\"text-align: right;\">\n",
       "      <th></th>\n",
       "      <th>customer_id</th>\n",
       "      <th>monthly_charges</th>\n",
       "      <th>tenure</th>\n",
       "      <th>total_charges</th>\n",
       "      <th>phone_type</th>\n",
       "      <th>internet_type</th>\n",
       "    </tr>\n",
       "  </thead>\n",
       "  <tbody>\n",
       "  </tbody>\n",
       "</table>\n",
       "</div>"
      ],
      "text/plain": [
       "Empty DataFrame\n",
       "Columns: [customer_id, monthly_charges, tenure, total_charges, phone_type, internet_type]\n",
       "Index: []"
      ]
     },
     "execution_count": 62,
     "metadata": {},
     "output_type": "execute_result"
    }
   ],
   "source": [
    "tl.total_charges.replace(np.NaN, 0, inplace = True)\n",
    "tl[tl.total_charges.isna()]"
   ]
  },
  {
   "cell_type": "code",
   "execution_count": 63,
   "id": "0d8b4374",
   "metadata": {},
   "outputs": [
    {
     "data": {
      "text/plain": [
       "0        593.30\n",
       "1        542.40\n",
       "2        280.85\n",
       "3       1237.85\n",
       "4        267.40\n",
       "         ...   \n",
       "7044     742.90\n",
       "7045    1873.70\n",
       "7046      92.75\n",
       "7047    4627.65\n",
       "7048    3707.60\n",
       "Name: total_charges, Length: 7049, dtype: float64"
      ]
     },
     "execution_count": 63,
     "metadata": {},
     "output_type": "execute_result"
    }
   ],
   "source": [
    "#Get total charges column\n",
    "tch = tl.total_charges\n",
    "tch"
   ]
  },
  {
   "cell_type": "code",
   "execution_count": 70,
   "id": "9fe27eb1",
   "metadata": {},
   "outputs": [
    {
     "data": {
      "text/plain": [
       "(0.826117195298786, 0.0)"
      ]
     },
     "execution_count": 70,
     "metadata": {},
     "output_type": "execute_result"
    }
   ],
   "source": [
    "# get r and p\n",
    "r, p = stats.pearsonr(tch, tnr)\n",
    "r, p"
   ]
  },
  {
   "cell_type": "code",
   "execution_count": 71,
   "id": "476b8332",
   "metadata": {},
   "outputs": [
    {
     "data": {
      "text/plain": [
       "True"
      ]
     },
     "execution_count": 71,
     "metadata": {},
     "output_type": "execute_result"
    }
   ],
   "source": [
    "p < alpha"
   ]
  },
  {
   "cell_type": "code",
   "execution_count": 72,
   "id": "2d3d8098",
   "metadata": {},
   "outputs": [
    {
     "data": {
      "text/plain": [
       "<matplotlib.collections.PathCollection at 0x7fabf96c67c0>"
      ]
     },
     "execution_count": 72,
     "metadata": {},
     "output_type": "execute_result"
    },
    {
     "data": {
      "image/png": "[encoded data removed]",
      "text/plain": [
       "<Figure size 432x288 with 1 Axes>"
      ]
     },
     "metadata": {
      "needs_background": "light"
     },
     "output_type": "display_data"
    }
   ],
   "source": [
    "#correlation is clear from the scatter plot\n",
    "plt.scatter(x=tnr, y=tch)"
   ]
  },
  {
   "cell_type": "markdown",
   "id": "087ff3e2",
   "metadata": {},
   "source": [
    "There is a good probabilty that $H_0$ is false."
   ]
  },
  {
   "cell_type": "markdown",
   "id": "a76c5250",
   "metadata": {},
   "source": [
    "- What happens if you control for phone and internet service?"
   ]
  },
  {
   "cell_type": "code",
   "execution_count": null,
   "id": "d6ea7fca",
   "metadata": {},
   "outputs": [],
   "source": []
  },
  {
   "cell_type": "markdown",
   "id": "64b904df",
   "metadata": {},
   "source": [
    "2.\n",
    "\n",
    "\n",
    "Use the employees database.\n",
    "\n",
    "- Is there a relationship between how long an employee has been with the company and their salary?\n",
    "- Is there a relationship between how long an employee has been with the company and the number of titles they have had?"
   ]
  },
  {
   "cell_type": "markdown",
   "id": "397cbb03",
   "metadata": {},
   "source": [
    "3.\n",
    "\n",
    "\n",
    "Use the sleepstudy data. Is there a relationship between days and reaction time?"
   ]
  },
  {
   "cell_type": "code",
   "execution_count": null,
   "id": "4ac08616",
   "metadata": {},
   "outputs": [],
   "source": []
  }
 ],
 "metadata": {
  "kernelspec": {
   "display_name": "Python 3 (ipykernel)",
   "language": "python",
   "name": "python3"
  },
  "language_info": {
   "codemirror_mode": {
    "name": "ipython",
    "version": 3
   },
   "file_extension": ".py",
   "mimetype": "text/x-python",
   "name": "python",
   "nbconvert_exporter": "python",
   "pygments_lexer": "ipython3",
   "version": "3.9.7"
  }
 },
 "nbformat": 4,
 "nbformat_minor": 5
}

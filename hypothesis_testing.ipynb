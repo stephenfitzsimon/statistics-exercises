{
 "cells": [
  {
   "cell_type": "code",
   "execution_count": 65,
   "id": "cb7d8a02",
   "metadata": {},
   "outputs": [],
   "source": [
    "import scipy.stats as stats\n",
    "import numpy as np\n",
    "import matplotlib.pyplot as plt"
   ]
  },
  {
   "cell_type": "markdown",
   "id": "1dd71b73",
   "metadata": {},
   "source": [
    "- Has the network latency gone up since we switched internet service providers?\n",
    "\n",
    "$H_0$ : $\\mu_0 = \\mu_1$ where $\\mu_t$ is the mean latency for a given time period, $t$. Network latency has not increased\n",
    "\n",
    "$H_a$ : $\\mu_0 \\neq \\mu_1$ Network latency has changed\n",
    "\n",
    "True positive : The latency has changed, and it has\n",
    "\n",
    "True negative : The latency has not changed, and it hasn't \n",
    "\n",
    "Type I Error : Thinking that the latency has changed when it has not.\n",
    "\n",
    "Type II Error : Think that the latency is the same, when it is no longer the same.\n",
    " \n",
    " \n",
    "- Is the website redesign any good?\n",
    "\n",
    "Let $\\mu_k$ be the mean daily site visits at time period $k$\n",
    "\n",
    "$H_0$ : $\\mu_0 = \\mu_1$ - the mean daily site vist length hasn't changed\n",
    "\n",
    "$H_a$ : $\\mu_0 \\neq \\mu_1$ mean daily site visits have changed\n",
    "\n",
    "True positive : site visit length has changed, and it has\n",
    "\n",
    "True negative : site visit length has not changed, and it hasn't\n",
    "\n",
    "Type I Error : The design change is good (site vist length has changed) when it has no effect\n",
    "\n",
    "Type II Error : The design change had no effect, when it has had an effect\n",
    "\n",
    "\n",
    "- Is our television ad driving more sales?\n",
    "\n",
    "Let $\\mu_g$ be average sales in $g$, a tv media market\n",
    "\n",
    "$H_0$ : $\\mu_g = \\mu_{g'}$\n",
    "\n",
    "Alt: $H_0$ : $s_0 \\leq s_1$ where $s_t$ is the sales volumes at time $t$. w/ $H_a$ : $s_0 > s_1$\n",
    "\n",
    "$H_a$ : $\\mu_g \\neq \\mu_{g'}$\n",
    "\n",
    "True positive : ad has had some effect on sales\n",
    "\n",
    "True negative : ad has had no effect on sales\n",
    "\n",
    "Type I Error : ad has an effect on sales, but is assumed not to have had an effect\n",
    "\n",
    "Type II Error :  ad has no effect, but in fact changed sales"
   ]
  },
  {
   "cell_type": "markdown",
   "id": "62e8cfad",
   "metadata": {},
   "source": [
    "## T-Test"
   ]
  },
  {
   "cell_type": "markdown",
   "id": "6fe69fc9",
   "metadata": {},
   "source": [
    "1.\n",
    "\n",
    "Ace Realty wants to determine whether the average time it takes to sell homes is different for its two offices. A sample of 40 sales from office #1 revealed a mean of 90 days and a standard deviation of 15 days. A sample of 50 sales from office #2 revealed a mean of 100 days and a standard deviation of 20 days. Use a .05 level of significance."
   ]
  },
  {
   "cell_type": "code",
   "execution_count": 1,
   "id": "0283d5dd",
   "metadata": {},
   "outputs": [],
   "source": [
    "#office 1 stats\n",
    "size_office_1 = 40\n",
    "mu_office_1 = 90\n",
    "sigma_office_1 = 15\n",
    "\n",
    "#office 2 stats\n",
    "size_office_2 = 50\n",
    "mu_office_2 = 100\n",
    "sigma_office_2 = 20\n",
    "\n",
    "alpha = 0.05"
   ]
  },
  {
   "cell_type": "code",
   "execution_count": 66,
   "id": "5d201582",
   "metadata": {},
   "outputs": [
    {
     "data": {
      "text/plain": [
       "[<matplotlib.lines.Line2D at 0x7f9540120850>]"
      ]
     },
     "execution_count": 66,
     "metadata": {},
     "output_type": "execute_result"
    },
    {
     "data": {
      "image/png": "[encoded data removed]",
      "text/plain": [
       "<Figure size 432x288 with 1 Axes>"
      ]
     },
     "metadata": {
      "needs_background": "light"
     },
     "output_type": "display_data"
    }
   ],
   "source": [
    "# can visualize these distributions\n",
    "x = np.arange(50, 150)\n",
    "y1 = stats.norm(mu_office_1, sigma_office_1).pdf(x)\n",
    "y2 = stats.norm(mu_office_2, sigma_office_2).pdf(x)\n",
    "\n",
    "plt.plot(x, y1)\n",
    "plt.plot(x, y2)"
   ]
  },
  {
   "cell_type": "markdown",
   "id": "09c598ec",
   "metadata": {},
   "source": [
    "$H_0$ : mu_office_1 = mu_office_2\n",
    "\n",
    "$H_a$ : mu_office_1 $\\neq$ mu_office_2"
   ]
  },
  {
   "cell_type": "code",
   "execution_count": 67,
   "id": "88cd7c6d",
   "metadata": {},
   "outputs": [],
   "source": [
    "# calculate the t stat and the p value\n",
    "t, p = stats.ttest_ind_from_stats(mu_office_1, sigma_office_1, size_office_1, mu_office_2, sigma_office_2, size_office_2, equal_var = False)"
   ]
  },
  {
   "cell_type": "code",
   "execution_count": 68,
   "id": "058a8ffa",
   "metadata": {},
   "outputs": [
    {
     "data": {
      "text/plain": [
       "(-2.7091418459143854, 0.00811206270346016)"
      ]
     },
     "execution_count": 68,
     "metadata": {},
     "output_type": "execute_result"
    }
   ],
   "source": [
    "t, p"
   ]
  },
  {
   "cell_type": "code",
   "execution_count": 69,
   "id": "bdc4d3dd",
   "metadata": {},
   "outputs": [
    {
     "data": {
      "text/plain": [
       "True"
      ]
     },
     "execution_count": 69,
     "metadata": {},
     "output_type": "execute_result"
    }
   ],
   "source": [
    "# take p since this is a two tail test\n",
    "p < alpha"
   ]
  },
  {
   "cell_type": "markdown",
   "id": "d36f2eaf",
   "metadata": {},
   "source": [
    "There are grounds to reject $H_0$. The sales time is different at the two offices."
   ]
  },
  {
   "cell_type": "markdown",
   "id": "d2d1544b",
   "metadata": {},
   "source": [
    "2.\n",
    "\n",
    "Load the mpg dataset and use it to answer the following questions:\n",
    "\n",
    "- Is there a difference in fuel-efficiency in cars from 2008 vs 1999?\n",
    "- Are compact cars more fuel-efficient than the average car?\n",
    "- Do manual cars get better gas mileage than automatic cars?\n",
    "\n"
   ]
  },
  {
   "cell_type": "code",
   "execution_count": 74,
   "id": "7ea12441",
   "metadata": {},
   "outputs": [
    {
     "data": {
      "text/html": [
       "<div>\n",
       "<style scoped>\n",
       "    .dataframe tbody tr th:only-of-type {\n",
       "        vertical-align: middle;\n",
       "    }\n",
       "\n",
       "    .dataframe tbody tr th {\n",
       "        vertical-align: top;\n",
       "    }\n",
       "\n",
       "    .dataframe thead th {\n",
       "        text-align: right;\n",
       "    }\n",
       "</style>\n",
       "<table border=\"1\" class=\"dataframe\">\n",
       "  <thead>\n",
       "    <tr style=\"text-align: right;\">\n",
       "      <th></th>\n",
       "      <th>manufacturer</th>\n",
       "      <th>model</th>\n",
       "      <th>displ</th>\n",
       "      <th>year</th>\n",
       "      <th>cyl</th>\n",
       "      <th>trans</th>\n",
       "      <th>drv</th>\n",
       "      <th>cty</th>\n",
       "      <th>hwy</th>\n",
       "      <th>fl</th>\n",
       "      <th>class</th>\n",
       "      <th>f_ef</th>\n",
       "    </tr>\n",
       "  </thead>\n",
       "  <tbody>\n",
       "    <tr>\n",
       "      <th>1</th>\n",
       "      <td>audi</td>\n",
       "      <td>a4</td>\n",
       "      <td>1.8</td>\n",
       "      <td>1999</td>\n",
       "      <td>4</td>\n",
       "      <td>auto(l5)</td>\n",
       "      <td>f</td>\n",
       "      <td>18</td>\n",
       "      <td>29</td>\n",
       "      <td>p</td>\n",
       "      <td>compact</td>\n",
       "      <td>22.212766</td>\n",
       "    </tr>\n",
       "    <tr>\n",
       "      <th>2</th>\n",
       "      <td>audi</td>\n",
       "      <td>a4</td>\n",
       "      <td>1.8</td>\n",
       "      <td>1999</td>\n",
       "      <td>4</td>\n",
       "      <td>manual(m5)</td>\n",
       "      <td>f</td>\n",
       "      <td>21</td>\n",
       "      <td>29</td>\n",
       "      <td>p</td>\n",
       "      <td>compact</td>\n",
       "      <td>24.360000</td>\n",
       "    </tr>\n",
       "    <tr>\n",
       "      <th>3</th>\n",
       "      <td>audi</td>\n",
       "      <td>a4</td>\n",
       "      <td>2.0</td>\n",
       "      <td>2008</td>\n",
       "      <td>4</td>\n",
       "      <td>manual(m6)</td>\n",
       "      <td>f</td>\n",
       "      <td>20</td>\n",
       "      <td>31</td>\n",
       "      <td>p</td>\n",
       "      <td>compact</td>\n",
       "      <td>24.313725</td>\n",
       "    </tr>\n",
       "    <tr>\n",
       "      <th>4</th>\n",
       "      <td>audi</td>\n",
       "      <td>a4</td>\n",
       "      <td>2.0</td>\n",
       "      <td>2008</td>\n",
       "      <td>4</td>\n",
       "      <td>auto(av)</td>\n",
       "      <td>f</td>\n",
       "      <td>21</td>\n",
       "      <td>30</td>\n",
       "      <td>p</td>\n",
       "      <td>compact</td>\n",
       "      <td>24.705882</td>\n",
       "    </tr>\n",
       "    <tr>\n",
       "      <th>5</th>\n",
       "      <td>audi</td>\n",
       "      <td>a4</td>\n",
       "      <td>2.8</td>\n",
       "      <td>1999</td>\n",
       "      <td>6</td>\n",
       "      <td>auto(l5)</td>\n",
       "      <td>f</td>\n",
       "      <td>16</td>\n",
       "      <td>26</td>\n",
       "      <td>p</td>\n",
       "      <td>compact</td>\n",
       "      <td>19.809524</td>\n",
       "    </tr>\n",
       "    <tr>\n",
       "      <th>...</th>\n",
       "      <td>...</td>\n",
       "      <td>...</td>\n",
       "      <td>...</td>\n",
       "      <td>...</td>\n",
       "      <td>...</td>\n",
       "      <td>...</td>\n",
       "      <td>...</td>\n",
       "      <td>...</td>\n",
       "      <td>...</td>\n",
       "      <td>...</td>\n",
       "      <td>...</td>\n",
       "      <td>...</td>\n",
       "    </tr>\n",
       "    <tr>\n",
       "      <th>230</th>\n",
       "      <td>volkswagen</td>\n",
       "      <td>passat</td>\n",
       "      <td>2.0</td>\n",
       "      <td>2008</td>\n",
       "      <td>4</td>\n",
       "      <td>auto(s6)</td>\n",
       "      <td>f</td>\n",
       "      <td>19</td>\n",
       "      <td>28</td>\n",
       "      <td>p</td>\n",
       "      <td>midsize</td>\n",
       "      <td>22.638298</td>\n",
       "    </tr>\n",
       "    <tr>\n",
       "      <th>231</th>\n",
       "      <td>volkswagen</td>\n",
       "      <td>passat</td>\n",
       "      <td>2.0</td>\n",
       "      <td>2008</td>\n",
       "      <td>4</td>\n",
       "      <td>manual(m6)</td>\n",
       "      <td>f</td>\n",
       "      <td>21</td>\n",
       "      <td>29</td>\n",
       "      <td>p</td>\n",
       "      <td>midsize</td>\n",
       "      <td>24.360000</td>\n",
       "    </tr>\n",
       "    <tr>\n",
       "      <th>232</th>\n",
       "      <td>volkswagen</td>\n",
       "      <td>passat</td>\n",
       "      <td>2.8</td>\n",
       "      <td>1999</td>\n",
       "      <td>6</td>\n",
       "      <td>auto(l5)</td>\n",
       "      <td>f</td>\n",
       "      <td>16</td>\n",
       "      <td>26</td>\n",
       "      <td>p</td>\n",
       "      <td>midsize</td>\n",
       "      <td>19.809524</td>\n",
       "    </tr>\n",
       "    <tr>\n",
       "      <th>233</th>\n",
       "      <td>volkswagen</td>\n",
       "      <td>passat</td>\n",
       "      <td>2.8</td>\n",
       "      <td>1999</td>\n",
       "      <td>6</td>\n",
       "      <td>manual(m5)</td>\n",
       "      <td>f</td>\n",
       "      <td>18</td>\n",
       "      <td>26</td>\n",
       "      <td>p</td>\n",
       "      <td>midsize</td>\n",
       "      <td>21.272727</td>\n",
       "    </tr>\n",
       "    <tr>\n",
       "      <th>234</th>\n",
       "      <td>volkswagen</td>\n",
       "      <td>passat</td>\n",
       "      <td>3.6</td>\n",
       "      <td>2008</td>\n",
       "      <td>6</td>\n",
       "      <td>auto(s6)</td>\n",
       "      <td>f</td>\n",
       "      <td>17</td>\n",
       "      <td>26</td>\n",
       "      <td>p</td>\n",
       "      <td>midsize</td>\n",
       "      <td>20.558140</td>\n",
       "    </tr>\n",
       "  </tbody>\n",
       "</table>\n",
       "<p>234 rows × 12 columns</p>\n",
       "</div>"
      ],
      "text/plain": [
       "    manufacturer   model  displ  year  cyl       trans drv  cty  hwy fl  \\\n",
       "1           audi      a4    1.8  1999    4    auto(l5)   f   18   29  p   \n",
       "2           audi      a4    1.8  1999    4  manual(m5)   f   21   29  p   \n",
       "3           audi      a4    2.0  2008    4  manual(m6)   f   20   31  p   \n",
       "4           audi      a4    2.0  2008    4    auto(av)   f   21   30  p   \n",
       "5           audi      a4    2.8  1999    6    auto(l5)   f   16   26  p   \n",
       "..           ...     ...    ...   ...  ...         ...  ..  ...  ... ..   \n",
       "230   volkswagen  passat    2.0  2008    4    auto(s6)   f   19   28  p   \n",
       "231   volkswagen  passat    2.0  2008    4  manual(m6)   f   21   29  p   \n",
       "232   volkswagen  passat    2.8  1999    6    auto(l5)   f   16   26  p   \n",
       "233   volkswagen  passat    2.8  1999    6  manual(m5)   f   18   26  p   \n",
       "234   volkswagen  passat    3.6  2008    6    auto(s6)   f   17   26  p   \n",
       "\n",
       "       class       f_ef  \n",
       "1    compact  22.212766  \n",
       "2    compact  24.360000  \n",
       "3    compact  24.313725  \n",
       "4    compact  24.705882  \n",
       "5    compact  19.809524  \n",
       "..       ...        ...  \n",
       "230  midsize  22.638298  \n",
       "231  midsize  24.360000  \n",
       "232  midsize  19.809524  \n",
       "233  midsize  21.272727  \n",
       "234  midsize  20.558140  \n",
       "\n",
       "[234 rows x 12 columns]"
      ]
     },
     "execution_count": 74,
     "metadata": {},
     "output_type": "execute_result"
    }
   ],
   "source": [
    "from pydataset import data\n",
    "df_mpg = data('mpg')\n",
    "df_mpg['f_ef'] = (df_mpg.cty + df_mpg.hwy)/2\n",
    "# can use the harmonic mean, probs is more accurate\n",
    "df_mpg['f_ef'] = stats.hmean(df_mpg[{'cty', 'hwy'}], axis =1)\n",
    "df_mpg"
   ]
  },
  {
   "cell_type": "markdown",
   "id": "1567f910",
   "metadata": {},
   "source": [
    "- Is there a difference in fuel-efficiency in cars from 2008 vs 1999?"
   ]
  },
  {
   "cell_type": "markdown",
   "id": "86509f24",
   "metadata": {},
   "source": [
    "$H_0$ : $\\mu_{2008} = \\mu_{1999}$\n",
    "\n",
    "$H_a$ :$\\mu_{2008} \\neq \\mu_{1999}$\n",
    "\n",
    "$\\alpha$ = 0.05"
   ]
  },
  {
   "cell_type": "code",
   "execution_count": 75,
   "id": "99cc497e",
   "metadata": {},
   "outputs": [
    {
     "data": {
      "text/plain": [
       "(19.488662986569054, 19.68238764869729)"
      ]
     },
     "execution_count": 75,
     "metadata": {},
     "output_type": "execute_result"
    }
   ],
   "source": [
    "#make the two series sets:\n",
    "fe_2008 = df_mpg[df_mpg.year==2008].f_ef\n",
    "fe_1999 = df_mpg[df_mpg.year==1999].f_ef\n",
    "fe_2008.mean(), fe_1999.mean()"
   ]
  },
  {
   "cell_type": "code",
   "execution_count": 80,
   "id": "7e23461f",
   "metadata": {},
   "outputs": [
    {
     "data": {
      "text/plain": [
       "(22.550836772260343, 25.850396545865912)"
      ]
     },
     "execution_count": 80,
     "metadata": {},
     "output_type": "execute_result"
    }
   ],
   "source": [
    "# compare variance:\n",
    "fe_2008.var(), fe_1999.var()"
   ]
  },
  {
   "cell_type": "code",
   "execution_count": 81,
   "id": "5d858c65",
   "metadata": {},
   "outputs": [
    {
     "data": {
      "text/plain": [
       "False"
      ]
     },
     "execution_count": 81,
     "metadata": {},
     "output_type": "execute_result"
    }
   ],
   "source": [
    "s, p = stats.levene(fe_2008, fe_1999)\n",
    "p < 0.05 #we will use equal_var=True"
   ]
  },
  {
   "cell_type": "code",
   "execution_count": 84,
   "id": "9667f89c",
   "metadata": {},
   "outputs": [
    {
     "data": {
      "text/plain": [
       "(-0.3011962975077886, 0.7635345888327115)"
      ]
     },
     "execution_count": 84,
     "metadata": {},
     "output_type": "execute_result"
    }
   ],
   "source": [
    "# this is a two tailed test so can keep p as is\n",
    "t, p = stats.ttest_ind(fe_2008, fe_1999, equal_var = True)\n",
    "t, p"
   ]
  },
  {
   "cell_type": "code",
   "execution_count": 87,
   "id": "a6da865e",
   "metadata": {},
   "outputs": [
    {
     "data": {
      "text/plain": [
       "False"
      ]
     },
     "execution_count": 87,
     "metadata": {},
     "output_type": "execute_result"
    }
   ],
   "source": [
    "p < alpha"
   ]
  },
  {
   "cell_type": "code",
   "execution_count": 78,
   "id": "1fa7bd4c",
   "metadata": {},
   "outputs": [
    {
     "data": {
      "text/plain": [
       "<AxesSubplot:>"
      ]
     },
     "execution_count": 78,
     "metadata": {},
     "output_type": "execute_result"
    },
    {
     "data": {
      "image/png": "[encoded data removed]",
      "text/plain": [
       "<Figure size 432x288 with 1 Axes>"
      ]
     },
     "metadata": {
      "needs_background": "light"
     },
     "output_type": "display_data"
    }
   ],
   "source": [
    "fe_2008.hist()"
   ]
  },
  {
   "cell_type": "code",
   "execution_count": 79,
   "id": "0e6edeac",
   "metadata": {},
   "outputs": [
    {
     "data": {
      "text/plain": [
       "<AxesSubplot:>"
      ]
     },
     "execution_count": 79,
     "metadata": {},
     "output_type": "execute_result"
    },
    {
     "data": {
      "image/png": "[encoded data removed]",
      "text/plain": [
       "<Figure size 432x288 with 1 Axes>"
      ]
     },
     "metadata": {
      "needs_background": "light"
     },
     "output_type": "display_data"
    }
   ],
   "source": [
    "fe_1999.hist()"
   ]
  },
  {
   "cell_type": "markdown",
   "id": "3e69424d",
   "metadata": {},
   "source": [
    "It is unlikely that the fuel efficiency has changed. $H_0$ is not rejected"
   ]
  },
  {
   "cell_type": "markdown",
   "id": "a67a1b57",
   "metadata": {},
   "source": [
    "- Are compact cars more fuel-efficient than the average car?"
   ]
  },
  {
   "cell_type": "markdown",
   "id": "38e62cd1",
   "metadata": {},
   "source": [
    "$H_0$ : $\\mu_{compact} \\leq \\mu$\n",
    "\n",
    "$H_a$ : $\\mu_{compact} > \\mu$\n",
    "\n",
    "Where $\\mu$ is mpg for average car\n",
    "\n",
    "This is a one-sample t-test"
   ]
  },
  {
   "cell_type": "code",
   "execution_count": 93,
   "id": "04456922",
   "metadata": {},
   "outputs": [
    {
     "data": {
      "text/plain": [
       "(23.500416808701296, 19.585525317633177)"
      ]
     },
     "execution_count": 93,
     "metadata": {},
     "output_type": "execute_result"
    }
   ],
   "source": [
    "#make two series and look at their mean\n",
    "compact = df_mpg[df_mpg['class'] == 'compact'].f_ef\n",
    "population = df_mpg.f_ef\n",
    "compact.mean(), population.mean()"
   ]
  },
  {
   "cell_type": "code",
   "execution_count": 101,
   "id": "49534bb3",
   "metadata": {},
   "outputs": [
    {
     "data": {
      "text/plain": [
       "(array([[ 0.,  0.,  3., 13., 20.,  6.,  3.,  1.,  0.,  1.],\n",
       "        [20., 48., 39., 51., 48., 16.,  8.,  1.,  1.,  2.]]),\n",
       " array([10.28571429, 13.15587703, 16.02603978, 18.89620253, 21.76636528,\n",
       "        24.63652803, 27.50669078, 30.37685353, 33.24701627, 36.11717902,\n",
       "        38.98734177]),\n",
       " <a list of 2 BarContainer objects>)"
      ]
     },
     "execution_count": 101,
     "metadata": {},
     "output_type": "execute_result"
    },
    {
     "data": {
      "image/png": "[encoded data removed]",
      "text/plain": [
       "<Figure size 432x288 with 1 Axes>"
      ]
     },
     "metadata": {
      "needs_background": "light"
     },
     "output_type": "display_data"
    }
   ],
   "source": [
    "plt.hist([compact, population])"
   ]
  },
  {
   "cell_type": "code",
   "execution_count": 96,
   "id": "a8bbac1d",
   "metadata": {},
   "outputs": [
    {
     "data": {
      "text/plain": [
       "(7.512360093161354, 7.808833174403864e-10)"
      ]
     },
     "execution_count": 96,
     "metadata": {},
     "output_type": "execute_result"
    }
   ],
   "source": [
    "#this a single tail test since H_0 contains <=\n",
    "# will take p/2\n",
    "t, p = stats.ttest_1samp(compact, population.mean())\n",
    "t, p/2"
   ]
  },
  {
   "cell_type": "code",
   "execution_count": 97,
   "id": "7a97e249",
   "metadata": {},
   "outputs": [
    {
     "data": {
      "text/plain": [
       "True"
      ]
     },
     "execution_count": 97,
     "metadata": {},
     "output_type": "execute_result"
    }
   ],
   "source": [
    "p/2 < alpha"
   ]
  },
  {
   "cell_type": "markdown",
   "id": "4cf89510",
   "metadata": {},
   "source": [
    "It is likely that compact cars are more fuel efficient than non-compact cars.  $H_0$ can be reasonably rejected."
   ]
  },
  {
   "cell_type": "markdown",
   "id": "876635dd",
   "metadata": {},
   "source": [
    "- Do manual cars get better gas mileage than automatic cars?"
   ]
  },
  {
   "cell_type": "markdown",
   "id": "973143b2",
   "metadata": {},
   "source": [
    "$H_0$ : $\\mu_{manual} \\leq \\mu_{automatic}$\n",
    "\n",
    "$H_a$ : $\\mu_{manual} > \\mu_{automatic}$"
   ]
  },
  {
   "cell_type": "code",
   "execution_count": 102,
   "id": "7d5a446e",
   "metadata": {},
   "outputs": [
    {
     "data": {
      "text/plain": [
       "(21.629228592155194, 18.583199507835747)"
      ]
     },
     "execution_count": 102,
     "metadata": {},
     "output_type": "execute_result"
    }
   ],
   "source": [
    "# make two series and look at their mean\n",
    "automatic = df_mpg[df_mpg.trans.str.contains('auto')].f_ef\n",
    "manual = df_mpg[df_mpg.trans.str.contains('manual')].f_ef\n",
    "manual.mean(), automatic.mean()"
   ]
  },
  {
   "cell_type": "code",
   "execution_count": 112,
   "id": "9b28738b",
   "metadata": {},
   "outputs": [
    {
     "data": {
      "text/plain": [
       "((77,), (157,))"
      ]
     },
     "execution_count": 112,
     "metadata": {},
     "output_type": "execute_result"
    }
   ],
   "source": [
    "manual.shape, automatic.shape"
   ]
  },
  {
   "cell_type": "code",
   "execution_count": 113,
   "id": "e63cc93b",
   "metadata": {},
   "outputs": [
    {
     "data": {
      "text/plain": [
       "<AxesSubplot:>"
      ]
     },
     "execution_count": 113,
     "metadata": {},
     "output_type": "execute_result"
    },
    {
     "data": {
      "image/png": "[encoded data removed]",
      "text/plain": [
       "<Figure size 432x288 with 1 Axes>"
      ]
     },
     "metadata": {
      "needs_background": "light"
     },
     "output_type": "display_data"
    }
   ],
   "source": [
    "manual.hist()"
   ]
  },
  {
   "cell_type": "code",
   "execution_count": 114,
   "id": "cc8101d9",
   "metadata": {},
   "outputs": [
    {
     "data": {
      "text/plain": [
       "<AxesSubplot:>"
      ]
     },
     "execution_count": 114,
     "metadata": {},
     "output_type": "execute_result"
    },
    {
     "data": {
      "image/png": "[encoded data removed]",
      "text/plain": [
       "<Figure size 432x288 with 1 Axes>"
      ]
     },
     "metadata": {
      "needs_background": "light"
     },
     "output_type": "display_data"
    }
   ],
   "source": [
    "automatic.hist()"
   ]
  },
  {
   "cell_type": "code",
   "execution_count": 103,
   "id": "4c6435e6",
   "metadata": {},
   "outputs": [
    {
     "data": {
      "text/plain": [
       "False"
      ]
     },
     "execution_count": 103,
     "metadata": {},
     "output_type": "execute_result"
    }
   ],
   "source": [
    "#compare variance\n",
    "s, p = stats.levene(manual, automatic)\n",
    "p < 0.05 #equal_var = True"
   ]
  },
  {
   "cell_type": "code",
   "execution_count": 120,
   "id": "e24f6c6d",
   "metadata": {},
   "outputs": [
    {
     "data": {
      "text/plain": [
       "(4.652577547151351, 5.510464610044005e-06)"
      ]
     },
     "execution_count": 120,
     "metadata": {},
     "output_type": "execute_result"
    }
   ],
   "source": [
    "#This is a single tail test, use p/2\n",
    "t, p = stats.ttest_ind(manual, automatic, equal_var = True)\n",
    "t, p"
   ]
  },
  {
   "cell_type": "code",
   "execution_count": 121,
   "id": "201c71e0",
   "metadata": {},
   "outputs": [
    {
     "data": {
      "text/plain": [
       "True"
      ]
     },
     "execution_count": 121,
     "metadata": {},
     "output_type": "execute_result"
    }
   ],
   "source": [
    "p/2 < alpha"
   ]
  },
  {
   "cell_type": "markdown",
   "id": "bb60e236",
   "metadata": {},
   "source": [
    "It is likely that manual cars get better gas mileage than automatic. $H_0$ is likely untrue."
   ]
  },
  {
   "cell_type": "markdown",
   "id": "b7dc0044",
   "metadata": {},
   "source": [
    "### the above used an avg of city and highway efficiency.  this might effect the results\n",
    "re-run the test with just one of city or highway"
   ]
  },
  {
   "cell_type": "markdown",
   "id": "f1bdcb6d",
   "metadata": {},
   "source": [
    "$H_0$ : $\\mu_{08hwy} = \\mu_{99hwy}$\n",
    "\n",
    "$H_a$ : $\\mu_{08hwy} \\neq \\mu_{99hwy}$"
   ]
  },
  {
   "cell_type": "code",
   "execution_count": 106,
   "id": "2af69f86",
   "metadata": {},
   "outputs": [
    {
     "data": {
      "text/plain": [
       "(23.45299145299145, 23.427350427350426)"
      ]
     },
     "execution_count": 106,
     "metadata": {},
     "output_type": "execute_result"
    }
   ],
   "source": [
    "#make the two series sets:\n",
    "fe_2008 = df_mpg[df_mpg.year==2008].hwy\n",
    "fe_1999 = df_mpg[df_mpg.year==1999].hwy\n",
    "fe_2008.mean(), fe_1999.mean()"
   ]
  },
  {
   "cell_type": "code",
   "execution_count": 107,
   "id": "abea1b52",
   "metadata": {},
   "outputs": [
    {
     "data": {
      "text/plain": [
       "False"
      ]
     },
     "execution_count": 107,
     "metadata": {},
     "output_type": "execute_result"
    }
   ],
   "source": [
    "# compare variance:\n",
    "fe_2008.var(), fe_1999.var()\n",
    "s, p = stats.levene(fe_2008, fe_1999)\n",
    "p < 0.05 #we will use equal_var=True"
   ]
  },
  {
   "cell_type": "code",
   "execution_count": 108,
   "id": "6fd247ca",
   "metadata": {},
   "outputs": [
    {
     "data": {
      "text/plain": [
       "False"
      ]
     },
     "execution_count": 108,
     "metadata": {},
     "output_type": "execute_result"
    }
   ],
   "source": [
    "# this is a two tailed test so can keep p as is\n",
    "t, p = stats.ttest_ind(fe_2008, fe_1999, equal_var = True)\n",
    "p < alpha"
   ]
  },
  {
   "cell_type": "markdown",
   "id": "b52c4903",
   "metadata": {},
   "source": [
    "cannot reject $H_0$"
   ]
  },
  {
   "cell_type": "markdown",
   "id": "9376a09c",
   "metadata": {},
   "source": [
    "$H_0$ : $\\mu_{08city} = \\mu_{99city}$\n",
    "\n",
    "$H_a$ : $\\mu_{08city} \\neq \\mu_{99city}$"
   ]
  },
  {
   "cell_type": "code",
   "execution_count": 109,
   "id": "944b4af2",
   "metadata": {},
   "outputs": [
    {
     "data": {
      "text/plain": [
       "(16.700854700854702, 17.017094017094017)"
      ]
     },
     "execution_count": 109,
     "metadata": {},
     "output_type": "execute_result"
    }
   ],
   "source": [
    "#make the two series sets:\n",
    "fe_2008 = df_mpg[df_mpg.year==2008].cty\n",
    "fe_1999 = df_mpg[df_mpg.year==1999].cty\n",
    "fe_2008.mean(), fe_1999.mean()"
   ]
  },
  {
   "cell_type": "code",
   "execution_count": 110,
   "id": "af023842",
   "metadata": {},
   "outputs": [
    {
     "data": {
      "text/plain": [
       "False"
      ]
     },
     "execution_count": 110,
     "metadata": {},
     "output_type": "execute_result"
    }
   ],
   "source": [
    "# compare variance:\n",
    "fe_2008.var(), fe_1999.var()\n",
    "s, p = stats.levene(fe_2008, fe_1999)\n",
    "p < 0.05 #we will use equal_var=True"
   ]
  },
  {
   "cell_type": "code",
   "execution_count": 111,
   "id": "97199765",
   "metadata": {},
   "outputs": [
    {
     "data": {
      "text/plain": [
       "False"
      ]
     },
     "execution_count": 111,
     "metadata": {},
     "output_type": "execute_result"
    }
   ],
   "source": [
    "# this is a two tailed test so can keep p as is\n",
    "t, p = stats.ttest_ind(fe_2008, fe_1999, equal_var = True)\n",
    "p < alpha"
   ]
  },
  {
   "cell_type": "markdown",
   "id": "29656bf9",
   "metadata": {},
   "source": [
    "Cannot reject $H_0$"
   ]
  },
  {
   "cell_type": "code",
   "execution_count": null,
   "id": "e9566cc4",
   "metadata": {},
   "outputs": [],
   "source": []
  }
 ],
 "metadata": {
  "kernelspec": {
   "display_name": "Python 3 (ipykernel)",
   "language": "python",
   "name": "python3"
  },
  "language_info": {
   "codemirror_mode": {
    "name": "ipython",
    "version": 3
   },
   "file_extension": ".py",
   "mimetype": "text/x-python",
   "name": "python",
   "nbconvert_exporter": "python",
   "pygments_lexer": "ipython3",
   "version": "3.9.7"
  }
 },
 "nbformat": 4,
 "nbformat_minor": 5
}

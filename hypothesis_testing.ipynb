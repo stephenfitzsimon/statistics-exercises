{
 "cells": [
  {
   "cell_type": "code",
   "execution_count": 31,
   "id": "4c20ef67",
   "metadata": {},
   "outputs": [],
   "source": [
    "import scipy.stats as stats\n",
    "import numpy as np\n",
    "import matplotlib.pyplot as plt\n",
    "import pandas as pd\n",
    "import pydataset as pdat\n",
    "from math import sqrt\n",
    "import env\n",
    "alpha = 0.05"
   ]
  },
  {
   "cell_type": "markdown",
   "id": "32c12443",
   "metadata": {},
   "source": [
    "# hypothesis testing exercises"
   ]
  },
  {
   "cell_type": "markdown",
   "id": "1dd71b73",
   "metadata": {},
   "source": [
    "- Has the network latency gone up since we switched internet service providers?\n",
    "\n",
    "$H_0$ : $\\mu_0 = \\mu_1$ where $\\mu_t$ is the mean latency for a given time period, $t$. Network latency has not increased\n",
    "\n",
    "$H_a$ : $\\mu_0 \\neq \\mu_1$ Network latency has changed\n",
    "\n",
    "True positive : The latency has changed, and it has\n",
    "\n",
    "True negative : The latency has not changed, and it hasn't \n",
    "\n",
    "Type I Error : Thinking that the latency has changed when it has not.\n",
    "\n",
    "Type II Error : Think that the latency is the same, when it is no longer the same.\n",
    " \n",
    " \n",
    "- Is the website redesign any good?\n",
    "\n",
    "Let $\\mu_k$ be the mean daily site visits at time period $k$\n",
    "\n",
    "$H_0$ : $\\mu_0 = \\mu_1$ - the mean daily site vist length hasn't changed\n",
    "\n",
    "$H_a$ : $\\mu_0 \\neq \\mu_1$ mean daily site visits have changed\n",
    "\n",
    "True positive : site visit length has changed, and it has\n",
    "\n",
    "True negative : site visit length has not changed, and it hasn't\n",
    "\n",
    "Type I Error : The design change is good (site vist length has changed) when it has no effect\n",
    "\n",
    "Type II Error : The design change had no effect, when it has had an effect\n",
    "\n",
    "\n",
    "- Is our television ad driving more sales?\n",
    "\n",
    "Let $\\mu_g$ be average sales in $g$, a tv media market\n",
    "\n",
    "$H_0$ : $\\mu_g = \\mu_{g'}$\n",
    "\n",
    "Alt: $H_0$ : $s_0 \\leq s_1$ where $s_t$ is the sales volumes at time $t$. w/ $H_a$ : $s_0 > s_1$\n",
    "\n",
    "$H_a$ : $\\mu_g \\neq \\mu_{g'}$\n",
    "\n",
    "True positive : ad has had some effect on sales\n",
    "\n",
    "True negative : ad has had no effect on sales\n",
    "\n",
    "Type I Error : ad has an effect on sales, but is assumed not to have had an effect\n",
    "\n",
    "Type II Error :  ad has no effect, but in fact changed sales"
   ]
  },
  {
   "cell_type": "markdown",
   "id": "0820739b",
   "metadata": {},
   "source": [
    "## T-Test"
   ]
  },
  {
   "cell_type": "markdown",
   "id": "5a053632",
   "metadata": {},
   "source": [
    "1.\n",
    "\n",
    "Ace Realty wants to determine whether the average time it takes to sell homes is different for its two offices. A sample of 40 sales from office #1 revealed a mean of 90 days and a standard deviation of 15 days. A sample of 50 sales from office #2 revealed a mean of 100 days and a standard deviation of 20 days. Use a .05 level of significance."
   ]
  },
  {
   "cell_type": "code",
   "execution_count": null,
   "id": "fef6b75a",
   "metadata": {},
   "outputs": [],
   "source": [
    "#office 1 stats\n",
    "size_office_1 = 40\n",
    "mu_office_1 = 90\n",
    "sigma_office_1 = 15\n",
    "\n",
    "#office 2 stats\n",
    "size_office_2 = 50\n",
    "mu_office_2 = 100\n",
    "sigma_office_2 = 20\n",
    "\n",
    "alpha = 0.05"
   ]
  },
  {
   "cell_type": "code",
   "execution_count": null,
   "id": "7e9b1680",
   "metadata": {},
   "outputs": [],
   "source": [
    "# can visualize these distributions\n",
    "x = np.arange(50, 150)\n",
    "y1 = stats.norm(mu_office_1, sigma_office_1).pdf(x)\n",
    "y2 = stats.norm(mu_office_2, sigma_office_2).pdf(x)\n",
    "\n",
    "plt.plot(x, y1)\n",
    "plt.plot(x, y2)"
   ]
  },
  {
   "cell_type": "markdown",
   "id": "ec04285b",
   "metadata": {},
   "source": [
    "$H_0$ : mu_office_1 = mu_office_2\n",
    "\n",
    "$H_a$ : mu_office_1 $\\neq$ mu_office_2"
   ]
  },
  {
   "cell_type": "code",
   "execution_count": null,
   "id": "d5ba9ebc",
   "metadata": {},
   "outputs": [],
   "source": [
    "# calculate the t stat and the p value\n",
    "t, p = stats.ttest_ind_from_stats(mu_office_1, sigma_office_1, size_office_1, mu_office_2, sigma_office_2, size_office_2, equal_var = False)"
   ]
  },
  {
   "cell_type": "code",
   "execution_count": null,
   "id": "4f043fd7",
   "metadata": {},
   "outputs": [],
   "source": [
    "t, p"
   ]
  },
  {
   "cell_type": "code",
   "execution_count": null,
   "id": "37c4fbbc",
   "metadata": {},
   "outputs": [],
   "source": [
    "# take p since this is a two tail test\n",
    "p < alpha"
   ]
  },
  {
   "cell_type": "markdown",
   "id": "ed280da6",
   "metadata": {},
   "source": [
    "There are grounds to reject $H_0$. The sales time is different at the two offices."
   ]
  },
  {
   "cell_type": "markdown",
   "id": "f4f43e52",
   "metadata": {},
   "source": [
    "2.\n",
    "\n",
    "Load the mpg dataset and use it to answer the following questions:\n",
    "\n",
    "- Is there a difference in fuel-efficiency in cars from 2008 vs 1999?\n",
    "- Are compact cars more fuel-efficient than the average car?\n",
    "- Do manual cars get better gas mileage than automatic cars?\n",
    "\n"
   ]
  },
  {
   "cell_type": "code",
   "execution_count": null,
   "id": "916a0984",
   "metadata": {},
   "outputs": [],
   "source": [
    "from pydataset import data\n",
    "df_mpg = data('mpg')\n",
    "df_mpg['f_ef'] = (df_mpg.cty + df_mpg.hwy)/2\n",
    "# can use the harmonic mean, probs is more accurate\n",
    "df_mpg['f_ef'] = stats.hmean(df_mpg[{'cty', 'hwy'}], axis =1)\n",
    "df_mpg"
   ]
  },
  {
   "cell_type": "markdown",
   "id": "b7bbab40",
   "metadata": {},
   "source": [
    "- Is there a difference in fuel-efficiency in cars from 2008 vs 1999?"
   ]
  },
  {
   "cell_type": "markdown",
   "id": "9d62b163",
   "metadata": {},
   "source": [
    "$H_0$ : $\\mu_{2008} = \\mu_{1999}$\n",
    "\n",
    "$H_a$ :$\\mu_{2008} \\neq \\mu_{1999}$\n",
    "\n",
    "$\\alpha$ = 0.05"
   ]
  },
  {
   "cell_type": "code",
   "execution_count": null,
   "id": "d0775f33",
   "metadata": {},
   "outputs": [],
   "source": [
    "#make the two series sets:\n",
    "fe_2008 = df_mpg[df_mpg.year==2008].f_ef\n",
    "fe_1999 = df_mpg[df_mpg.year==1999].f_ef\n",
    "fe_2008.mean(), fe_1999.mean()"
   ]
  },
  {
   "cell_type": "code",
   "execution_count": null,
   "id": "d679bc4d",
   "metadata": {},
   "outputs": [],
   "source": [
    "# compare variance:\n",
    "fe_2008.var(), fe_1999.var()"
   ]
  },
  {
   "cell_type": "code",
   "execution_count": null,
   "id": "84819b76",
   "metadata": {},
   "outputs": [],
   "source": [
    "s, p = stats.levene(fe_2008, fe_1999)\n",
    "p < 0.05 #we will use equal_var=True"
   ]
  },
  {
   "cell_type": "code",
   "execution_count": null,
   "id": "f4aa3464",
   "metadata": {},
   "outputs": [],
   "source": [
    "# this is a two tailed test so can keep p as is\n",
    "t, p = stats.ttest_ind(fe_2008, fe_1999, equal_var = True)\n",
    "t, p"
   ]
  },
  {
   "cell_type": "code",
   "execution_count": null,
   "id": "681dc2cc",
   "metadata": {},
   "outputs": [],
   "source": [
    "p < alpha"
   ]
  },
  {
   "cell_type": "code",
   "execution_count": null,
   "id": "2df94727",
   "metadata": {},
   "outputs": [],
   "source": [
    "fe_2008.hist()"
   ]
  },
  {
   "cell_type": "code",
   "execution_count": null,
   "id": "1239fa81",
   "metadata": {},
   "outputs": [],
   "source": [
    "fe_1999.hist()"
   ]
  },
  {
   "cell_type": "markdown",
   "id": "99a13ae5",
   "metadata": {},
   "source": [
    "It is unlikely that the fuel efficiency has changed. $H_0$ is not rejected"
   ]
  },
  {
   "cell_type": "markdown",
   "id": "8e6c31f0",
   "metadata": {},
   "source": [
    "- Are compact cars more fuel-efficient than the average car?"
   ]
  },
  {
   "cell_type": "markdown",
   "id": "1b04037c",
   "metadata": {},
   "source": [
    "$H_0$ : $\\mu_{compact} \\leq \\mu$\n",
    "\n",
    "$H_a$ : $\\mu_{compact} > \\mu$\n",
    "\n",
    "Where $\\mu$ is mpg for average car\n",
    "\n",
    "This is a one-sample t-test"
   ]
  },
  {
   "cell_type": "code",
   "execution_count": null,
   "id": "cdcca4fa",
   "metadata": {},
   "outputs": [],
   "source": [
    "#make two series and look at their mean\n",
    "compact = df_mpg[df_mpg['class'] == 'compact'].f_ef\n",
    "population = df_mpg.f_ef\n",
    "compact.mean(), population.mean()"
   ]
  },
  {
   "cell_type": "code",
   "execution_count": null,
   "id": "e8a7e71a",
   "metadata": {},
   "outputs": [],
   "source": [
    "plt.hist([compact, population])"
   ]
  },
  {
   "cell_type": "code",
   "execution_count": null,
   "id": "61124cae",
   "metadata": {},
   "outputs": [],
   "source": [
    "#this a single tail test since H_0 contains <=\n",
    "# will take p/2\n",
    "t, p = stats.ttest_1samp(compact, population.mean())\n",
    "t, p/2"
   ]
  },
  {
   "cell_type": "code",
   "execution_count": null,
   "id": "58e2bfc8",
   "metadata": {},
   "outputs": [],
   "source": [
    "p/2 < alpha"
   ]
  },
  {
   "cell_type": "markdown",
   "id": "942f7690",
   "metadata": {},
   "source": [
    "It is likely that compact cars are more fuel efficient than non-compact cars.  $H_0$ can be reasonably rejected."
   ]
  },
  {
   "cell_type": "markdown",
   "id": "4e487172",
   "metadata": {},
   "source": [
    "- Do manual cars get better gas mileage than automatic cars?"
   ]
  },
  {
   "cell_type": "markdown",
   "id": "0b747f12",
   "metadata": {},
   "source": [
    "$H_0$ : $\\mu_{manual} \\leq \\mu_{automatic}$\n",
    "\n",
    "$H_a$ : $\\mu_{manual} > \\mu_{automatic}$"
   ]
  },
  {
   "cell_type": "code",
   "execution_count": null,
   "id": "67cc6e81",
   "metadata": {},
   "outputs": [],
   "source": [
    "# make two series and look at their mean\n",
    "automatic = df_mpg[df_mpg.trans.str.contains('auto')].f_ef\n",
    "manual = df_mpg[df_mpg.trans.str.contains('manual')].f_ef\n",
    "manual.mean(), automatic.mean()"
   ]
  },
  {
   "cell_type": "code",
   "execution_count": null,
   "id": "4bbdae86",
   "metadata": {},
   "outputs": [],
   "source": [
    "manual.shape, automatic.shape"
   ]
  },
  {
   "cell_type": "code",
   "execution_count": null,
   "id": "7ec627bd",
   "metadata": {},
   "outputs": [],
   "source": [
    "manual.hist()"
   ]
  },
  {
   "cell_type": "code",
   "execution_count": null,
   "id": "2f3cb67f",
   "metadata": {},
   "outputs": [],
   "source": [
    "automatic.hist()"
   ]
  },
  {
   "cell_type": "code",
   "execution_count": null,
   "id": "8bef376d",
   "metadata": {},
   "outputs": [],
   "source": [
    "#compare variance\n",
    "s, p = stats.levene(manual, automatic)\n",
    "p < 0.05 #equal_var = True"
   ]
  },
  {
   "cell_type": "code",
   "execution_count": null,
   "id": "ed0c4fab",
   "metadata": {},
   "outputs": [],
   "source": [
    "#This is a single tail test, use p/2\n",
    "t, p = stats.ttest_ind(manual, automatic, equal_var = True)\n",
    "t, p"
   ]
  },
  {
   "cell_type": "code",
   "execution_count": null,
   "id": "a72421db",
   "metadata": {},
   "outputs": [],
   "source": [
    "p/2 < alpha"
   ]
  },
  {
   "cell_type": "markdown",
   "id": "9627a53d",
   "metadata": {},
   "source": [
    "It is likely that manual cars get better gas mileage than automatic. $H_0$ is likely untrue."
   ]
  },
  {
   "cell_type": "markdown",
   "id": "7a5e11ca",
   "metadata": {},
   "source": [
    "### the above used an avg of city and highway efficiency.  this might effect the results\n",
    "re-run the test with just one of city or highway"
   ]
  },
  {
   "cell_type": "markdown",
   "id": "6e086146",
   "metadata": {},
   "source": [
    "$H_0$ : $\\mu_{08hwy} = \\mu_{99hwy}$\n",
    "\n",
    "$H_a$ : $\\mu_{08hwy} \\neq \\mu_{99hwy}$"
   ]
  },
  {
   "cell_type": "code",
   "execution_count": null,
   "id": "aec26260",
   "metadata": {},
   "outputs": [],
   "source": [
    "#make the two series sets:\n",
    "fe_2008 = df_mpg[df_mpg.year==2008].hwy\n",
    "fe_1999 = df_mpg[df_mpg.year==1999].hwy\n",
    "fe_2008.mean(), fe_1999.mean()"
   ]
  },
  {
   "cell_type": "code",
   "execution_count": null,
   "id": "345170fb",
   "metadata": {},
   "outputs": [],
   "source": [
    "# compare variance:\n",
    "fe_2008.var(), fe_1999.var()\n",
    "s, p = stats.levene(fe_2008, fe_1999)\n",
    "p < 0.05 #we will use equal_var=True"
   ]
  },
  {
   "cell_type": "code",
   "execution_count": null,
   "id": "87ee4b0b",
   "metadata": {},
   "outputs": [],
   "source": [
    "# this is a two tailed test so can keep p as is\n",
    "t, p = stats.ttest_ind(fe_2008, fe_1999, equal_var = True)\n",
    "p < alpha"
   ]
  },
  {
   "cell_type": "markdown",
   "id": "690ebfe8",
   "metadata": {},
   "source": [
    "cannot reject $H_0$"
   ]
  },
  {
   "cell_type": "markdown",
   "id": "3fce2361",
   "metadata": {},
   "source": [
    "$H_0$ : $\\mu_{08city} = \\mu_{99city}$\n",
    "\n",
    "$H_a$ : $\\mu_{08city} \\neq \\mu_{99city}$"
   ]
  },
  {
   "cell_type": "code",
   "execution_count": null,
   "id": "1656ae0d",
   "metadata": {},
   "outputs": [],
   "source": [
    "#make the two series sets:\n",
    "fe_2008 = df_mpg[df_mpg.year==2008].cty\n",
    "fe_1999 = df_mpg[df_mpg.year==1999].cty\n",
    "fe_2008.mean(), fe_1999.mean()"
   ]
  },
  {
   "cell_type": "code",
   "execution_count": null,
   "id": "40402096",
   "metadata": {},
   "outputs": [],
   "source": [
    "# compare variance:\n",
    "fe_2008.var(), fe_1999.var()\n",
    "s, p = stats.levene(fe_2008, fe_1999)\n",
    "p < 0.05 #we will use equal_var=True"
   ]
  },
  {
   "cell_type": "code",
   "execution_count": null,
   "id": "7e41c78d",
   "metadata": {},
   "outputs": [],
   "source": [
    "# this is a two tailed test so can keep p as is\n",
    "t, p = stats.ttest_ind(fe_2008, fe_1999, equal_var = True)\n",
    "p < alpha"
   ]
  },
  {
   "cell_type": "markdown",
   "id": "36d1f9e3",
   "metadata": {},
   "source": [
    "Cannot reject $H_0$"
   ]
  },
  {
   "cell_type": "markdown",
   "id": "c82c39fb",
   "metadata": {},
   "source": [
    "## correlation"
   ]
  },
  {
   "cell_type": "markdown",
   "id": "1f577d62",
   "metadata": {},
   "source": [
    "1. \n",
    "\n",
    "\n",
    "Use the telco_churn data. Does tenure correlate with monthly charges? Total charges? What happens if you control for phone and internet service?"
   ]
  },
  {
   "cell_type": "code",
   "execution_count": 123,
   "id": "ececef71",
   "metadata": {},
   "outputs": [
    {
     "data": {
      "text/html": [
       "<div>\n",
       "<style scoped>\n",
       "    .dataframe tbody tr th:only-of-type {\n",
       "        vertical-align: middle;\n",
       "    }\n",
       "\n",
       "    .dataframe tbody tr th {\n",
       "        vertical-align: top;\n",
       "    }\n",
       "\n",
       "    .dataframe thead th {\n",
       "        text-align: right;\n",
       "    }\n",
       "</style>\n",
       "<table border=\"1\" class=\"dataframe\">\n",
       "  <thead>\n",
       "    <tr style=\"text-align: right;\">\n",
       "      <th></th>\n",
       "      <th>customer_id</th>\n",
       "      <th>gender</th>\n",
       "      <th>is_senior_citizen</th>\n",
       "      <th>partner</th>\n",
       "      <th>dependents</th>\n",
       "      <th>phone_service</th>\n",
       "      <th>internet_service</th>\n",
       "      <th>contract_type</th>\n",
       "      <th>payment_type</th>\n",
       "      <th>monthly_charges</th>\n",
       "      <th>...</th>\n",
       "      <th>has_churned</th>\n",
       "      <th>has_phone</th>\n",
       "      <th>has_internet</th>\n",
       "      <th>has_phone_and_internet</th>\n",
       "      <th>partner_dependents</th>\n",
       "      <th>avg_monthly_charges</th>\n",
       "      <th>avg_bool_check</th>\n",
       "      <th>contract_type.1</th>\n",
       "      <th>phone_type</th>\n",
       "      <th>internet_type</th>\n",
       "    </tr>\n",
       "  </thead>\n",
       "  <tbody>\n",
       "    <tr>\n",
       "      <th>0</th>\n",
       "      <td>0002-ORFBO</td>\n",
       "      <td>Female</td>\n",
       "      <td>0</td>\n",
       "      <td>Yes</td>\n",
       "      <td>Yes</td>\n",
       "      <td>1</td>\n",
       "      <td>1</td>\n",
       "      <td>1</td>\n",
       "      <td>Mailed check</td>\n",
       "      <td>65.6</td>\n",
       "      <td>...</td>\n",
       "      <td>False</td>\n",
       "      <td>True</td>\n",
       "      <td>True</td>\n",
       "      <td>True</td>\n",
       "      <td>3</td>\n",
       "      <td>65.6</td>\n",
       "      <td>TRUE</td>\n",
       "      <td>1 Year</td>\n",
       "      <td>One Line</td>\n",
       "      <td>DSL</td>\n",
       "    </tr>\n",
       "    <tr>\n",
       "      <th>1</th>\n",
       "      <td>0003-MKNFE</td>\n",
       "      <td>Male</td>\n",
       "      <td>0</td>\n",
       "      <td>No</td>\n",
       "      <td>No</td>\n",
       "      <td>2</td>\n",
       "      <td>1</td>\n",
       "      <td>0</td>\n",
       "      <td>Mailed check</td>\n",
       "      <td>59.9</td>\n",
       "      <td>...</td>\n",
       "      <td>False</td>\n",
       "      <td>True</td>\n",
       "      <td>True</td>\n",
       "      <td>True</td>\n",
       "      <td>0</td>\n",
       "      <td>59.9</td>\n",
       "      <td>TRUE</td>\n",
       "      <td>Month-to-Month</td>\n",
       "      <td>Two or More Lines</td>\n",
       "      <td>Fiber Optic</td>\n",
       "    </tr>\n",
       "    <tr>\n",
       "      <th>2</th>\n",
       "      <td>0004-TLHLJ</td>\n",
       "      <td>Male</td>\n",
       "      <td>0</td>\n",
       "      <td>No</td>\n",
       "      <td>No</td>\n",
       "      <td>1</td>\n",
       "      <td>2</td>\n",
       "      <td>0</td>\n",
       "      <td>Electronic check</td>\n",
       "      <td>73.9</td>\n",
       "      <td>...</td>\n",
       "      <td>True</td>\n",
       "      <td>True</td>\n",
       "      <td>True</td>\n",
       "      <td>True</td>\n",
       "      <td>0</td>\n",
       "      <td>73.9</td>\n",
       "      <td>TRUE</td>\n",
       "      <td>Month-to-Month</td>\n",
       "      <td>One Line</td>\n",
       "      <td>DSL</td>\n",
       "    </tr>\n",
       "  </tbody>\n",
       "</table>\n",
       "<p>3 rows × 26 columns</p>\n",
       "</div>"
      ],
      "text/plain": [
       "  customer_id  gender  is_senior_citizen partner dependents  phone_service  \\\n",
       "0  0002-ORFBO  Female                  0     Yes        Yes              1   \n",
       "1  0003-MKNFE    Male                  0      No         No              2   \n",
       "2  0004-TLHLJ    Male                  0      No         No              1   \n",
       "\n",
       "   internet_service  contract_type      payment_type  monthly_charges  ...  \\\n",
       "0                 1              1      Mailed check             65.6  ...   \n",
       "1                 1              0      Mailed check             59.9  ...   \n",
       "2                 2              0  Electronic check             73.9  ...   \n",
       "\n",
       "   has_churned has_phone  has_internet  has_phone_and_internet  \\\n",
       "0        False      True          True                    True   \n",
       "1        False      True          True                    True   \n",
       "2         True      True          True                    True   \n",
       "\n",
       "  partner_dependents  avg_monthly_charges  avg_bool_check  contract_type.1  \\\n",
       "0                  3                 65.6            TRUE           1 Year   \n",
       "1                  0                 59.9            TRUE   Month-to-Month   \n",
       "2                  0                 73.9            TRUE   Month-to-Month   \n",
       "\n",
       "          phone_type  internet_type  \n",
       "0           One Line            DSL  \n",
       "1  Two or More Lines    Fiber Optic  \n",
       "2           One Line            DSL  \n",
       "\n",
       "[3 rows x 26 columns]"
      ]
     },
     "execution_count": 123,
     "metadata": {},
     "output_type": "execute_result"
    }
   ],
   "source": [
    "# get the data\n",
    "tl = pd.read_csv('churn_data.csv')\n",
    "tl.head(3)"
   ]
  },
  {
   "cell_type": "code",
   "execution_count": 124,
   "id": "cc337b98",
   "metadata": {},
   "outputs": [
    {
     "data": {
      "text/plain": [
       "Index(['customer_id', 'gender', 'is_senior_citizen', 'partner', 'dependents',\n",
       "       'phone_service', 'internet_service', 'contract_type', 'payment_type',\n",
       "       'monthly_charges', 'total_charges', 'churn', 'tenure', 'rounded_tenure',\n",
       "       'service_type', 'is_female', 'has_churned', 'has_phone', 'has_internet',\n",
       "       'has_phone_and_internet', 'partner_dependents', 'avg_monthly_charges',\n",
       "       'avg_bool_check', 'contract_type.1', 'phone_type', 'internet_type'],\n",
       "      dtype='object')"
      ]
     },
     "execution_count": 124,
     "metadata": {},
     "output_type": "execute_result"
    }
   ],
   "source": [
    "tl.columns"
   ]
  },
  {
   "cell_type": "code",
   "execution_count": 125,
   "id": "ad99c461",
   "metadata": {},
   "outputs": [
    {
     "data": {
      "text/html": [
       "<div>\n",
       "<style scoped>\n",
       "    .dataframe tbody tr th:only-of-type {\n",
       "        vertical-align: middle;\n",
       "    }\n",
       "\n",
       "    .dataframe tbody tr th {\n",
       "        vertical-align: top;\n",
       "    }\n",
       "\n",
       "    .dataframe thead th {\n",
       "        text-align: right;\n",
       "    }\n",
       "</style>\n",
       "<table border=\"1\" class=\"dataframe\">\n",
       "  <thead>\n",
       "    <tr style=\"text-align: right;\">\n",
       "      <th></th>\n",
       "      <th>customer_id</th>\n",
       "      <th>monthly_charges</th>\n",
       "      <th>tenure</th>\n",
       "      <th>total_charges</th>\n",
       "      <th>phone_type</th>\n",
       "      <th>internet_type</th>\n",
       "      <th>service_type</th>\n",
       "    </tr>\n",
       "  </thead>\n",
       "  <tbody>\n",
       "    <tr>\n",
       "      <th>4706</th>\n",
       "      <td>6630-UJZMY</td>\n",
       "      <td>83.25</td>\n",
       "      <td>3.7</td>\n",
       "      <td>308.05</td>\n",
       "      <td>Two or More Lines</td>\n",
       "      <td>Fiber Optic</td>\n",
       "      <td>internet+phone</td>\n",
       "    </tr>\n",
       "    <tr>\n",
       "      <th>5403</th>\n",
       "      <td>7613-LLQFO</td>\n",
       "      <td>84.45</td>\n",
       "      <td>12.5</td>\n",
       "      <td>1059.55</td>\n",
       "      <td>Two or More Lines</td>\n",
       "      <td>Fiber Optic</td>\n",
       "      <td>internet+phone</td>\n",
       "    </tr>\n",
       "    <tr>\n",
       "      <th>5295</th>\n",
       "      <td>7479-NITWS</td>\n",
       "      <td>89.35</td>\n",
       "      <td>7.1</td>\n",
       "      <td>631.85</td>\n",
       "      <td>Two or More Lines</td>\n",
       "      <td>Fiber Optic</td>\n",
       "      <td>internet+phone</td>\n",
       "    </tr>\n",
       "  </tbody>\n",
       "</table>\n",
       "</div>"
      ],
      "text/plain": [
       "     customer_id  monthly_charges  tenure  total_charges         phone_type  \\\n",
       "4706  6630-UJZMY            83.25     3.7         308.05  Two or More Lines   \n",
       "5403  7613-LLQFO            84.45    12.5        1059.55  Two or More Lines   \n",
       "5295  7479-NITWS            89.35     7.1         631.85  Two or More Lines   \n",
       "\n",
       "     internet_type    service_type  \n",
       "4706   Fiber Optic  internet+phone  \n",
       "5403   Fiber Optic  internet+phone  \n",
       "5295   Fiber Optic  internet+phone  "
      ]
     },
     "execution_count": 125,
     "metadata": {},
     "output_type": "execute_result"
    }
   ],
   "source": [
    "# get only the interesting columns\n",
    "tl = tl[['customer_id', 'monthly_charges','tenure', 'total_charges', 'phone_type', 'internet_type', 'service_type']]\n",
    "tl.sample(3)"
   ]
  },
  {
   "cell_type": "markdown",
   "id": "52dce2b1",
   "metadata": {},
   "source": [
    "- Does tenure correlate with monthly charges?"
   ]
  },
  {
   "cell_type": "code",
   "execution_count": 126,
   "id": "69c5aab1",
   "metadata": {},
   "outputs": [],
   "source": [
    "#get the two series objects to work with\n",
    "mnt = tl.monthly_charges\n",
    "tnr = tl.tenure\n",
    "\n",
    "n = mnt.size # get number of observations (these happen to be the same in these series)\n",
    "degf = n - 2 #taken from the lesson\n",
    "conf_int = 0.95 #chance of no type I error - i.e. chance of not incorrectly rejecting H_0\n",
    "alpha = 1 - conf_int #chance of a type I error"
   ]
  },
  {
   "cell_type": "markdown",
   "id": "db8200c1",
   "metadata": {},
   "source": [
    "$H_0$ : there is no linear correlation between tenure and monthly charges - $r \\approx 0$\n",
    "\n",
    "$H_a$ : there is a linear correlation between tenure and monthly charges - $r \\neq 0$"
   ]
  },
  {
   "cell_type": "code",
   "execution_count": 127,
   "id": "853215f6",
   "metadata": {},
   "outputs": [
    {
     "data": {
      "text/plain": [
       "0.24714982558905937"
      ]
     },
     "execution_count": 127,
     "metadata": {},
     "output_type": "execute_result"
    }
   ],
   "source": [
    "# calculate r\n",
    "nom_r = ((mnt - mnt.mean())*(tnr - tnr.mean())).sum()/n\n",
    "den_r = mnt.std()*tnr.std()\n",
    "r = nom_r/den_r\n",
    "r"
   ]
  },
  {
   "cell_type": "code",
   "execution_count": 128,
   "id": "07104f8f",
   "metadata": {},
   "outputs": [
    {
     "data": {
      "text/plain": [
       "21.411586673862747"
      ]
     },
     "execution_count": 128,
     "metadata": {},
     "output_type": "execute_result"
    }
   ],
   "source": [
    "# calculate the t value\n",
    "nom_t = r*(sqrt(degf))\n",
    "den_t = sqrt(1-r**2)\n",
    "t = nom_t/den_t\n",
    "t"
   ]
  },
  {
   "cell_type": "code",
   "execution_count": 129,
   "id": "023308d4",
   "metadata": {},
   "outputs": [
    {
     "data": {
      "text/plain": [
       "1.3674422214803312e-98"
      ]
     },
     "execution_count": 129,
     "metadata": {},
     "output_type": "execute_result"
    }
   ],
   "source": [
    "# get a p-value - since it is not equals we do a two tail test; multiply by 2\n",
    "p = stats.t.sf(t, df = degf) * 2\n",
    "p"
   ]
  },
  {
   "cell_type": "code",
   "execution_count": 130,
   "id": "3f7a8916",
   "metadata": {},
   "outputs": [
    {
     "data": {
      "text/plain": [
       "True"
      ]
     },
     "execution_count": 130,
     "metadata": {},
     "output_type": "execute_result"
    }
   ],
   "source": [
    "p < alpha"
   ]
  },
  {
   "cell_type": "markdown",
   "id": "1550ed16",
   "metadata": {},
   "source": [
    "It is likely that $H_0$ is false; thus there is a correllation between tenure and monthly charges.\n",
    "\n",
    "Do the same the easy way:"
   ]
  },
  {
   "cell_type": "code",
   "execution_count": 173,
   "id": "95357d23",
   "metadata": {},
   "outputs": [
    {
     "data": {
      "text/plain": [
       "(0.2471848922499011, 1.2811368994929208e-98)"
      ]
     },
     "execution_count": 173,
     "metadata": {},
     "output_type": "execute_result"
    }
   ],
   "source": [
    "r, p = stats.pearsonr(mnt, tnr)\n",
    "r, p # why are these numbers slightly different?"
   ]
  },
  {
   "cell_type": "code",
   "execution_count": 132,
   "id": "df7ad98e",
   "metadata": {},
   "outputs": [
    {
     "data": {
      "text/plain": [
       "True"
      ]
     },
     "execution_count": 132,
     "metadata": {},
     "output_type": "execute_result"
    }
   ],
   "source": [
    "p*2 < alpha"
   ]
  },
  {
   "cell_type": "code",
   "execution_count": 133,
   "id": "1aa04aa5",
   "metadata": {},
   "outputs": [
    {
     "data": {
      "text/plain": [
       "<matplotlib.collections.PathCollection at 0x7fb938a43430>"
      ]
     },
     "execution_count": 133,
     "metadata": {},
     "output_type": "execute_result"
    },
    {
     "data": {
      "image/png": "[encoded data removed]",
      "text/plain": [
       "<Figure size 432x288 with 1 Axes>"
      ]
     },
     "metadata": {
      "needs_background": "light"
     },
     "output_type": "display_data"
    }
   ],
   "source": [
    "plt.scatter(x= tnr, y=mnt)"
   ]
  },
  {
   "cell_type": "markdown",
   "id": "179f31dc",
   "metadata": {},
   "source": [
    "- Total charges? \n",
    "\n",
    "$H_0$ : tenure and total charges are not correlated; $r \\approx 0$\n",
    "\n",
    "$H_a$ : tenure and total charges are correlated"
   ]
  },
  {
   "cell_type": "code",
   "execution_count": 134,
   "id": "5c1ec1d5",
   "metadata": {},
   "outputs": [
    {
     "data": {
      "text/html": [
       "<div>\n",
       "<style scoped>\n",
       "    .dataframe tbody tr th:only-of-type {\n",
       "        vertical-align: middle;\n",
       "    }\n",
       "\n",
       "    .dataframe tbody tr th {\n",
       "        vertical-align: top;\n",
       "    }\n",
       "\n",
       "    .dataframe thead th {\n",
       "        text-align: right;\n",
       "    }\n",
       "</style>\n",
       "<table border=\"1\" class=\"dataframe\">\n",
       "  <thead>\n",
       "    <tr style=\"text-align: right;\">\n",
       "      <th></th>\n",
       "      <th>customer_id</th>\n",
       "      <th>monthly_charges</th>\n",
       "      <th>tenure</th>\n",
       "      <th>total_charges</th>\n",
       "      <th>phone_type</th>\n",
       "      <th>internet_type</th>\n",
       "      <th>service_type</th>\n",
       "    </tr>\n",
       "  </thead>\n",
       "  <tbody>\n",
       "    <tr>\n",
       "      <th>945</th>\n",
       "      <td>1371-DWPAZ</td>\n",
       "      <td>56.05</td>\n",
       "      <td>0.0</td>\n",
       "      <td>NaN</td>\n",
       "      <td>No Phone Service</td>\n",
       "      <td>No Internet Service</td>\n",
       "      <td>internet</td>\n",
       "    </tr>\n",
       "    <tr>\n",
       "      <th>1731</th>\n",
       "      <td>2520-SGTTA</td>\n",
       "      <td>20.00</td>\n",
       "      <td>0.0</td>\n",
       "      <td>NaN</td>\n",
       "      <td>One Line</td>\n",
       "      <td>DSL</td>\n",
       "      <td>phone</td>\n",
       "    </tr>\n",
       "    <tr>\n",
       "      <th>1906</th>\n",
       "      <td>2775-SEFEE</td>\n",
       "      <td>61.90</td>\n",
       "      <td>0.0</td>\n",
       "      <td>NaN</td>\n",
       "      <td>Two or More Lines</td>\n",
       "      <td>Fiber Optic</td>\n",
       "      <td>internet+phone</td>\n",
       "    </tr>\n",
       "    <tr>\n",
       "      <th>2025</th>\n",
       "      <td>2923-ARZLG</td>\n",
       "      <td>19.70</td>\n",
       "      <td>0.0</td>\n",
       "      <td>NaN</td>\n",
       "      <td>One Line</td>\n",
       "      <td>DSL</td>\n",
       "      <td>phone</td>\n",
       "    </tr>\n",
       "    <tr>\n",
       "      <th>2176</th>\n",
       "      <td>3115-CZMZD</td>\n",
       "      <td>20.25</td>\n",
       "      <td>0.0</td>\n",
       "      <td>NaN</td>\n",
       "      <td>One Line</td>\n",
       "      <td>DSL</td>\n",
       "      <td>phone</td>\n",
       "    </tr>\n",
       "    <tr>\n",
       "      <th>2250</th>\n",
       "      <td>3213-VVOLG</td>\n",
       "      <td>25.35</td>\n",
       "      <td>0.0</td>\n",
       "      <td>NaN</td>\n",
       "      <td>Two or More Lines</td>\n",
       "      <td>Fiber Optic</td>\n",
       "      <td>phone</td>\n",
       "    </tr>\n",
       "    <tr>\n",
       "      <th>2855</th>\n",
       "      <td>4075-WKNIU</td>\n",
       "      <td>73.35</td>\n",
       "      <td>0.0</td>\n",
       "      <td>NaN</td>\n",
       "      <td>Two or More Lines</td>\n",
       "      <td>Fiber Optic</td>\n",
       "      <td>internet+phone</td>\n",
       "    </tr>\n",
       "    <tr>\n",
       "      <th>3052</th>\n",
       "      <td>4367-NUYAO</td>\n",
       "      <td>25.75</td>\n",
       "      <td>0.0</td>\n",
       "      <td>NaN</td>\n",
       "      <td>Two or More Lines</td>\n",
       "      <td>Fiber Optic</td>\n",
       "      <td>phone</td>\n",
       "    </tr>\n",
       "    <tr>\n",
       "      <th>3118</th>\n",
       "      <td>4472-LVYGI</td>\n",
       "      <td>52.55</td>\n",
       "      <td>0.0</td>\n",
       "      <td>NaN</td>\n",
       "      <td>No Phone Service</td>\n",
       "      <td>No Internet Service</td>\n",
       "      <td>internet</td>\n",
       "    </tr>\n",
       "    <tr>\n",
       "      <th>4054</th>\n",
       "      <td>5709-LVOEQ</td>\n",
       "      <td>80.85</td>\n",
       "      <td>0.0</td>\n",
       "      <td>NaN</td>\n",
       "      <td>One Line</td>\n",
       "      <td>DSL</td>\n",
       "      <td>internet+phone</td>\n",
       "    </tr>\n",
       "    <tr>\n",
       "      <th>5433</th>\n",
       "      <td>7644-OMVMY</td>\n",
       "      <td>19.85</td>\n",
       "      <td>0.0</td>\n",
       "      <td>NaN</td>\n",
       "      <td>One Line</td>\n",
       "      <td>DSL</td>\n",
       "      <td>phone</td>\n",
       "    </tr>\n",
       "  </tbody>\n",
       "</table>\n",
       "</div>"
      ],
      "text/plain": [
       "     customer_id  monthly_charges  tenure  total_charges         phone_type  \\\n",
       "945   1371-DWPAZ            56.05     0.0            NaN   No Phone Service   \n",
       "1731  2520-SGTTA            20.00     0.0            NaN           One Line   \n",
       "1906  2775-SEFEE            61.90     0.0            NaN  Two or More Lines   \n",
       "2025  2923-ARZLG            19.70     0.0            NaN           One Line   \n",
       "2176  3115-CZMZD            20.25     0.0            NaN           One Line   \n",
       "2250  3213-VVOLG            25.35     0.0            NaN  Two or More Lines   \n",
       "2855  4075-WKNIU            73.35     0.0            NaN  Two or More Lines   \n",
       "3052  4367-NUYAO            25.75     0.0            NaN  Two or More Lines   \n",
       "3118  4472-LVYGI            52.55     0.0            NaN   No Phone Service   \n",
       "4054  5709-LVOEQ            80.85     0.0            NaN           One Line   \n",
       "5433  7644-OMVMY            19.85     0.0            NaN           One Line   \n",
       "\n",
       "            internet_type    service_type  \n",
       "945   No Internet Service        internet  \n",
       "1731                  DSL           phone  \n",
       "1906          Fiber Optic  internet+phone  \n",
       "2025                  DSL           phone  \n",
       "2176                  DSL           phone  \n",
       "2250          Fiber Optic           phone  \n",
       "2855          Fiber Optic  internet+phone  \n",
       "3052          Fiber Optic           phone  \n",
       "3118  No Internet Service        internet  \n",
       "4054                  DSL  internet+phone  \n",
       "5433                  DSL           phone  "
      ]
     },
     "execution_count": 134,
     "metadata": {},
     "output_type": "execute_result"
    }
   ],
   "source": [
    "# get the total charges series\n",
    "tl[tl.total_charges.isna()]\n",
    "#there are a few rows with NaN. these are where the tenure was less than a month.\n",
    "#set these to 0"
   ]
  },
  {
   "cell_type": "code",
   "execution_count": 135,
   "id": "e98b510e",
   "metadata": {},
   "outputs": [
    {
     "data": {
      "text/html": [
       "<div>\n",
       "<style scoped>\n",
       "    .dataframe tbody tr th:only-of-type {\n",
       "        vertical-align: middle;\n",
       "    }\n",
       "\n",
       "    .dataframe tbody tr th {\n",
       "        vertical-align: top;\n",
       "    }\n",
       "\n",
       "    .dataframe thead th {\n",
       "        text-align: right;\n",
       "    }\n",
       "</style>\n",
       "<table border=\"1\" class=\"dataframe\">\n",
       "  <thead>\n",
       "    <tr style=\"text-align: right;\">\n",
       "      <th></th>\n",
       "      <th>customer_id</th>\n",
       "      <th>monthly_charges</th>\n",
       "      <th>tenure</th>\n",
       "      <th>total_charges</th>\n",
       "      <th>phone_type</th>\n",
       "      <th>internet_type</th>\n",
       "      <th>service_type</th>\n",
       "    </tr>\n",
       "  </thead>\n",
       "  <tbody>\n",
       "  </tbody>\n",
       "</table>\n",
       "</div>"
      ],
      "text/plain": [
       "Empty DataFrame\n",
       "Columns: [customer_id, monthly_charges, tenure, total_charges, phone_type, internet_type, service_type]\n",
       "Index: []"
      ]
     },
     "execution_count": 135,
     "metadata": {},
     "output_type": "execute_result"
    }
   ],
   "source": [
    "tl.total_charges.replace(np.NaN, 0, inplace = True)\n",
    "tl[tl.total_charges.isna()]"
   ]
  },
  {
   "cell_type": "code",
   "execution_count": 136,
   "id": "600b641d",
   "metadata": {},
   "outputs": [
    {
     "data": {
      "text/plain": [
       "0        593.30\n",
       "1        542.40\n",
       "2        280.85\n",
       "3       1237.85\n",
       "4        267.40\n",
       "         ...   \n",
       "7044     742.90\n",
       "7045    1873.70\n",
       "7046      92.75\n",
       "7047    4627.65\n",
       "7048    3707.60\n",
       "Name: total_charges, Length: 7049, dtype: float64"
      ]
     },
     "execution_count": 136,
     "metadata": {},
     "output_type": "execute_result"
    }
   ],
   "source": [
    "#Get total charges column\n",
    "tch = tl.total_charges\n",
    "tch"
   ]
  },
  {
   "cell_type": "code",
   "execution_count": 137,
   "id": "9a9908f1",
   "metadata": {},
   "outputs": [
    {
     "data": {
      "text/plain": [
       "(0.826117195298786, 0.0)"
      ]
     },
     "execution_count": 137,
     "metadata": {},
     "output_type": "execute_result"
    }
   ],
   "source": [
    "# get r and p\n",
    "r, p = stats.pearsonr(tch, tnr)\n",
    "r, p"
   ]
  },
  {
   "cell_type": "code",
   "execution_count": 138,
   "id": "a92ea8b9",
   "metadata": {},
   "outputs": [
    {
     "data": {
      "text/plain": [
       "True"
      ]
     },
     "execution_count": 138,
     "metadata": {},
     "output_type": "execute_result"
    }
   ],
   "source": [
    "p < alpha"
   ]
  },
  {
   "cell_type": "code",
   "execution_count": 139,
   "id": "e9ec7d58",
   "metadata": {},
   "outputs": [
    {
     "data": {
      "text/plain": [
       "<matplotlib.collections.PathCollection at 0x7fb96cb418e0>"
      ]
     },
     "execution_count": 139,
     "metadata": {},
     "output_type": "execute_result"
    },
    {
     "data": {
      "image/png": "[encoded data removed]",
      "text/plain": [
       "<Figure size 432x288 with 1 Axes>"
      ]
     },
     "metadata": {
      "needs_background": "light"
     },
     "output_type": "display_data"
    }
   ],
   "source": [
    "#correlation is clear from the scatter plot\n",
    "plt.scatter(x=tnr, y=tch)"
   ]
  },
  {
   "cell_type": "markdown",
   "id": "2dce81d8",
   "metadata": {},
   "source": [
    "There is a good probabilty that $H_0$ is false."
   ]
  },
  {
   "cell_type": "markdown",
   "id": "d4f8a28e",
   "metadata": {},
   "source": [
    "- What happens if you control for phone and internet service?"
   ]
  },
  {
   "cell_type": "code",
   "execution_count": 140,
   "id": "70fb37ab",
   "metadata": {},
   "outputs": [
    {
     "data": {
      "text/plain": [
       "<matplotlib.legend.Legend at 0x7fb938a51340>"
      ]
     },
     "execution_count": 140,
     "metadata": {},
     "output_type": "execute_result"
    },
    {
     "data": {
      "image/png": "[encoded data removed]",
      "text/plain": [
       "<Figure size 432x288 with 1 Axes>"
      ]
     },
     "metadata": {
      "needs_background": "light"
     },
     "output_type": "display_data"
    }
   ],
   "source": [
    "# control for phone service\n",
    "# plot the three type of phone service against monthly charges\n",
    "plt.scatter(data = tl[(tl.phone_type=='One Line') | (tl.phone_type=='Two or More Lines')], y = 'monthly_charges', x = 'tenure', label='phone service')\n",
    "\n",
    "plt.legend()"
   ]
  },
  {
   "cell_type": "code",
   "execution_count": 141,
   "id": "c6384678",
   "metadata": {},
   "outputs": [
    {
     "data": {
      "text/plain": [
       "<matplotlib.legend.Legend at 0x7fb929277880>"
      ]
     },
     "execution_count": 141,
     "metadata": {},
     "output_type": "execute_result"
    },
    {
     "data": {
      "image/png": "[encoded data removed]",
      "text/plain": [
       "<Figure size 432x288 with 1 Axes>"
      ]
     },
     "metadata": {
      "needs_background": "light"
     },
     "output_type": "display_data"
    }
   ],
   "source": [
    "plt.scatter(data = tl[tl.phone_type=='No Phone Service'], y = 'monthly_charges', x = 'tenure', label = 'no phone')\n",
    "plt.legend()\n",
    "# looks like there might be a difference"
   ]
  },
  {
   "cell_type": "code",
   "execution_count": 142,
   "id": "8122ed2a",
   "metadata": {},
   "outputs": [
    {
     "data": {
      "text/plain": [
       "(0.586289220343008, 2.6999797925087894e-64)"
      ]
     },
     "execution_count": 142,
     "metadata": {},
     "output_type": "execute_result"
    }
   ],
   "source": [
    "# correlation for no phone service\n",
    "r_nophone, p_nophone = stats.pearsonr(tl[tl.phone_type == 'No Phone Service'].tenure, tl[tl.phone_type == 'No Phone Service'].monthly_charges)\n",
    "r_nophone, p_nophone"
   ]
  },
  {
   "cell_type": "code",
   "execution_count": 143,
   "id": "b7352ea5",
   "metadata": {},
   "outputs": [
    {
     "data": {
      "text/plain": [
       "(0.244389315983649, 3.2084381976268973e-87)"
      ]
     },
     "execution_count": 143,
     "metadata": {},
     "output_type": "execute_result"
    }
   ],
   "source": [
    "# correlation for one phone line\n",
    "r_phone, p_phone = stats.pearsonr(tl[(tl.phone_type=='One Line') | (tl.phone_type=='Two or More Lines')].tenure, tl[(tl.phone_type=='One Line') | (tl.phone_type=='Two or More Lines')].monthly_charges)\n",
    "r_phone, p_phone"
   ]
  },
  {
   "cell_type": "markdown",
   "id": "f2c5ea70",
   "metadata": {},
   "source": [
    "There appears to be a stronger correlation between tenure and monthly charges for customers without phone service.\n",
    "\n",
    "Now do internet service:"
   ]
  },
  {
   "cell_type": "code",
   "execution_count": 144,
   "id": "2acccf15",
   "metadata": {},
   "outputs": [
    {
     "data": {
      "text/plain": [
       "<matplotlib.collections.PathCollection at 0x7fb96b17c520>"
      ]
     },
     "execution_count": 144,
     "metadata": {},
     "output_type": "execute_result"
    },
    {
     "data": {
      "image/png": "[encoded data removed]",
      "text/plain": [
       "<Figure size 432x288 with 1 Axes>"
      ]
     },
     "metadata": {
      "needs_background": "light"
     },
     "output_type": "display_data"
    }
   ],
   "source": [
    "#customers without internet\n",
    "plt.scatter(data = tl[tl.internet_type == 'No Internet Service'], x = 'tenure', y = 'monthly_charges')"
   ]
  },
  {
   "cell_type": "code",
   "execution_count": 145,
   "id": "4a81d2f7",
   "metadata": {},
   "outputs": [
    {
     "data": {
      "text/plain": [
       "<matplotlib.collections.PathCollection at 0x7fb929535820>"
      ]
     },
     "execution_count": 145,
     "metadata": {},
     "output_type": "execute_result"
    },
    {
     "data": {
      "image/png": "[encoded data removed]",
      "text/plain": [
       "<Figure size 432x288 with 1 Axes>"
      ]
     },
     "metadata": {
      "needs_background": "light"
     },
     "output_type": "display_data"
    }
   ],
   "source": [
    "#customers with internet service\n",
    "plt.scatter(data = tl[tl.internet_type != 'No Internet Service'], x = 'tenure', y = 'monthly_charges')"
   ]
  },
  {
   "cell_type": "code",
   "execution_count": 146,
   "id": "f1d6729c",
   "metadata": {},
   "outputs": [
    {
     "data": {
      "text/plain": [
       "(0.586289220343008, 2.6999797925087894e-64)"
      ]
     },
     "execution_count": 146,
     "metadata": {},
     "output_type": "execute_result"
    }
   ],
   "source": [
    "#customers without internet\n",
    "r_noint, p_noint = stats.pearsonr(tl[tl.internet_type == 'No Internet Service'].tenure, tl[tl.internet_type == 'No Internet Service'].monthly_charges)\n",
    "r_noint, p_noint"
   ]
  },
  {
   "cell_type": "code",
   "execution_count": 147,
   "id": "0d087da6",
   "metadata": {},
   "outputs": [
    {
     "data": {
      "text/plain": [
       "(0.244389315983649, 3.2084381976268973e-87)"
      ]
     },
     "execution_count": 147,
     "metadata": {},
     "output_type": "execute_result"
    }
   ],
   "source": [
    "#customers with internet\n",
    "r_int, p_int = stats.pearsonr(tl[tl.internet_type != 'No Internet Service'].tenure, tl[tl.internet_type != 'No Internet Service'].monthly_charges)\n",
    "r_int, p_int"
   ]
  },
  {
   "cell_type": "markdown",
   "id": "c70ccacb",
   "metadata": {},
   "source": [
    "There may be a stronger correlation between tenure and monthly charges among customers without internet services."
   ]
  },
  {
   "cell_type": "code",
   "execution_count": 157,
   "id": "57a80ec8",
   "metadata": {},
   "outputs": [
    {
     "data": {
      "text/plain": [
       "internet+phone    4837\n",
       "phone             1529\n",
       "internet           683\n",
       "Name: service_type, dtype: int64"
      ]
     },
     "execution_count": 157,
     "metadata": {},
     "output_type": "execute_result"
    },
    {
     "data": {
      "image/png": "[encoded data removed]",
      "text/plain": [
       "<Figure size 432x288 with 1 Axes>"
      ]
     },
     "metadata": {
      "needs_background": "light"
     },
     "output_type": "display_data"
    }
   ],
   "source": [
    "#only use the phone only (no internet)\n",
    "plt.scatter(data=tl[tl.service_type=='phone'], x = 'tenure', y= 'monthly_charges')\n",
    "tl.service_type.value_counts()"
   ]
  },
  {
   "cell_type": "code",
   "execution_count": 154,
   "id": "98ce6524",
   "metadata": {},
   "outputs": [
    {
     "data": {
      "text/plain": [
       "(0.3424305495562668, 2.6128072466405888e-43)"
      ]
     },
     "execution_count": 154,
     "metadata": {},
     "output_type": "execute_result"
    }
   ],
   "source": [
    "r_phoneonly, p_phoneonly = stats.pearsonr(tl[tl.service_type=='phone'].monthly_charges, tl[tl.service_type=='phone'].tenure)\n",
    "r_phoneonly, p_phoneonly"
   ]
  },
  {
   "cell_type": "code",
   "execution_count": 158,
   "id": "d4a7f703",
   "metadata": {},
   "outputs": [
    {
     "data": {
      "text/plain": [
       "(0.586289220343008, 2.6999797925087894e-64)"
      ]
     },
     "execution_count": 158,
     "metadata": {},
     "output_type": "execute_result"
    }
   ],
   "source": [
    "r_intonly, p_intonly = stats.pearsonr(tl[tl.service_type=='internet'].monthly_charges, tl[tl.service_type=='internet'].tenure)\n",
    "r_intonly, p_intonly"
   ]
  },
  {
   "cell_type": "markdown",
   "id": "f602f4bf",
   "metadata": {},
   "source": [
    "2.\n",
    "\n",
    "\n",
    "Use the employees database.\n",
    "\n",
    "- Is there a relationship between how long an employee has been with the company and their salary?\n",
    "- Is there a relationship between how long an employee has been with the company and the number of titles they have had?"
   ]
  },
  {
   "cell_type": "code",
   "execution_count": 90,
   "id": "df4ac799",
   "metadata": {},
   "outputs": [],
   "source": [
    "# note on the query. Checking the employees with multiple rows shows that tenure and salary were \n",
    "# the same.  Use max() to aggregate these rows for the GROUP BY emp_no so that COUNT can be used\n",
    "# on t.titles\n",
    "query = '''\n",
    "SELECT e.emp_no, MAX(DATEDIFF(IF(de.to_date <= NOW(), de.to_date, NOW()), hire_date)) AS tenure, MAX(s.salary) AS salary, COUNT(t.title) AS title_count\n",
    "\tFROM employees AS e\n",
    "\t\tJOIN dept_emp AS de USING (emp_no)\n",
    "        JOIN salaries AS s USING (emp_no)\n",
    "        JOIN titles AS t USING (emp_no)\n",
    "\tWHERE s.to_date > NOW() AND de.to_date > NOW()\n",
    "    GROUP BY e.emp_no;\n",
    "'''\n",
    "\n",
    "df_emp = pd.read_sql_query(query, env.get_db_url('employees'))"
   ]
  },
  {
   "cell_type": "code",
   "execution_count": 91,
   "id": "59708795",
   "metadata": {},
   "outputs": [
    {
     "data": {
      "text/html": [
       "<div>\n",
       "<style scoped>\n",
       "    .dataframe tbody tr th:only-of-type {\n",
       "        vertical-align: middle;\n",
       "    }\n",
       "\n",
       "    .dataframe tbody tr th {\n",
       "        vertical-align: top;\n",
       "    }\n",
       "\n",
       "    .dataframe thead th {\n",
       "        text-align: right;\n",
       "    }\n",
       "</style>\n",
       "<table border=\"1\" class=\"dataframe\">\n",
       "  <thead>\n",
       "    <tr style=\"text-align: right;\">\n",
       "      <th></th>\n",
       "      <th>emp_no</th>\n",
       "      <th>tenure</th>\n",
       "      <th>salary</th>\n",
       "      <th>title_count</th>\n",
       "    </tr>\n",
       "  </thead>\n",
       "  <tbody>\n",
       "    <tr>\n",
       "      <th>0</th>\n",
       "      <td>10001</td>\n",
       "      <td>13101</td>\n",
       "      <td>88958</td>\n",
       "      <td>1</td>\n",
       "    </tr>\n",
       "    <tr>\n",
       "      <th>1</th>\n",
       "      <td>10002</td>\n",
       "      <td>13318</td>\n",
       "      <td>72527</td>\n",
       "      <td>1</td>\n",
       "    </tr>\n",
       "    <tr>\n",
       "      <th>2</th>\n",
       "      <td>10003</td>\n",
       "      <td>13038</td>\n",
       "      <td>43311</td>\n",
       "      <td>1</td>\n",
       "    </tr>\n",
       "    <tr>\n",
       "      <th>3</th>\n",
       "      <td>10004</td>\n",
       "      <td>12943</td>\n",
       "      <td>74057</td>\n",
       "      <td>2</td>\n",
       "    </tr>\n",
       "    <tr>\n",
       "      <th>4</th>\n",
       "      <td>10005</td>\n",
       "      <td>11927</td>\n",
       "      <td>94692</td>\n",
       "      <td>2</td>\n",
       "    </tr>\n",
       "    <tr>\n",
       "      <th>...</th>\n",
       "      <td>...</td>\n",
       "      <td>...</td>\n",
       "      <td>...</td>\n",
       "      <td>...</td>\n",
       "    </tr>\n",
       "    <tr>\n",
       "      <th>240119</th>\n",
       "      <td>499995</td>\n",
       "      <td>10709</td>\n",
       "      <td>52868</td>\n",
       "      <td>1</td>\n",
       "    </tr>\n",
       "    <tr>\n",
       "      <th>240120</th>\n",
       "      <td>499996</td>\n",
       "      <td>11547</td>\n",
       "      <td>69501</td>\n",
       "      <td>2</td>\n",
       "    </tr>\n",
       "    <tr>\n",
       "      <th>240121</th>\n",
       "      <td>499997</td>\n",
       "      <td>13167</td>\n",
       "      <td>83441</td>\n",
       "      <td>2</td>\n",
       "    </tr>\n",
       "    <tr>\n",
       "      <th>240122</th>\n",
       "      <td>499998</td>\n",
       "      <td>10435</td>\n",
       "      <td>55003</td>\n",
       "      <td>2</td>\n",
       "    </tr>\n",
       "    <tr>\n",
       "      <th>240123</th>\n",
       "      <td>499999</td>\n",
       "      <td>8926</td>\n",
       "      <td>77303</td>\n",
       "      <td>1</td>\n",
       "    </tr>\n",
       "  </tbody>\n",
       "</table>\n",
       "<p>240124 rows × 4 columns</p>\n",
       "</div>"
      ],
      "text/plain": [
       "        emp_no  tenure  salary  title_count\n",
       "0        10001   13101   88958            1\n",
       "1        10002   13318   72527            1\n",
       "2        10003   13038   43311            1\n",
       "3        10004   12943   74057            2\n",
       "4        10005   11927   94692            2\n",
       "...        ...     ...     ...          ...\n",
       "240119  499995   10709   52868            1\n",
       "240120  499996   11547   69501            2\n",
       "240121  499997   13167   83441            2\n",
       "240122  499998   10435   55003            2\n",
       "240123  499999    8926   77303            1\n",
       "\n",
       "[240124 rows x 4 columns]"
      ]
     },
     "execution_count": 91,
     "metadata": {},
     "output_type": "execute_result"
    }
   ],
   "source": [
    "#some employees are repeating\n",
    "df_emp"
   ]
  },
  {
   "cell_type": "markdown",
   "id": "4c56bfa6",
   "metadata": {},
   "source": [
    "- Is there a relationship between how long an employee has been with the company and their salary?"
   ]
  },
  {
   "cell_type": "code",
   "execution_count": 172,
   "id": "d7b6e903",
   "metadata": {},
   "outputs": [
    {
     "data": {
      "text/plain": [
       "<matplotlib.collections.PathCollection at 0x7fb96b9709a0>"
      ]
     },
     "execution_count": 172,
     "metadata": {},
     "output_type": "execute_result"
    },
    {
     "data": {
      "image/png": "[encoded data removed]",
      "text/plain": [
       "<Figure size 432x288 with 1 Axes>"
      ]
     },
     "metadata": {
      "needs_background": "light"
     },
     "output_type": "display_data"
    }
   ],
   "source": [
    "#chart the date. use a subset so that the graph is easier to read\n",
    "plt.scatter(data = df_emp.sample(500), x='tenure', y='salary')\n",
    "#vaguely maybe looks like there is a relationship"
   ]
  },
  {
   "cell_type": "markdown",
   "id": "2b7d61ad",
   "metadata": {},
   "source": [
    "$H_0$ : $r \\approx 0$, there is no correlation between tenure and salary\n",
    "\n",
    "$H_a$ : $r \\neq 0$, there is a correlation"
   ]
  },
  {
   "cell_type": "code",
   "execution_count": 93,
   "id": "72fd2aba",
   "metadata": {},
   "outputs": [
    {
     "data": {
      "text/plain": [
       "(0.30646256131860894, 0.0)"
      ]
     },
     "execution_count": 93,
     "metadata": {},
     "output_type": "execute_result"
    }
   ],
   "source": [
    "r, p = stats.pearsonr(df_emp.tenure, df_emp.salary)\n",
    "r, p"
   ]
  },
  {
   "cell_type": "markdown",
   "id": "99e9d747",
   "metadata": {},
   "source": [
    "The p value is not actually 0, but it is very small because the n > 200,000.\n",
    "\n",
    "There are grounds to reject $H_0$, but it is not a strong correlation"
   ]
  },
  {
   "cell_type": "markdown",
   "id": "837221e4",
   "metadata": {},
   "source": [
    "- Is there a relationship between how long an employee has been with the company and the number of titles they have had?"
   ]
  },
  {
   "cell_type": "code",
   "execution_count": 98,
   "id": "2475e3b1",
   "metadata": {},
   "outputs": [
    {
     "data": {
      "text/plain": [
       "<matplotlib.collections.PathCollection at 0x7fb928c46340>"
      ]
     },
     "execution_count": 98,
     "metadata": {},
     "output_type": "execute_result"
    },
    {
     "data": {
      "image/png": "[encoded data removed]",
      "text/plain": [
       "<Figure size 432x288 with 1 Axes>"
      ]
     },
     "metadata": {
      "needs_background": "light"
     },
     "output_type": "display_data"
    }
   ],
   "source": [
    "plt.scatter(data = df_emp, x='tenure', y='title_count')"
   ]
  },
  {
   "cell_type": "markdown",
   "id": "0efc9aff",
   "metadata": {},
   "source": [
    "$H_0$ : There is no correlation between tenure and number of titles\n",
    "\n",
    "$H_a$ : There is a correlation between tenure and number of titles"
   ]
  },
  {
   "cell_type": "code",
   "execution_count": 99,
   "id": "3444f41b",
   "metadata": {},
   "outputs": [
    {
     "data": {
      "text/plain": [
       "(0.2871267889699541, 0.0)"
      ]
     },
     "execution_count": 99,
     "metadata": {},
     "output_type": "execute_result"
    }
   ],
   "source": [
    "r, p = stats.pearsonr(df_emp.tenure, df_emp.title_count)\n",
    "r, p"
   ]
  },
  {
   "cell_type": "markdown",
   "id": "f98e3c7a",
   "metadata": {},
   "source": [
    "p here is so low that it isn't displayable\n",
    "There is a high probability that $H_0$ is false."
   ]
  },
  {
   "cell_type": "markdown",
   "id": "8529e78f",
   "metadata": {},
   "source": [
    "3.\n",
    "\n",
    "\n",
    "Use the sleepstudy data. Is there a relationship between days and reaction time?"
   ]
  },
  {
   "cell_type": "code",
   "execution_count": 108,
   "id": "53a10dc9",
   "metadata": {},
   "outputs": [
    {
     "data": {
      "text/html": [
       "<div>\n",
       "<style scoped>\n",
       "    .dataframe tbody tr th:only-of-type {\n",
       "        vertical-align: middle;\n",
       "    }\n",
       "\n",
       "    .dataframe tbody tr th {\n",
       "        vertical-align: top;\n",
       "    }\n",
       "\n",
       "    .dataframe thead th {\n",
       "        text-align: right;\n",
       "    }\n",
       "</style>\n",
       "<table border=\"1\" class=\"dataframe\">\n",
       "  <thead>\n",
       "    <tr style=\"text-align: right;\">\n",
       "      <th></th>\n",
       "      <th>Reaction</th>\n",
       "      <th>Days</th>\n",
       "      <th>Subject</th>\n",
       "    </tr>\n",
       "  </thead>\n",
       "  <tbody>\n",
       "    <tr>\n",
       "      <th>1</th>\n",
       "      <td>249.5600</td>\n",
       "      <td>0</td>\n",
       "      <td>308</td>\n",
       "    </tr>\n",
       "    <tr>\n",
       "      <th>2</th>\n",
       "      <td>258.7047</td>\n",
       "      <td>1</td>\n",
       "      <td>308</td>\n",
       "    </tr>\n",
       "    <tr>\n",
       "      <th>3</th>\n",
       "      <td>250.8006</td>\n",
       "      <td>2</td>\n",
       "      <td>308</td>\n",
       "    </tr>\n",
       "    <tr>\n",
       "      <th>4</th>\n",
       "      <td>321.4398</td>\n",
       "      <td>3</td>\n",
       "      <td>308</td>\n",
       "    </tr>\n",
       "    <tr>\n",
       "      <th>5</th>\n",
       "      <td>356.8519</td>\n",
       "      <td>4</td>\n",
       "      <td>308</td>\n",
       "    </tr>\n",
       "    <tr>\n",
       "      <th>...</th>\n",
       "      <td>...</td>\n",
       "      <td>...</td>\n",
       "      <td>...</td>\n",
       "    </tr>\n",
       "    <tr>\n",
       "      <th>176</th>\n",
       "      <td>329.6076</td>\n",
       "      <td>5</td>\n",
       "      <td>372</td>\n",
       "    </tr>\n",
       "    <tr>\n",
       "      <th>177</th>\n",
       "      <td>334.4818</td>\n",
       "      <td>6</td>\n",
       "      <td>372</td>\n",
       "    </tr>\n",
       "    <tr>\n",
       "      <th>178</th>\n",
       "      <td>343.2199</td>\n",
       "      <td>7</td>\n",
       "      <td>372</td>\n",
       "    </tr>\n",
       "    <tr>\n",
       "      <th>179</th>\n",
       "      <td>369.1417</td>\n",
       "      <td>8</td>\n",
       "      <td>372</td>\n",
       "    </tr>\n",
       "    <tr>\n",
       "      <th>180</th>\n",
       "      <td>364.1236</td>\n",
       "      <td>9</td>\n",
       "      <td>372</td>\n",
       "    </tr>\n",
       "  </tbody>\n",
       "</table>\n",
       "<p>180 rows × 3 columns</p>\n",
       "</div>"
      ],
      "text/plain": [
       "     Reaction  Days  Subject\n",
       "1    249.5600     0      308\n",
       "2    258.7047     1      308\n",
       "3    250.8006     2      308\n",
       "4    321.4398     3      308\n",
       "5    356.8519     4      308\n",
       "..        ...   ...      ...\n",
       "176  329.6076     5      372\n",
       "177  334.4818     6      372\n",
       "178  343.2199     7      372\n",
       "179  369.1417     8      372\n",
       "180  364.1236     9      372\n",
       "\n",
       "[180 rows x 3 columns]"
      ]
     },
     "execution_count": 108,
     "metadata": {},
     "output_type": "execute_result"
    }
   ],
   "source": [
    "df_sleep = pdat.data('sleepstudy')\n",
    "df_sleep"
   ]
  },
  {
   "cell_type": "code",
   "execution_count": 109,
   "id": "2a3053c8",
   "metadata": {},
   "outputs": [
    {
     "data": {
      "text/plain": [
       "<matplotlib.collections.PathCollection at 0x7fb928e8af40>"
      ]
     },
     "execution_count": 109,
     "metadata": {},
     "output_type": "execute_result"
    },
    {
     "data": {
      "image/png": "[encoded data removed]",
      "text/plain": [
       "<Figure size 432x288 with 1 Axes>"
      ]
     },
     "metadata": {
      "needs_background": "light"
     },
     "output_type": "display_data"
    }
   ],
   "source": [
    "plt.scatter(data = df_sleep, x = 'Days', y = 'Reaction')"
   ]
  },
  {
   "cell_type": "markdown",
   "id": "3871ea03",
   "metadata": {},
   "source": [
    "$H_0$ : There is no correlation between days and reaction time\n",
    "\n",
    "$H_a$ :  There is a correlation between days and reaction time"
   ]
  },
  {
   "cell_type": "code",
   "execution_count": 112,
   "id": "b67acbcf",
   "metadata": {},
   "outputs": [
    {
     "data": {
      "text/plain": [
       "(0.5352302262650253, 9.894096322214812e-15)"
      ]
     },
     "execution_count": 112,
     "metadata": {},
     "output_type": "execute_result"
    }
   ],
   "source": [
    "r, p = stats.pearsonr(df_sleep['Days'], df_sleep['Reaction'])\n",
    "r, p"
   ]
  },
  {
   "cell_type": "code",
   "execution_count": 113,
   "id": "f7a6a4a1",
   "metadata": {},
   "outputs": [
    {
     "data": {
      "text/plain": [
       "True"
      ]
     },
     "execution_count": 113,
     "metadata": {},
     "output_type": "execute_result"
    }
   ],
   "source": [
    "p < alpha"
   ]
  },
  {
   "cell_type": "markdown",
   "id": "98b00954",
   "metadata": {},
   "source": [
    "$H_0$ is likely not true.  The correlation is fairly strong."
   ]
  },
  {
   "cell_type": "markdown",
   "id": "67678fc7",
   "metadata": {},
   "source": [
    "## $χ^2$ tests"
   ]
  },
  {
   "cell_type": "markdown",
   "id": "0e6c86ab",
   "metadata": {},
   "source": [
    "- Use the following contingency table to help answer the question of whether using a macbook and being a codeup student are independent of each other."
   ]
  },
  {
   "cell_type": "markdown",
   "id": "ea86ac1d",
   "metadata": {},
   "source": [
    "$H_0$ : Being a codeup student and using a macbook are independent of each other"
   ]
  },
  {
   "cell_type": "code",
   "execution_count": 15,
   "id": "6b3a4ff0",
   "metadata": {},
   "outputs": [
    {
     "data": {
      "text/html": [
       "<div>\n",
       "<style scoped>\n",
       "    .dataframe tbody tr th:only-of-type {\n",
       "        vertical-align: middle;\n",
       "    }\n",
       "\n",
       "    .dataframe tbody tr th {\n",
       "        vertical-align: top;\n",
       "    }\n",
       "\n",
       "    .dataframe thead th {\n",
       "        text-align: right;\n",
       "    }\n",
       "</style>\n",
       "<table border=\"1\" class=\"dataframe\">\n",
       "  <thead>\n",
       "    <tr style=\"text-align: right;\">\n",
       "      <th></th>\n",
       "      <th>codeup student</th>\n",
       "      <th>not codeup student</th>\n",
       "    </tr>\n",
       "  </thead>\n",
       "  <tbody>\n",
       "    <tr>\n",
       "      <th>uses a macbook</th>\n",
       "      <td>49</td>\n",
       "      <td>20</td>\n",
       "    </tr>\n",
       "    <tr>\n",
       "      <th>doesn't use a macbook</th>\n",
       "      <td>1</td>\n",
       "      <td>30</td>\n",
       "    </tr>\n",
       "  </tbody>\n",
       "</table>\n",
       "</div>"
      ],
      "text/plain": [
       "                       codeup student  not codeup student\n",
       "uses a macbook                     49                  20\n",
       "doesn't use a macbook               1                  30"
      ]
     },
     "execution_count": 15,
     "metadata": {},
     "output_type": "execute_result"
    }
   ],
   "source": [
    "crosstab = pd.DataFrame(index = ['uses a macbook', 'doesn\\'t use a macbook'], columns = ['codeup student', 'not codeup student'])\n",
    "crosstab['codeup student'] = [49, 1]\n",
    "crosstab['not codeup student'] = [20, 30]\n",
    "crosstab"
   ]
  },
  {
   "cell_type": "code",
   "execution_count": 16,
   "id": "ad8ab227",
   "metadata": {},
   "outputs": [
    {
     "data": {
      "text/plain": [
       "1.4116760526193828e-09"
      ]
     },
     "execution_count": 16,
     "metadata": {},
     "output_type": "execute_result"
    }
   ],
   "source": [
    "chi2, p, degf, expected = stats.chi2_contingency(crosstab)\n",
    "p"
   ]
  },
  {
   "cell_type": "markdown",
   "id": "d00235f6",
   "metadata": {},
   "source": [
    "$H_0$ is likely false"
   ]
  },
  {
   "cell_type": "markdown",
   "id": "d881e3eb",
   "metadata": {},
   "source": [
    "- Choose another 2 categorical variables from the mpg dataset and perform a chi2 contingency table test with them. Be sure to state your null and alternative hypotheses."
   ]
  },
  {
   "cell_type": "code",
   "execution_count": 20,
   "id": "99559446",
   "metadata": {},
   "outputs": [
    {
     "data": {
      "text/html": [
       "<div>\n",
       "<style scoped>\n",
       "    .dataframe tbody tr th:only-of-type {\n",
       "        vertical-align: middle;\n",
       "    }\n",
       "\n",
       "    .dataframe tbody tr th {\n",
       "        vertical-align: top;\n",
       "    }\n",
       "\n",
       "    .dataframe thead th {\n",
       "        text-align: right;\n",
       "    }\n",
       "</style>\n",
       "<table border=\"1\" class=\"dataframe\">\n",
       "  <thead>\n",
       "    <tr style=\"text-align: right;\">\n",
       "      <th></th>\n",
       "      <th>manufacturer</th>\n",
       "      <th>model</th>\n",
       "      <th>displ</th>\n",
       "      <th>year</th>\n",
       "      <th>cyl</th>\n",
       "      <th>trans</th>\n",
       "      <th>drv</th>\n",
       "      <th>cty</th>\n",
       "      <th>hwy</th>\n",
       "      <th>fl</th>\n",
       "      <th>class</th>\n",
       "    </tr>\n",
       "  </thead>\n",
       "  <tbody>\n",
       "    <tr>\n",
       "      <th>94</th>\n",
       "      <td>ford</td>\n",
       "      <td>mustang</td>\n",
       "      <td>4.0</td>\n",
       "      <td>2008</td>\n",
       "      <td>6</td>\n",
       "      <td>auto(l5)</td>\n",
       "      <td>r</td>\n",
       "      <td>16</td>\n",
       "      <td>24</td>\n",
       "      <td>r</td>\n",
       "      <td>subcompact</td>\n",
       "    </tr>\n",
       "    <tr>\n",
       "      <th>78</th>\n",
       "      <td>ford</td>\n",
       "      <td>explorer 4wd</td>\n",
       "      <td>4.0</td>\n",
       "      <td>1999</td>\n",
       "      <td>6</td>\n",
       "      <td>auto(l5)</td>\n",
       "      <td>4</td>\n",
       "      <td>14</td>\n",
       "      <td>17</td>\n",
       "      <td>r</td>\n",
       "      <td>suv</td>\n",
       "    </tr>\n",
       "    <tr>\n",
       "      <th>56</th>\n",
       "      <td>dodge</td>\n",
       "      <td>dakota pickup 4wd</td>\n",
       "      <td>5.2</td>\n",
       "      <td>1999</td>\n",
       "      <td>8</td>\n",
       "      <td>manual(m5)</td>\n",
       "      <td>4</td>\n",
       "      <td>11</td>\n",
       "      <td>17</td>\n",
       "      <td>r</td>\n",
       "      <td>pickup</td>\n",
       "    </tr>\n",
       "  </tbody>\n",
       "</table>\n",
       "</div>"
      ],
      "text/plain": [
       "   manufacturer              model  displ  year  cyl       trans drv  cty  \\\n",
       "94         ford            mustang    4.0  2008    6    auto(l5)   r   16   \n",
       "78         ford       explorer 4wd    4.0  1999    6    auto(l5)   4   14   \n",
       "56        dodge  dakota pickup 4wd    5.2  1999    8  manual(m5)   4   11   \n",
       "\n",
       "    hwy fl       class  \n",
       "94   24  r  subcompact  \n",
       "78   17  r         suv  \n",
       "56   17  r      pickup  "
      ]
     },
     "execution_count": 20,
     "metadata": {},
     "output_type": "execute_result"
    }
   ],
   "source": [
    "mpg = pdat.data('mpg')\n",
    "mpg.sample(3)"
   ]
  },
  {
   "cell_type": "markdown",
   "id": "b78adc60",
   "metadata": {},
   "source": [
    "$H_0$ : manufacturer and automatic/non-automatic are independent"
   ]
  },
  {
   "cell_type": "code",
   "execution_count": 24,
   "id": "7e16439a",
   "metadata": {},
   "outputs": [
    {
     "data": {
      "text/html": [
       "<div>\n",
       "<style scoped>\n",
       "    .dataframe tbody tr th:only-of-type {\n",
       "        vertical-align: middle;\n",
       "    }\n",
       "\n",
       "    .dataframe tbody tr th {\n",
       "        vertical-align: top;\n",
       "    }\n",
       "\n",
       "    .dataframe thead th {\n",
       "        text-align: right;\n",
       "    }\n",
       "</style>\n",
       "<table border=\"1\" class=\"dataframe\">\n",
       "  <thead>\n",
       "    <tr style=\"text-align: right;\">\n",
       "      <th></th>\n",
       "      <th>manufacturer</th>\n",
       "      <th>model</th>\n",
       "      <th>displ</th>\n",
       "      <th>year</th>\n",
       "      <th>cyl</th>\n",
       "      <th>trans</th>\n",
       "      <th>drv</th>\n",
       "      <th>cty</th>\n",
       "      <th>hwy</th>\n",
       "      <th>fl</th>\n",
       "      <th>class</th>\n",
       "      <th>automatic</th>\n",
       "    </tr>\n",
       "  </thead>\n",
       "  <tbody>\n",
       "    <tr>\n",
       "      <th>1</th>\n",
       "      <td>audi</td>\n",
       "      <td>a4</td>\n",
       "      <td>1.8</td>\n",
       "      <td>1999</td>\n",
       "      <td>4</td>\n",
       "      <td>auto(l5)</td>\n",
       "      <td>f</td>\n",
       "      <td>18</td>\n",
       "      <td>29</td>\n",
       "      <td>p</td>\n",
       "      <td>compact</td>\n",
       "      <td>True</td>\n",
       "    </tr>\n",
       "    <tr>\n",
       "      <th>2</th>\n",
       "      <td>audi</td>\n",
       "      <td>a4</td>\n",
       "      <td>1.8</td>\n",
       "      <td>1999</td>\n",
       "      <td>4</td>\n",
       "      <td>manual(m5)</td>\n",
       "      <td>f</td>\n",
       "      <td>21</td>\n",
       "      <td>29</td>\n",
       "      <td>p</td>\n",
       "      <td>compact</td>\n",
       "      <td>False</td>\n",
       "    </tr>\n",
       "    <tr>\n",
       "      <th>3</th>\n",
       "      <td>audi</td>\n",
       "      <td>a4</td>\n",
       "      <td>2.0</td>\n",
       "      <td>2008</td>\n",
       "      <td>4</td>\n",
       "      <td>manual(m6)</td>\n",
       "      <td>f</td>\n",
       "      <td>20</td>\n",
       "      <td>31</td>\n",
       "      <td>p</td>\n",
       "      <td>compact</td>\n",
       "      <td>False</td>\n",
       "    </tr>\n",
       "    <tr>\n",
       "      <th>4</th>\n",
       "      <td>audi</td>\n",
       "      <td>a4</td>\n",
       "      <td>2.0</td>\n",
       "      <td>2008</td>\n",
       "      <td>4</td>\n",
       "      <td>auto(av)</td>\n",
       "      <td>f</td>\n",
       "      <td>21</td>\n",
       "      <td>30</td>\n",
       "      <td>p</td>\n",
       "      <td>compact</td>\n",
       "      <td>True</td>\n",
       "    </tr>\n",
       "    <tr>\n",
       "      <th>5</th>\n",
       "      <td>audi</td>\n",
       "      <td>a4</td>\n",
       "      <td>2.8</td>\n",
       "      <td>1999</td>\n",
       "      <td>6</td>\n",
       "      <td>auto(l5)</td>\n",
       "      <td>f</td>\n",
       "      <td>16</td>\n",
       "      <td>26</td>\n",
       "      <td>p</td>\n",
       "      <td>compact</td>\n",
       "      <td>True</td>\n",
       "    </tr>\n",
       "    <tr>\n",
       "      <th>...</th>\n",
       "      <td>...</td>\n",
       "      <td>...</td>\n",
       "      <td>...</td>\n",
       "      <td>...</td>\n",
       "      <td>...</td>\n",
       "      <td>...</td>\n",
       "      <td>...</td>\n",
       "      <td>...</td>\n",
       "      <td>...</td>\n",
       "      <td>...</td>\n",
       "      <td>...</td>\n",
       "      <td>...</td>\n",
       "    </tr>\n",
       "    <tr>\n",
       "      <th>230</th>\n",
       "      <td>volkswagen</td>\n",
       "      <td>passat</td>\n",
       "      <td>2.0</td>\n",
       "      <td>2008</td>\n",
       "      <td>4</td>\n",
       "      <td>auto(s6)</td>\n",
       "      <td>f</td>\n",
       "      <td>19</td>\n",
       "      <td>28</td>\n",
       "      <td>p</td>\n",
       "      <td>midsize</td>\n",
       "      <td>True</td>\n",
       "    </tr>\n",
       "    <tr>\n",
       "      <th>231</th>\n",
       "      <td>volkswagen</td>\n",
       "      <td>passat</td>\n",
       "      <td>2.0</td>\n",
       "      <td>2008</td>\n",
       "      <td>4</td>\n",
       "      <td>manual(m6)</td>\n",
       "      <td>f</td>\n",
       "      <td>21</td>\n",
       "      <td>29</td>\n",
       "      <td>p</td>\n",
       "      <td>midsize</td>\n",
       "      <td>False</td>\n",
       "    </tr>\n",
       "    <tr>\n",
       "      <th>232</th>\n",
       "      <td>volkswagen</td>\n",
       "      <td>passat</td>\n",
       "      <td>2.8</td>\n",
       "      <td>1999</td>\n",
       "      <td>6</td>\n",
       "      <td>auto(l5)</td>\n",
       "      <td>f</td>\n",
       "      <td>16</td>\n",
       "      <td>26</td>\n",
       "      <td>p</td>\n",
       "      <td>midsize</td>\n",
       "      <td>True</td>\n",
       "    </tr>\n",
       "    <tr>\n",
       "      <th>233</th>\n",
       "      <td>volkswagen</td>\n",
       "      <td>passat</td>\n",
       "      <td>2.8</td>\n",
       "      <td>1999</td>\n",
       "      <td>6</td>\n",
       "      <td>manual(m5)</td>\n",
       "      <td>f</td>\n",
       "      <td>18</td>\n",
       "      <td>26</td>\n",
       "      <td>p</td>\n",
       "      <td>midsize</td>\n",
       "      <td>False</td>\n",
       "    </tr>\n",
       "    <tr>\n",
       "      <th>234</th>\n",
       "      <td>volkswagen</td>\n",
       "      <td>passat</td>\n",
       "      <td>3.6</td>\n",
       "      <td>2008</td>\n",
       "      <td>6</td>\n",
       "      <td>auto(s6)</td>\n",
       "      <td>f</td>\n",
       "      <td>17</td>\n",
       "      <td>26</td>\n",
       "      <td>p</td>\n",
       "      <td>midsize</td>\n",
       "      <td>True</td>\n",
       "    </tr>\n",
       "  </tbody>\n",
       "</table>\n",
       "<p>234 rows × 12 columns</p>\n",
       "</div>"
      ],
      "text/plain": [
       "    manufacturer   model  displ  year  cyl       trans drv  cty  hwy fl  \\\n",
       "1           audi      a4    1.8  1999    4    auto(l5)   f   18   29  p   \n",
       "2           audi      a4    1.8  1999    4  manual(m5)   f   21   29  p   \n",
       "3           audi      a4    2.0  2008    4  manual(m6)   f   20   31  p   \n",
       "4           audi      a4    2.0  2008    4    auto(av)   f   21   30  p   \n",
       "5           audi      a4    2.8  1999    6    auto(l5)   f   16   26  p   \n",
       "..           ...     ...    ...   ...  ...         ...  ..  ...  ... ..   \n",
       "230   volkswagen  passat    2.0  2008    4    auto(s6)   f   19   28  p   \n",
       "231   volkswagen  passat    2.0  2008    4  manual(m6)   f   21   29  p   \n",
       "232   volkswagen  passat    2.8  1999    6    auto(l5)   f   16   26  p   \n",
       "233   volkswagen  passat    2.8  1999    6  manual(m5)   f   18   26  p   \n",
       "234   volkswagen  passat    3.6  2008    6    auto(s6)   f   17   26  p   \n",
       "\n",
       "       class  automatic  \n",
       "1    compact       True  \n",
       "2    compact      False  \n",
       "3    compact      False  \n",
       "4    compact       True  \n",
       "5    compact       True  \n",
       "..       ...        ...  \n",
       "230  midsize       True  \n",
       "231  midsize      False  \n",
       "232  midsize       True  \n",
       "233  midsize      False  \n",
       "234  midsize       True  \n",
       "\n",
       "[234 rows x 12 columns]"
      ]
     },
     "execution_count": 24,
     "metadata": {},
     "output_type": "execute_result"
    }
   ],
   "source": [
    "mpg['automatic'] = mpg.trans.str.contains('auto')\n",
    "mpg"
   ]
  },
  {
   "cell_type": "code",
   "execution_count": 36,
   "id": "16610f21",
   "metadata": {},
   "outputs": [
    {
     "data": {
      "text/html": [
       "<div>\n",
       "<style scoped>\n",
       "    .dataframe tbody tr th:only-of-type {\n",
       "        vertical-align: middle;\n",
       "    }\n",
       "\n",
       "    .dataframe tbody tr th {\n",
       "        vertical-align: top;\n",
       "    }\n",
       "\n",
       "    .dataframe thead th {\n",
       "        text-align: right;\n",
       "    }\n",
       "</style>\n",
       "<table border=\"1\" class=\"dataframe\">\n",
       "  <thead>\n",
       "    <tr style=\"text-align: right;\">\n",
       "      <th>automatic</th>\n",
       "      <th>False</th>\n",
       "      <th>True</th>\n",
       "    </tr>\n",
       "    <tr>\n",
       "      <th>manufacturer</th>\n",
       "      <th></th>\n",
       "      <th></th>\n",
       "    </tr>\n",
       "  </thead>\n",
       "  <tbody>\n",
       "    <tr>\n",
       "      <th>audi</th>\n",
       "      <td>7</td>\n",
       "      <td>11</td>\n",
       "    </tr>\n",
       "    <tr>\n",
       "      <th>chevrolet</th>\n",
       "      <td>3</td>\n",
       "      <td>16</td>\n",
       "    </tr>\n",
       "    <tr>\n",
       "      <th>dodge</th>\n",
       "      <td>7</td>\n",
       "      <td>30</td>\n",
       "    </tr>\n",
       "    <tr>\n",
       "      <th>ford</th>\n",
       "      <td>8</td>\n",
       "      <td>17</td>\n",
       "    </tr>\n",
       "    <tr>\n",
       "      <th>honda</th>\n",
       "      <td>5</td>\n",
       "      <td>4</td>\n",
       "    </tr>\n",
       "    <tr>\n",
       "      <th>hyundai</th>\n",
       "      <td>7</td>\n",
       "      <td>7</td>\n",
       "    </tr>\n",
       "    <tr>\n",
       "      <th>jeep</th>\n",
       "      <td>0</td>\n",
       "      <td>8</td>\n",
       "    </tr>\n",
       "    <tr>\n",
       "      <th>land rover</th>\n",
       "      <td>0</td>\n",
       "      <td>4</td>\n",
       "    </tr>\n",
       "    <tr>\n",
       "      <th>lincoln</th>\n",
       "      <td>0</td>\n",
       "      <td>3</td>\n",
       "    </tr>\n",
       "    <tr>\n",
       "      <th>mercury</th>\n",
       "      <td>0</td>\n",
       "      <td>4</td>\n",
       "    </tr>\n",
       "    <tr>\n",
       "      <th>nissan</th>\n",
       "      <td>5</td>\n",
       "      <td>8</td>\n",
       "    </tr>\n",
       "    <tr>\n",
       "      <th>pontiac</th>\n",
       "      <td>0</td>\n",
       "      <td>5</td>\n",
       "    </tr>\n",
       "    <tr>\n",
       "      <th>subaru</th>\n",
       "      <td>7</td>\n",
       "      <td>7</td>\n",
       "    </tr>\n",
       "    <tr>\n",
       "      <th>toyota</th>\n",
       "      <td>14</td>\n",
       "      <td>20</td>\n",
       "    </tr>\n",
       "    <tr>\n",
       "      <th>volkswagen</th>\n",
       "      <td>14</td>\n",
       "      <td>13</td>\n",
       "    </tr>\n",
       "  </tbody>\n",
       "</table>\n",
       "</div>"
      ],
      "text/plain": [
       "automatic     False  True\n",
       "manufacturer             \n",
       "audi              7    11\n",
       "chevrolet         3    16\n",
       "dodge             7    30\n",
       "ford              8    17\n",
       "honda             5     4\n",
       "hyundai           7     7\n",
       "jeep              0     8\n",
       "land rover        0     4\n",
       "lincoln           0     3\n",
       "mercury           0     4\n",
       "nissan            5     8\n",
       "pontiac           0     5\n",
       "subaru            7     7\n",
       "toyota           14    20\n",
       "volkswagen       14    13"
      ]
     },
     "execution_count": 36,
     "metadata": {},
     "output_type": "execute_result"
    }
   ],
   "source": [
    "observed = pd.crosstab(mpg.manufacturer, mpg.automatic)\n",
    "observed"
   ]
  },
  {
   "cell_type": "code",
   "execution_count": 33,
   "id": "3a26ea16",
   "metadata": {},
   "outputs": [
    {
     "data": {
      "text/plain": [
       "(0.00953444310358795, True)"
      ]
     },
     "execution_count": 33,
     "metadata": {},
     "output_type": "execute_result"
    }
   ],
   "source": [
    "chi2, p, degf, expected = stats.chi2_contingency(observed)\n",
    "p, p < alpha"
   ]
  },
  {
   "cell_type": "markdown",
   "id": "1cf8f7fd",
   "metadata": {},
   "source": [
    "There are grounds to reject $H_0$ - it is likely that manufacturer and automatic are dependent\n",
    "Noting that in the cross tab, some manufacturers have no manual cars"
   ]
  },
  {
   "cell_type": "markdown",
   "id": "a5e0ec72",
   "metadata": {},
   "source": [
    "$H_0$ : class and drv are independent"
   ]
  },
  {
   "cell_type": "code",
   "execution_count": 34,
   "id": "f76fac36",
   "metadata": {},
   "outputs": [
    {
     "data": {
      "text/html": [
       "<div>\n",
       "<style scoped>\n",
       "    .dataframe tbody tr th:only-of-type {\n",
       "        vertical-align: middle;\n",
       "    }\n",
       "\n",
       "    .dataframe tbody tr th {\n",
       "        vertical-align: top;\n",
       "    }\n",
       "\n",
       "    .dataframe thead th {\n",
       "        text-align: right;\n",
       "    }\n",
       "</style>\n",
       "<table border=\"1\" class=\"dataframe\">\n",
       "  <thead>\n",
       "    <tr style=\"text-align: right;\">\n",
       "      <th>drv</th>\n",
       "      <th>4</th>\n",
       "      <th>f</th>\n",
       "      <th>r</th>\n",
       "    </tr>\n",
       "    <tr>\n",
       "      <th>class</th>\n",
       "      <th></th>\n",
       "      <th></th>\n",
       "      <th></th>\n",
       "    </tr>\n",
       "  </thead>\n",
       "  <tbody>\n",
       "    <tr>\n",
       "      <th>2seater</th>\n",
       "      <td>0</td>\n",
       "      <td>0</td>\n",
       "      <td>5</td>\n",
       "    </tr>\n",
       "    <tr>\n",
       "      <th>compact</th>\n",
       "      <td>12</td>\n",
       "      <td>35</td>\n",
       "      <td>0</td>\n",
       "    </tr>\n",
       "    <tr>\n",
       "      <th>midsize</th>\n",
       "      <td>3</td>\n",
       "      <td>38</td>\n",
       "      <td>0</td>\n",
       "    </tr>\n",
       "    <tr>\n",
       "      <th>minivan</th>\n",
       "      <td>0</td>\n",
       "      <td>11</td>\n",
       "      <td>0</td>\n",
       "    </tr>\n",
       "    <tr>\n",
       "      <th>pickup</th>\n",
       "      <td>33</td>\n",
       "      <td>0</td>\n",
       "      <td>0</td>\n",
       "    </tr>\n",
       "    <tr>\n",
       "      <th>subcompact</th>\n",
       "      <td>4</td>\n",
       "      <td>22</td>\n",
       "      <td>9</td>\n",
       "    </tr>\n",
       "    <tr>\n",
       "      <th>suv</th>\n",
       "      <td>51</td>\n",
       "      <td>0</td>\n",
       "      <td>11</td>\n",
       "    </tr>\n",
       "  </tbody>\n",
       "</table>\n",
       "</div>"
      ],
      "text/plain": [
       "drv          4   f   r\n",
       "class                 \n",
       "2seater      0   0   5\n",
       "compact     12  35   0\n",
       "midsize      3  38   0\n",
       "minivan      0  11   0\n",
       "pickup      33   0   0\n",
       "subcompact   4  22   9\n",
       "suv         51   0  11"
      ]
     },
     "execution_count": 34,
     "metadata": {},
     "output_type": "execute_result"
    }
   ],
   "source": [
    "observed = pd.crosstab(mpg['class'], mpg['drv'])\n",
    "observed"
   ]
  },
  {
   "cell_type": "code",
   "execution_count": 35,
   "id": "77e9c6ca",
   "metadata": {},
   "outputs": [
    {
     "data": {
      "text/plain": [
       "(1.104881117447524e-40, True)"
      ]
     },
     "execution_count": 35,
     "metadata": {},
     "output_type": "execute_result"
    }
   ],
   "source": [
    "chi2, p, degf, expected = stats.chi2_contingency(observed)\n",
    "p, p < alpha"
   ]
  },
  {
   "cell_type": "markdown",
   "id": "386a5538",
   "metadata": {},
   "source": [
    "There are grounds to reject $H_0$ - it is likely that class and drv are dependent"
   ]
  },
  {
   "cell_type": "markdown",
   "id": "2fa90368",
   "metadata": {},
   "source": [
    "- Use the data from the employees database to answer these questions:\n",
    "    - Is an employee's gender independent of whether an employee works in sales or marketing? (only look at current employees)\n",
    "    - Is an employee's gender independent of whether or not they are or have been a manager?\n",
    "\n"
   ]
  },
  {
   "cell_type": "code",
   "execution_count": 45,
   "id": "26dfac0c",
   "metadata": {},
   "outputs": [
    {
     "data": {
      "text/html": [
       "<div>\n",
       "<style scoped>\n",
       "    .dataframe tbody tr th:only-of-type {\n",
       "        vertical-align: middle;\n",
       "    }\n",
       "\n",
       "    .dataframe tbody tr th {\n",
       "        vertical-align: top;\n",
       "    }\n",
       "\n",
       "    .dataframe thead th {\n",
       "        text-align: right;\n",
       "    }\n",
       "</style>\n",
       "<table border=\"1\" class=\"dataframe\">\n",
       "  <thead>\n",
       "    <tr style=\"text-align: right;\">\n",
       "      <th></th>\n",
       "      <th>emp_no</th>\n",
       "      <th>gender</th>\n",
       "      <th>dept_name</th>\n",
       "      <th>manager_bool</th>\n",
       "    </tr>\n",
       "  </thead>\n",
       "  <tbody>\n",
       "    <tr>\n",
       "      <th>0</th>\n",
       "      <td>10038</td>\n",
       "      <td>M</td>\n",
       "      <td>Customer Service</td>\n",
       "      <td>False</td>\n",
       "    </tr>\n",
       "    <tr>\n",
       "      <th>1</th>\n",
       "      <td>10049</td>\n",
       "      <td>F</td>\n",
       "      <td>Customer Service</td>\n",
       "      <td>False</td>\n",
       "    </tr>\n",
       "    <tr>\n",
       "      <th>2</th>\n",
       "      <td>10060</td>\n",
       "      <td>M</td>\n",
       "      <td>Customer Service</td>\n",
       "      <td>False</td>\n",
       "    </tr>\n",
       "    <tr>\n",
       "      <th>3</th>\n",
       "      <td>10088</td>\n",
       "      <td>F</td>\n",
       "      <td>Customer Service</td>\n",
       "      <td>False</td>\n",
       "    </tr>\n",
       "    <tr>\n",
       "      <th>4</th>\n",
       "      <td>10112</td>\n",
       "      <td>F</td>\n",
       "      <td>Customer Service</td>\n",
       "      <td>False</td>\n",
       "    </tr>\n",
       "    <tr>\n",
       "      <th>...</th>\n",
       "      <td>...</td>\n",
       "      <td>...</td>\n",
       "      <td>...</td>\n",
       "      <td>...</td>\n",
       "    </tr>\n",
       "    <tr>\n",
       "      <th>240119</th>\n",
       "      <td>499966</td>\n",
       "      <td>F</td>\n",
       "      <td>Sales</td>\n",
       "      <td>False</td>\n",
       "    </tr>\n",
       "    <tr>\n",
       "      <th>240120</th>\n",
       "      <td>499976</td>\n",
       "      <td>M</td>\n",
       "      <td>Sales</td>\n",
       "      <td>False</td>\n",
       "    </tr>\n",
       "    <tr>\n",
       "      <th>240121</th>\n",
       "      <td>499980</td>\n",
       "      <td>M</td>\n",
       "      <td>Sales</td>\n",
       "      <td>False</td>\n",
       "    </tr>\n",
       "    <tr>\n",
       "      <th>240122</th>\n",
       "      <td>499986</td>\n",
       "      <td>F</td>\n",
       "      <td>Sales</td>\n",
       "      <td>False</td>\n",
       "    </tr>\n",
       "    <tr>\n",
       "      <th>240123</th>\n",
       "      <td>499987</td>\n",
       "      <td>F</td>\n",
       "      <td>Sales</td>\n",
       "      <td>False</td>\n",
       "    </tr>\n",
       "  </tbody>\n",
       "</table>\n",
       "<p>240124 rows × 4 columns</p>\n",
       "</div>"
      ],
      "text/plain": [
       "        emp_no gender         dept_name manager_bool\n",
       "0        10038      M  Customer Service        False\n",
       "1        10049      F  Customer Service        False\n",
       "2        10060      M  Customer Service        False\n",
       "3        10088      F  Customer Service        False\n",
       "4        10112      F  Customer Service        False\n",
       "...        ...    ...               ...          ...\n",
       "240119  499966      F             Sales        False\n",
       "240120  499976      M             Sales        False\n",
       "240121  499980      M             Sales        False\n",
       "240122  499986      F             Sales        False\n",
       "240123  499987      F             Sales        False\n",
       "\n",
       "[240124 rows x 4 columns]"
      ]
     },
     "execution_count": 45,
     "metadata": {},
     "output_type": "execute_result"
    }
   ],
   "source": [
    "query = '''\n",
    "SELECT emp_no, gender, dept_name, IF(emp_no IN (SELECT emp_no FROM dept_manager), 'True', 'False') AS manager_bool\n",
    "\tFROM employees\n",
    "\t\tJOIN dept_emp USING (emp_no)\n",
    "        JOIN departments USING (dept_no)\n",
    "\tWHERE to_date > NOW();\n",
    "'''\n",
    "df_emp = pd.read_sql_query(query, env.get_db_url('employees'))\n",
    "df_emp"
   ]
  },
  {
   "cell_type": "code",
   "execution_count": 46,
   "id": "5bc4fdfa",
   "metadata": {},
   "outputs": [
    {
     "name": "stdout",
     "output_type": "stream",
     "text": [
      "<class 'pandas.core.frame.DataFrame'>\n",
      "RangeIndex: 240124 entries, 0 to 240123\n",
      "Data columns (total 4 columns):\n",
      " #   Column        Non-Null Count   Dtype \n",
      "---  ------        --------------   ----- \n",
      " 0   emp_no        240124 non-null  int64 \n",
      " 1   gender        240124 non-null  object\n",
      " 2   dept_name     240124 non-null  object\n",
      " 3   manager_bool  240124 non-null  object\n",
      "dtypes: int64(1), object(3)\n",
      "memory usage: 7.3+ MB\n"
     ]
    }
   ],
   "source": [
    "df_emp.info() #looks like manager bool is entered as a string"
   ]
  },
  {
   "cell_type": "markdown",
   "id": "71450d77",
   "metadata": {},
   "source": [
    "- Is an employee's gender independent of whether an employee works in sales or marketing? (only look at current employees)"
   ]
  },
  {
   "cell_type": "code",
   "execution_count": 86,
   "id": "569b388e",
   "metadata": {},
   "outputs": [
    {
     "data": {
      "text/html": [
       "<div>\n",
       "<style scoped>\n",
       "    .dataframe tbody tr th:only-of-type {\n",
       "        vertical-align: middle;\n",
       "    }\n",
       "\n",
       "    .dataframe tbody tr th {\n",
       "        vertical-align: top;\n",
       "    }\n",
       "\n",
       "    .dataframe thead th {\n",
       "        text-align: right;\n",
       "    }\n",
       "</style>\n",
       "<table border=\"1\" class=\"dataframe\">\n",
       "  <thead>\n",
       "    <tr style=\"text-align: right;\">\n",
       "      <th></th>\n",
       "      <th>emp_no</th>\n",
       "      <th>gender</th>\n",
       "      <th>dept_name</th>\n",
       "      <th>manager_bool</th>\n",
       "      <th>sales_marketing_bool</th>\n",
       "    </tr>\n",
       "  </thead>\n",
       "  <tbody>\n",
       "    <tr>\n",
       "      <th>0</th>\n",
       "      <td>10038</td>\n",
       "      <td>M</td>\n",
       "      <td>Customer Service</td>\n",
       "      <td>False</td>\n",
       "      <td>False</td>\n",
       "    </tr>\n",
       "    <tr>\n",
       "      <th>1</th>\n",
       "      <td>10049</td>\n",
       "      <td>F</td>\n",
       "      <td>Customer Service</td>\n",
       "      <td>False</td>\n",
       "      <td>False</td>\n",
       "    </tr>\n",
       "    <tr>\n",
       "      <th>2</th>\n",
       "      <td>10060</td>\n",
       "      <td>M</td>\n",
       "      <td>Customer Service</td>\n",
       "      <td>False</td>\n",
       "      <td>False</td>\n",
       "    </tr>\n",
       "    <tr>\n",
       "      <th>3</th>\n",
       "      <td>10088</td>\n",
       "      <td>F</td>\n",
       "      <td>Customer Service</td>\n",
       "      <td>False</td>\n",
       "      <td>False</td>\n",
       "    </tr>\n",
       "    <tr>\n",
       "      <th>4</th>\n",
       "      <td>10112</td>\n",
       "      <td>F</td>\n",
       "      <td>Customer Service</td>\n",
       "      <td>False</td>\n",
       "      <td>False</td>\n",
       "    </tr>\n",
       "    <tr>\n",
       "      <th>...</th>\n",
       "      <td>...</td>\n",
       "      <td>...</td>\n",
       "      <td>...</td>\n",
       "      <td>...</td>\n",
       "      <td>...</td>\n",
       "    </tr>\n",
       "    <tr>\n",
       "      <th>240119</th>\n",
       "      <td>499966</td>\n",
       "      <td>F</td>\n",
       "      <td>Sales</td>\n",
       "      <td>False</td>\n",
       "      <td>True</td>\n",
       "    </tr>\n",
       "    <tr>\n",
       "      <th>240120</th>\n",
       "      <td>499976</td>\n",
       "      <td>M</td>\n",
       "      <td>Sales</td>\n",
       "      <td>False</td>\n",
       "      <td>True</td>\n",
       "    </tr>\n",
       "    <tr>\n",
       "      <th>240121</th>\n",
       "      <td>499980</td>\n",
       "      <td>M</td>\n",
       "      <td>Sales</td>\n",
       "      <td>False</td>\n",
       "      <td>True</td>\n",
       "    </tr>\n",
       "    <tr>\n",
       "      <th>240122</th>\n",
       "      <td>499986</td>\n",
       "      <td>F</td>\n",
       "      <td>Sales</td>\n",
       "      <td>False</td>\n",
       "      <td>True</td>\n",
       "    </tr>\n",
       "    <tr>\n",
       "      <th>240123</th>\n",
       "      <td>499987</td>\n",
       "      <td>F</td>\n",
       "      <td>Sales</td>\n",
       "      <td>False</td>\n",
       "      <td>True</td>\n",
       "    </tr>\n",
       "  </tbody>\n",
       "</table>\n",
       "<p>240124 rows × 5 columns</p>\n",
       "</div>"
      ],
      "text/plain": [
       "        emp_no gender         dept_name manager_bool  sales_marketing_bool\n",
       "0        10038      M  Customer Service        False                 False\n",
       "1        10049      F  Customer Service        False                 False\n",
       "2        10060      M  Customer Service        False                 False\n",
       "3        10088      F  Customer Service        False                 False\n",
       "4        10112      F  Customer Service        False                 False\n",
       "...        ...    ...               ...          ...                   ...\n",
       "240119  499966      F             Sales        False                  True\n",
       "240120  499976      M             Sales        False                  True\n",
       "240121  499980      M             Sales        False                  True\n",
       "240122  499986      F             Sales        False                  True\n",
       "240123  499987      F             Sales        False                  True\n",
       "\n",
       "[240124 rows x 5 columns]"
      ]
     },
     "execution_count": 86,
     "metadata": {},
     "output_type": "execute_result"
    }
   ],
   "source": [
    "#make a boolean column for sales and marketing\n",
    "df_emp['sales_marketing_bool'] = df_emp.dept_name.isin(['Sales', 'Marketing'])\n",
    "df_emp"
   ]
  },
  {
   "cell_type": "markdown",
   "id": "8a0a4576",
   "metadata": {},
   "source": [
    "$H_0$ : sales and marketing employees are independent of gender"
   ]
  },
  {
   "cell_type": "code",
   "execution_count": 98,
   "id": "57b2db52",
   "metadata": {},
   "outputs": [
    {
     "data": {
      "text/html": [
       "<div>\n",
       "<style scoped>\n",
       "    .dataframe tbody tr th:only-of-type {\n",
       "        vertical-align: middle;\n",
       "    }\n",
       "\n",
       "    .dataframe tbody tr th {\n",
       "        vertical-align: top;\n",
       "    }\n",
       "\n",
       "    .dataframe thead th {\n",
       "        text-align: right;\n",
       "    }\n",
       "</style>\n",
       "<table border=\"1\" class=\"dataframe\">\n",
       "  <thead>\n",
       "    <tr style=\"text-align: right;\">\n",
       "      <th>dept_name</th>\n",
       "      <th>Marketing</th>\n",
       "      <th>Sales</th>\n",
       "    </tr>\n",
       "    <tr>\n",
       "      <th>gender</th>\n",
       "      <th></th>\n",
       "      <th></th>\n",
       "    </tr>\n",
       "  </thead>\n",
       "  <tbody>\n",
       "    <tr>\n",
       "      <th>F</th>\n",
       "      <td>5864</td>\n",
       "      <td>14999</td>\n",
       "    </tr>\n",
       "    <tr>\n",
       "      <th>M</th>\n",
       "      <td>8978</td>\n",
       "      <td>22702</td>\n",
       "    </tr>\n",
       "  </tbody>\n",
       "</table>\n",
       "</div>"
      ],
      "text/plain": [
       "dept_name  Marketing  Sales\n",
       "gender                     \n",
       "F               5864  14999\n",
       "M               8978  22702"
      ]
     },
     "execution_count": 98,
     "metadata": {},
     "output_type": "execute_result"
    }
   ],
   "source": [
    "#make a crosstab\n",
    "df_marketing_sales = df_emp[df_emp.sales_marketing_bool]\n",
    "observed = pd.crosstab(df_marketing_sales.gender, df_marketing_sales.dept_name)\n",
    "observed"
   ]
  },
  {
   "cell_type": "code",
   "execution_count": 99,
   "id": "9076c19d",
   "metadata": {},
   "outputs": [
    {
     "data": {
      "text/plain": [
       "(0.3240332004060638,\n",
       " 0.5691938610810126,\n",
       " 1,\n",
       " array([[ 5893.2426013, 14969.7573987],\n",
       "        [ 8948.7573987, 22731.2426013]]))"
      ]
     },
     "execution_count": 99,
     "metadata": {},
     "output_type": "execute_result"
    }
   ],
   "source": [
    "chi2, p, degf, expected = stats.chi2_contingency(observed)\n",
    "chi2, p, degf, expected"
   ]
  },
  {
   "cell_type": "code",
   "execution_count": 100,
   "id": "fd8c34b6",
   "metadata": {},
   "outputs": [
    {
     "data": {
      "text/plain": [
       "(0.5691938610810126, False)"
      ]
     },
     "execution_count": 100,
     "metadata": {},
     "output_type": "execute_result"
    }
   ],
   "source": [
    "p, p < alpha"
   ]
  },
  {
   "cell_type": "markdown",
   "id": "63cb7f0b",
   "metadata": {},
   "source": [
    "$H_0$ is likely true. gender is indpendent of being a sales and marketing employee"
   ]
  },
  {
   "cell_type": "markdown",
   "id": "3d90c8c5",
   "metadata": {},
   "source": [
    "- Is an employee's gender independent of whether or not they are or have been a manager?"
   ]
  },
  {
   "cell_type": "markdown",
   "id": "5996b537",
   "metadata": {},
   "source": [
    "$H_0$ : gender and being a manager are independent"
   ]
  },
  {
   "cell_type": "code",
   "execution_count": 91,
   "id": "5d424ad1",
   "metadata": {},
   "outputs": [
    {
     "data": {
      "text/html": [
       "<div>\n",
       "<style scoped>\n",
       "    .dataframe tbody tr th:only-of-type {\n",
       "        vertical-align: middle;\n",
       "    }\n",
       "\n",
       "    .dataframe tbody tr th {\n",
       "        vertical-align: top;\n",
       "    }\n",
       "\n",
       "    .dataframe thead th {\n",
       "        text-align: right;\n",
       "    }\n",
       "</style>\n",
       "<table border=\"1\" class=\"dataframe\">\n",
       "  <thead>\n",
       "    <tr style=\"text-align: right;\">\n",
       "      <th>manager_bool</th>\n",
       "      <th>False</th>\n",
       "      <th>True</th>\n",
       "    </tr>\n",
       "    <tr>\n",
       "      <th>gender</th>\n",
       "      <th></th>\n",
       "      <th></th>\n",
       "    </tr>\n",
       "  </thead>\n",
       "  <tbody>\n",
       "    <tr>\n",
       "      <th>F</th>\n",
       "      <td>95997</td>\n",
       "      <td>13</td>\n",
       "    </tr>\n",
       "    <tr>\n",
       "      <th>M</th>\n",
       "      <td>144103</td>\n",
       "      <td>11</td>\n",
       "    </tr>\n",
       "  </tbody>\n",
       "</table>\n",
       "</div>"
      ],
      "text/plain": [
       "manager_bool   False  True\n",
       "gender                    \n",
       "F              95997    13\n",
       "M             144103    11"
      ]
     },
     "execution_count": 91,
     "metadata": {},
     "output_type": "execute_result"
    }
   ],
   "source": [
    "#make a crosstab\n",
    "observed = pd.crosstab(df_emp.gender, df_emp.manager_bool)\n",
    "observed"
   ]
  },
  {
   "cell_type": "code",
   "execution_count": 92,
   "id": "010e8ad9",
   "metadata": {},
   "outputs": [
    {
     "data": {
      "text/plain": [
       "(1.4644053674773516,\n",
       " 0.22623047939647867,\n",
       " 1,\n",
       " array([[9.60004040e+04, 9.59604204e+00],\n",
       "        [1.44099596e+05, 1.44039580e+01]]))"
      ]
     },
     "execution_count": 92,
     "metadata": {},
     "output_type": "execute_result"
    }
   ],
   "source": [
    "chi2, p, degf, expected = stats.chi2_contingency(observed)\n",
    "chi2, p, degf, expected"
   ]
  },
  {
   "cell_type": "code",
   "execution_count": 93,
   "id": "f4ac5764",
   "metadata": {},
   "outputs": [
    {
     "data": {
      "text/plain": [
       "(0.22623047939647867, False)"
      ]
     },
     "execution_count": 93,
     "metadata": {},
     "output_type": "execute_result"
    }
   ],
   "source": [
    "p, p < alpha"
   ]
  },
  {
   "cell_type": "markdown",
   "id": "26d4af6e",
   "metadata": {},
   "source": [
    "$H_0$ is likely true.  Being a manager and being a gender are independent"
   ]
  }
 ],
 "metadata": {
  "kernelspec": {
   "display_name": "Python 3 (ipykernel)",
   "language": "python",
   "name": "python3"
  },
  "language_info": {
   "codemirror_mode": {
    "name": "ipython",
    "version": 3
   },
   "file_extension": ".py",
   "mimetype": "text/x-python",
   "name": "python",
   "nbconvert_exporter": "python",
   "pygments_lexer": "ipython3",
   "version": "3.9.7"
  }
 },
 "nbformat": 4,
 "nbformat_minor": 5
}
